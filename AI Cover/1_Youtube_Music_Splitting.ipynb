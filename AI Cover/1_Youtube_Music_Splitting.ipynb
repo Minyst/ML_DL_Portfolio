{
  "nbformat": 4,
  "nbformat_minor": 0,
  "metadata": {
    "colab": {
      "provenance": [],
      "gpuType": "T4",
      "include_colab_link": true
    },
    "kernelspec": {
      "name": "python3",
      "display_name": "Python 3"
    },
    "language_info": {
      "name": "python"
    },
    "accelerator": "GPU"
  },
  "cells": [
    {
      "cell_type": "markdown",
      "metadata": {
        "id": "view-in-github",
        "colab_type": "text"
      },
      "source": [
        "<a href=\"https://colab.research.google.com/github/Minyst/ML_DL_Portfolio_KR/blob/main/AI%20Cover/1_Youtube_Music_Splitting.ipynb\" target=\"_parent\"><img src=\"https://colab.research.google.com/assets/colab-badge.svg\" alt=\"Open In Colab\"/></a>"
      ]
    },
    {
      "cell_type": "markdown",
      "source": [
        "#Youtube Music Splitting"
      ],
      "metadata": {
        "id": "sDraxeaqAQp6"
      }
    },
    {
      "cell_type": "code",
      "source": [
        "from google.colab import drive\n",
        "drive.mount('/content/drive', force_remount=True)"
      ],
      "metadata": {
        "id": "4ZQBIPAu6JF0"
      },
      "execution_count": null,
      "outputs": []
    },
    {
      "cell_type": "markdown",
      "source": [
        "# Package Download"
      ],
      "metadata": {
        "id": "XN3D2ChUBQ2Z"
      }
    },
    {
      "cell_type": "code",
      "source": [
        "!pip install -q yt_dlp\n",
        "!pip install -q ffmpeg\n",
        "!pip install -q demucs"
      ],
      "metadata": {
        "id": "MFM2nr6lBUbU"
      },
      "execution_count": null,
      "outputs": []
    },
    {
      "cell_type": "markdown",
      "source": [
        "# Import Packages"
      ],
      "metadata": {
        "id": "xs6Ro_QgBBiR"
      }
    },
    {
      "cell_type": "code",
      "source": [
        "from __future__ import unicode_literals\n",
        "import os\n",
        "import sys\n",
        "import shutil\n",
        "import yt_dlp\n",
        "import ffmpeg\n",
        "import demucs\n",
        "import time\n",
        "import glob"
      ],
      "metadata": {
        "id": "tkMS3xcOBM_R"
      },
      "execution_count": null,
      "outputs": []
    },
    {
      "cell_type": "markdown",
      "source": [
        "# Music Download & Split Music\n",
        "#####split music - vocals and no vocals(MR,BGM)\n",
        "#####Park Hyo Shin(박효신)\n",
        "#####추억은 사랑을 닮아: https://youtu.be/KaOzQqE-fwQ?si=LfjlrQbyMFu8h5ck,\n",
        "#####야생화: https://youtu.be/OxgiiyLp5pk?si=m-vMnP6ZyJMiGEs7,\n",
        "#####눈의꽃: https://youtu.be/BY4sHNaV4WU?si=eFUJ2iGr6FzW2cVK,\n",
        "#####Gift: https://youtu.be/haM03BYST8c?si=hxlvtp4ifWLHT3by,\n",
        "#####동경: https://youtu.be/xdQZqb0glnI?si=ZFjrLHqYaI-icfhj\n",
        "\n",
        "\n"
      ],
      "metadata": {
        "id": "Fj3gAX8a-4_y"
      }
    },
    {
      "cell_type": "markdown",
      "source": [
        "#Python version"
      ],
      "metadata": {
        "id": "QwPzFPTzxj2E"
      }
    },
    {
      "cell_type": "code",
      "source": [
        "base_dir = \"/content/drive/MyDrive/AICover\"\n",
        "os.makedirs(base_dir, exist_ok=True)\n",
        "dir_name = \"PHS\"\n",
        "os.makedirs(f\"{base_dir}/{dir_name}\", exist_ok=True)\n",
        "\n",
        "youtube_url = [\n",
        "    \"https://youtu.be/KaOzQqE-fwQ?si=LfjlrQbyMFu8h5ck\",\n",
        "    \"https://youtu.be/OxgiiyLp5pk?si=m-vMnP6ZyJMiGEs7\",\n",
        "    \"https://youtu.be/BY4sHNaV4WU?si=eFUJ2iGr6FzW2cVK\",\n",
        "    \"https://youtu.be/haM03BYST8c?si=hxlvtp4ifWLHT3by\",\n",
        "    \"https://youtu.be/xdQZqb0glnI?si=ZFjrLHqYaI-icfhj\"\n",
        "]\n",
        "\n",
        "music = [\"추억은사랑을닮아\", \"야생화\", \"눈의꽃\", \"Gift\", \"동경\"]\n",
        "\n",
        "for i, link in enumerate(youtube_url):\n",
        "    ydl_opts = {\n",
        "        'format': 'bestaudio/best',\n",
        "        'postprocessors': [{\n",
        "            'key': 'FFmpegExtractAudio',\n",
        "            'preferredcodec': 'wav',\n",
        "        }],\n",
        "        \"outtmpl\": f'{base_dir}/{dir_name}/{music[i]}',\n",
        "    }\n",
        "\n",
        "\n",
        "    with yt_dlp.YoutubeDL(ydl_opts) as ydl:\n",
        "        ydl.download([link])\n",
        "\n",
        "    audio_url = f\"{base_dir}/{dir_name}/{music[i]}.wav\"\n",
        "    !demucs --two-stems=vocals {audio_url}\n",
        "\n",
        "    files_to_delete_1 = glob.glob(f\"/content/separated/htdemucs/{music[i]}/no_vocals.wav\")\n",
        "    for file in files_to_delete_1:\n",
        "        os.remove(file)\n",
        "\n",
        "    files_to_move = glob.glob(\"/content/separated/htdemucs/*\")\n",
        "    for file in files_to_move:\n",
        "        shutil.move(file, f'{base_dir}/{dir_name}')\n",
        "\n",
        "files_to_delete_2 = glob.glob(f\"{base_dir}/{dir_name}/*.wav\")\n",
        "for file in files_to_delete_2:\n",
        "    os.remove(file)"
      ],
      "metadata": {
        "id": "SCvnqsmR6kTx"
      },
      "execution_count": null,
      "outputs": []
    },
    {
      "cell_type": "markdown",
      "source": [
        "#Linux version"
      ],
      "metadata": {
        "id": "1V6ItKYPxbS5"
      }
    },
    {
      "cell_type": "code",
      "source": [
        "base_dir = \"/content/drive/MyDrive/AICover\"\n",
        "os.makedirs(base_dir, exist_ok=True)\n",
        "dir_name = \"PHS\"\n",
        "os.makedirs(f\"{base_dir}/{dir_name}\", exist_ok=True)\n",
        "\n",
        "youtube_url = [\n",
        "    \"https://youtu.be/KaOzQqE-fwQ?si=LfjlrQbyMFu8h5ck\",\n",
        "    \"https://youtu.be/OxgiiyLp5pk?si=m-vMnP6ZyJMiGEs7\",\n",
        "    \"https://youtu.be/BY4sHNaV4WU?si=eFUJ2iGr6FzW2cVK\",\n",
        "    \"https://youtu.be/haM03BYST8c?si=hxlvtp4ifWLHT3by\",\n",
        "    \"https://youtu.be/xdQZqb0glnI?si=ZFjrLHqYaI-icfhj\"\n",
        "]\n",
        "\n",
        "music = [\"추억은사랑을닮아\", \"야생화\", \"눈의꽃\", \"Gift\", \"동경\"]\n",
        "\n",
        "for i, link in enumerate(youtube_url):\n",
        "    ydl_opts = {\n",
        "        'format': 'bestaudio/best',\n",
        "        'postprocessors': [{\n",
        "            'key': 'FFmpegExtractAudio',\n",
        "            'preferredcodec': 'wav',\n",
        "        }],\n",
        "        \"outtmpl\": f'{base_dir}/{dir_name}/{music[i]}',\n",
        "    }\n",
        "    with yt_dlp.YoutubeDL(ydl_opts) as ydl:\n",
        "        ydl.download([link])\n",
        "\n",
        "    audio_url = f\"{base_dir}/{dir_name}/{music[i]}.wav\"\n",
        "\n",
        "    !demucs --two-stems=vocals {audio_url}\n",
        "    !rm -rf /content/separated/htdemucs/{music[i]}/*no_vocals.wav\n",
        "    !mv /content/separated/htdemucs/* {base_dir}/{dir_name}\n",
        "!rm -rf /content/drive/MyDrive/AICover/PHS/*.wav"
      ],
      "metadata": {
        "id": "tvnNjDzmLRu4"
      },
      "execution_count": null,
      "outputs": []
    },
    {
      "cell_type": "markdown",
      "source": [
        "## Principle of Demucs\n",
        "https://github.com/facebookresearch/demucs"
      ],
      "metadata": {
        "id": "2UUydkmeBhBq"
      }
    },
    {
      "cell_type": "markdown",
      "source": [
        "\n",
        "![](https://raw.githubusercontent.com/facebookresearch/demucs/main/demucs.png)"
      ],
      "metadata": {
        "id": "4cKx4w1Tr0f3"
      }
    }
  ]
}