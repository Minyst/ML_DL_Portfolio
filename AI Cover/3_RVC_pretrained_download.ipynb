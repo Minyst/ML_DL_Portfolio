{
  "nbformat": 4,
  "nbformat_minor": 0,
  "metadata": {
    "colab": {
      "provenance": [],
      "include_colab_link": true
    },
    "kernelspec": {
      "name": "python3",
      "display_name": "Python 3"
    },
    "language_info": {
      "name": "python"
    }
  },
  "cells": [
    {
      "cell_type": "markdown",
      "metadata": {
        "id": "view-in-github",
        "colab_type": "text"
      },
      "source": [
        "<a href=\"https://colab.research.google.com/github/Minyst/ML_DL_Portfolio_KR/blob/main/AI%20Cover/3_RVC_pretrained_download.ipynb\" target=\"_parent\"><img src=\"https://colab.research.google.com/assets/colab-badge.svg\" alt=\"Open In Colab\"/></a>"
      ]
    },
    {
      "cell_type": "code",
      "source": [
        "from huggingface_hub import hf_hub_download, snapshot_download"
      ],
      "metadata": {
        "id": "FQI_SCj5UcNs"
      },
      "execution_count": null,
      "outputs": []
    },
    {
      "cell_type": "code",
      "source": [
        "!rm /content/drive/MyDrive/assets/RVC.zip\n",
        "!git clone https://github.com/RVC-Project/Retrieval-based-Voice-Conversion-WebUI.git\n",
        "!mv /content/Retrieval-based-Voice-Conversion-WebUI /content/RVC"
      ],
      "metadata": {
        "id": "6FfvNtTJT_EM"
      },
      "execution_count": null,
      "outputs": []
    },
    {
      "cell_type": "code",
      "source": [
        "snapshot_download(\"lj1995/VoiceConversionWebUI\", allow_patterns=\"pretrained_v2/*.pth\", local_dir=f\"/content/RVC/assets\")"
      ],
      "metadata": {
        "id": "4OvI73VFUhf3"
      },
      "execution_count": null,
      "outputs": []
    },
    {
      "cell_type": "code",
      "source": [
        "hf_hub_download(\"lj1995/VoiceConversionWebUI\", filename=\"rmvpe.pt\", local_dir=\"/content/RVC/assets/rmvpe\")"
      ],
      "metadata": {
        "id": "OXWRaq11XYbg"
      },
      "execution_count": null,
      "outputs": []
    },
    {
      "cell_type": "code",
      "source": [
        "hf_hub_download(\"lj1995/VoiceConversionWebUI\", filename=\"hubert_base.pt\", local_dir=\"/content/RVC/assets/hubert\")"
      ],
      "metadata": {
        "id": "TOnK1O8UXtd0"
      },
      "execution_count": null,
      "outputs": []
    },
    {
      "cell_type": "code",
      "source": [
        "!zip -r RVC.zip RVC"
      ],
      "metadata": {
        "id": "m-0ORiLYZxya"
      },
      "execution_count": null,
      "outputs": []
    },
    {
      "cell_type": "code",
      "source": [
        "!mv RVC.zip /content/drive/MyDrive/AICover/RVC.zip"
      ],
      "metadata": {
        "id": "Pf5OxuMlZ5Oe"
      },
      "execution_count": null,
      "outputs": []
    }
  ]
}