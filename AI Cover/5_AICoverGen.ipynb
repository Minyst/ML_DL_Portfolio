{
  "cells": [
    {
      "cell_type": "markdown",
      "metadata": {
        "id": "view-in-github",
        "colab_type": "text"
      },
      "source": [
        "<a href=\"https://colab.research.google.com/github/Minyst/ML_DL_Portfolio_KR/blob/main/AI%20Cover/5_AICoverGen.ipynb\" target=\"_parent\"><img src=\"https://colab.research.google.com/assets/colab-badge.svg\" alt=\"Open In Colab\"/></a>"
      ]
    },
    {
      "cell_type": "code",
      "execution_count": null,
      "metadata": {
        "id": "MoJ9n8cqlaUR"
      },
      "outputs": [],
      "source": [
        "#@title Mount Google Drive\n",
        "\n",
        "from google.colab import drive\n",
        "drive.mount('/content/drive', force_remount=True)"
      ]
    },
    {
      "cell_type": "code",
      "source": [
        "from IPython.display import clear_output\n",
        "\n",
        "# @title Downgrade Colab Cuda Version to 11.8 (Current Onnxruntime is not support Cuda 12) Thanks : @NotATaxiDriver\n",
        "!wget https://developer.download.nvidia.com/compute/cuda/repos/ubuntu1804/x86_64/cuda-ubuntu1804.pin\n",
        "!mv cuda-ubuntu1804.pin /etc/apt/preferences.d/cuda-repository-pin-600\n",
        "!wget https://developer.download.nvidia.com/compute/cuda/11.8.0/local_installers/cuda-repo-ubuntu1804-11-8-local_11.8.0-520.61.05-1_amd64.deb\n",
        "!dpkg -i cuda-repo-ubuntu1804-11-8-local_11.8.0-520.61.05-1_amd64.deb\n",
        "!cp /var/cuda-repo-ubuntu1804-11-8-local/cuda-*-keyring.gpg /usr/share/keyrings/\n",
        "!apt-get update\n",
        "!apt-get -y install cuda-11-8\n",
        "\n",
        "!pip install mxnet-cu110\n",
        "\n",
        "clear_output()"
      ],
      "metadata": {
        "id": "-ut11APnLhCk"
      },
      "execution_count": null,
      "outputs": []
    },
    {
      "cell_type": "code",
      "execution_count": null,
      "metadata": {
        "id": "XIH0_aNXKui2"
      },
      "outputs": [],
      "source": [
        "#@title Clone repository\n",
        "!git clone https://github.com/SociallyIneptWeeb/AICoverGen.git\n",
        "%cd AICoverGen"
      ]
    },
    {
      "cell_type": "code",
      "execution_count": null,
      "metadata": {
        "id": "iQSm-PBRKzVZ"
      },
      "outputs": [],
      "source": [
        "#@title Install requirements\n",
        "!pip install -q -r requirements.txt\n",
        "!sudo apt update\n",
        "!sudo apt install sox"
      ]
    },
    {
      "cell_type": "code",
      "execution_count": null,
      "metadata": {
        "id": "evVMXH_YK5h8"
      },
      "outputs": [],
      "source": [
        "!pip install -q gdown==4.6.3"
      ]
    },
    {
      "cell_type": "code",
      "execution_count": null,
      "metadata": {
        "id": "VFCcH5gNK1qy"
      },
      "outputs": [],
      "source": [
        "#@title Download MDXNet Vocal Separation and Hubert Base Models\n",
        "!python src/download_models.py"
      ]
    },
    {
      "cell_type": "code",
      "execution_count": null,
      "metadata": {
        "id": "rpFYKNA5LdvH"
      },
      "outputs": [],
      "source": [
        "#@title Model Download Function\n",
        "\n",
        "import os\n",
        "import zipfile\n",
        "import shutil\n",
        "import gdown\n",
        "import urllib.request\n",
        "\n",
        "BASE_DIR = os.getcwd()\n",
        "rvc_models_dir = os.path.join(BASE_DIR, 'rvc_models')\n",
        "\n",
        "def extract_zip(extraction_folder, zip_name):\n",
        "    os.makedirs(extraction_folder)\n",
        "    with zipfile.ZipFile(zip_name, 'r') as zip_ref:\n",
        "        zip_ref.extractall(extraction_folder)\n",
        "    os.remove(zip_name)\n",
        "\n",
        "    index_filepath, model_filepath = None, None\n",
        "    for root, dirs, files in os.walk(extraction_folder):\n",
        "        for name in files:\n",
        "            if name.endswith('.index') and os.stat(os.path.join(root, name)).st_size > 1024 * 100:\n",
        "                index_filepath = os.path.join(root, name)\n",
        "\n",
        "            if name.endswith('.pth') and os.stat(os.path.join(root, name)).st_size > 1024 * 1024 * 40:\n",
        "                model_filepath = os.path.join(root, name)\n",
        "\n",
        "    if not model_filepath:\n",
        "        raise Exception(f'No .pth model file was found in the extracted zip. Please check {extraction_folder}.')\n",
        "\n",
        "    # move model and index file to extraction folder\n",
        "    os.rename(model_filepath, os.path.join(extraction_folder, os.path.basename(model_filepath)))\n",
        "    if index_filepath:\n",
        "        os.rename(index_filepath, os.path.join(extraction_folder, os.path.basename(index_filepath)))\n",
        "\n",
        "    # remove any unnecessary nested folders\n",
        "    for filepath in os.listdir(extraction_folder):\n",
        "        if os.path.isdir(os.path.join(extraction_folder, filepath)):\n",
        "            shutil.rmtree(os.path.join(extraction_folder, filepath))\n",
        "\n",
        "def download_online_model(url, dir_name):\n",
        "    try:\n",
        "        print(f'[~] Downloading voice model with name {dir_name}...')\n",
        "        zip_name = url.split('/')[-1]\n",
        "        extraction_folder = os.path.join(rvc_models_dir, dir_name)\n",
        "        if os.path.exists(extraction_folder):\n",
        "            raise Exception(f'Voice model directory {dir_name} already exists! Choose a different name for your voice model.')\n",
        "\n",
        "        if 'pixeldrain.com' in url:\n",
        "            url = f'https://pixeldrain.com/api/file/{zip_name}'\n",
        "            urllib.request.urlretrieve(url, zip_name)\n",
        "\n",
        "        elif 'drive.google.com' in url:\n",
        "            # Extract the Google Drive file ID\n",
        "            zip_name = dir_name + '.zip'\n",
        "            file_id = url.split('/')[-2]\n",
        "            output = os.path.join('.', f'{dir_name}.zip')  # Adjust the output path if needed\n",
        "            gdown.download(id=file_id, output=output, quiet=False)\n",
        "\n",
        "\n",
        "\n",
        "        print('[~] Extracting zip...')\n",
        "        extract_zip(extraction_folder, zip_name)\n",
        "        print(f'[+] {dir_name} Model successfully downloaded!')\n",
        "\n",
        "    except Exception as e:\n",
        "        raise Exception(str(e))\n"
      ]
    },
    {
      "cell_type": "code",
      "execution_count": null,
      "metadata": {
        "id": "x1G2FOyrPdX4"
      },
      "outputs": [],
      "source": [
        "url = \"https://drive.google.com/file/d/1DByJfl707bj3GMJ78dqcwZBysWX6LIek/view?usp=drive_link\" # @param {type:\"string\"}\n",
        "dir_name = \"PHS_AI\" # @param {type:\"string\"}\n",
        "download_online_model(url, dir_name)"
      ]
    },
    {
      "cell_type": "code",
      "execution_count": null,
      "metadata": {
        "id": "0W73swj0Mf8T"
      },
      "outputs": [],
      "source": [
        "# @title Generate | Output generated inside \"AICoverGen\\song_output\\random_number\"\n",
        "\n",
        "# @markdown 태연 - 만약에\n",
        "SONG_INPUT = \"https://youtu.be/RjU5Op_KSBw?si=0VdPVyMdKurgtWDR\" # @param {type:\"string\"}\n",
        "RVC_DIRNAME = \"PHS_AI\" # @param {type:\"string\"}\n",
        "PITCH_CHANGE = 0 # @param {type:\"integer\"}\n",
        "PITCH_CHANGE_ALL = 0 # @param {type:\"integer\"}\n",
        "\n",
        "# @markdown Voice Conversion Options\n",
        "INDEX_RATE = 0.5 # @param {type:\"number\"}\n",
        "FILTER_RADIUS = 3 # @param {type:\"integer\"}\n",
        "PITCH_DETECTION_ALGO = \"rmvpe\" # @param [\"rmvpe\", \"mangio-crepe\"]\n",
        "CREPE_HOP_LENGTH = 128 # @param {type:\"integer\"}\n",
        "PROTECT = 0.33 # @param {type:\"number\"}\n",
        "REMIX_MIX_RATE = 0.25  # @param {type:\"number\"}\n",
        "\n",
        "# @markdown Audio Mixing Options\n",
        "MAIN_VOL = 0 # @param {type:\"integer\"}\n",
        "BACKUP_VOL = 0 # @param {type:\"integer\"}\n",
        "INST_VOL = 0 # @param {type:\"integer\"}\n",
        "\n",
        "# @markdown Reverb Control\n",
        "REVERB_SIZE = 0.15 # @param {type:\"number\"}\n",
        "REVERB_WETNESS = 0.2 # @param {type:\"number\"}\n",
        "REVERB_DRYNESS = 0.8 # @param {type:\"number\"}\n",
        "REVERB_DAMPING = 0.7 # @param {type:\"number\"}\n",
        "\n",
        "# @markdown Output Format\n",
        "OUTPUT_FORMAT = \"wav\" # @param [\"mp3\", \"wav\"]\n",
        "\n",
        "import subprocess\n",
        "\n",
        "command = [\n",
        "    \"python\",\n",
        "    \"src/main.py\",\n",
        "    \"-i\", SONG_INPUT,\n",
        "    \"-dir\", RVC_DIRNAME,\n",
        "    \"-p\", str(PITCH_CHANGE),\n",
        "    \"-k\",\n",
        "    \"-ir\", str(INDEX_RATE),\n",
        "    \"-fr\", str(FILTER_RADIUS),\n",
        "    \"-rms\", str(REMIX_MIX_RATE),\n",
        "    \"-palgo\", PITCH_DETECTION_ALGO,\n",
        "    \"-hop\", str(CREPE_HOP_LENGTH),\n",
        "    \"-pro\", str(PROTECT),\n",
        "    \"-mv\", str(MAIN_VOL),\n",
        "    \"-bv\", str(BACKUP_VOL),\n",
        "    \"-iv\", str(INST_VOL),\n",
        "    \"-pall\", str(PITCH_CHANGE_ALL),\n",
        "    \"-rsize\", str(REVERB_SIZE),\n",
        "    \"-rwet\", str(REVERB_WETNESS),\n",
        "    \"-rdry\", str(REVERB_DRYNESS),\n",
        "    \"-rdamp\", str(REVERB_DAMPING),\n",
        "    \"-oformat\", OUTPUT_FORMAT\n",
        "]\n",
        "\n",
        "# Open a subprocess and capture its output\n",
        "process = subprocess.Popen(command, stdout=subprocess.PIPE, stderr=subprocess.STDOUT, universal_newlines=True)\n",
        "\n",
        "# Print the output in real-time\n",
        "for line in process.stdout:\n",
        "    print(line, end='')\n",
        "\n",
        "# Wait for the process to finish\n",
        "process.wait()"
      ]
    },
    {
      "cell_type": "code",
      "execution_count": null,
      "metadata": {
        "id": "3jvatdjlHpgt"
      },
      "outputs": [],
      "source": [
        "# @title Move to google drive\n",
        "\n",
        "os.makedirs(f'/content/drive/MyDrive/{RVC_DIRNAME}/song_output', exist_ok=True)\n",
        "!mv /content/AICoverGen/song_output/* /content/drive/MyDrive/{RVC_DIRNAME}/song_output"
      ]
    },
    {
      "cell_type": "code",
      "execution_count": null,
      "metadata": {
        "id": "3HRWLIu98fHr"
      },
      "outputs": [],
      "source": [
        "from google.colab import runtime\n",
        "runtime.unassign()"
      ]
    }
  ],
  "metadata": {
    "accelerator": "GPU",
    "colab": {
      "gpuType": "T4",
      "provenance": [],
      "include_colab_link": true
    },
    "kernelspec": {
      "display_name": "Python 3",
      "name": "python3"
    },
    "language_info": {
      "name": "python"
    }
  },
  "nbformat": 4,
  "nbformat_minor": 0
}