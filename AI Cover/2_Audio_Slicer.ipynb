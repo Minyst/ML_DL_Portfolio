{
  "nbformat": 4,
  "nbformat_minor": 0,
  "metadata": {
    "colab": {
      "provenance": [],
      "gpuType": "T4",
      "include_colab_link": true
    },
    "kernelspec": {
      "name": "python3",
      "display_name": "Python 3"
    },
    "language_info": {
      "name": "python"
    },
    "accelerator": "GPU"
  },
  "cells": [
    {
      "cell_type": "markdown",
      "metadata": {
        "id": "view-in-github",
        "colab_type": "text"
      },
      "source": [
        "<a href=\"https://colab.research.google.com/github/Minyst/ML_DL_Portfolio_KR/blob/main/AI%20Cover/2_Audio_Slicer.ipynb\" target=\"_parent\"><img src=\"https://colab.research.google.com/assets/colab-badge.svg\" alt=\"Open In Colab\"/></a>"
      ]
    },
    {
      "cell_type": "code",
      "execution_count": null,
      "metadata": {
        "id": "AAsMXHXxg5Eo"
      },
      "outputs": [],
      "source": [
        "from google.colab import drive\n",
        "drive.mount('/content/drive', force_remount=True)"
      ]
    },
    {
      "cell_type": "code",
      "source": [
        "!pip install -q librosa\n",
        "!pip install -q soundfile"
      ],
      "metadata": {
        "id": "le88qcGmiCPC"
      },
      "execution_count": null,
      "outputs": []
    },
    {
      "cell_type": "code",
      "source": [
        "from __future__ import unicode_literals\n",
        "import os\n",
        "import sys\n",
        "import numpy as np\n",
        "import librosa\n",
        "import soundfile\n",
        "from tqdm import tqdm"
      ],
      "metadata": {
        "id": "vEeeQy5xiJjm"
      },
      "execution_count": null,
      "outputs": []
    },
    {
      "cell_type": "markdown",
      "source": [
        "## Slicer"
      ],
      "metadata": {
        "id": "PTLOqykDHH7C"
      }
    },
    {
      "cell_type": "code",
      "source": [
        "def get_rms(\n",
        "    y,\n",
        "    *,\n",
        "    frame_length=2048,\n",
        "    hop_length=512,\n",
        "    pad_mode=\"constant\",\n",
        "):\n",
        "    padding = (int(frame_length // 2), int(frame_length // 2))\n",
        "    y = np.pad(y, padding, mode=pad_mode)\n",
        "\n",
        "    axis = -1\n",
        "    # put our new within-frame axis at the end for now\n",
        "    out_strides = y.strides + tuple([y.strides[axis]])\n",
        "    # Reduce the shape on the framing axis\n",
        "    x_shape_trimmed = list(y.shape)\n",
        "    x_shape_trimmed[axis] -= frame_length - 1\n",
        "    out_shape = tuple(x_shape_trimmed) + tuple([frame_length])\n",
        "    xw = np.lib.stride_tricks.as_strided(\n",
        "        y, shape=out_shape, strides=out_strides\n",
        "    )\n",
        "    if axis < 0:\n",
        "        target_axis = axis - 1\n",
        "    else:\n",
        "        target_axis = axis + 1\n",
        "    xw = np.moveaxis(xw, -1, target_axis)\n",
        "    # Downsample along the target axis\n",
        "    slices = [slice(None)] * xw.ndim\n",
        "    slices[axis] = slice(0, None, hop_length)\n",
        "    x = xw[tuple(slices)]\n",
        "\n",
        "    # Calculate power\n",
        "    power = np.mean(np.abs(x) ** 2, axis=-2, keepdims=True)\n",
        "\n",
        "    return np.sqrt(power)\n",
        "\n",
        "\n",
        "class Slicer:\n",
        "    def __init__(self,\n",
        "                 sr: int,\n",
        "                 threshold: float = -40.,\n",
        "                 min_length: int = 5000,\n",
        "                 min_interval: int = 300,\n",
        "                 hop_size: int = 20,\n",
        "                 max_sil_kept: int = 5000):\n",
        "        if not min_length >= min_interval >= hop_size:\n",
        "            raise ValueError('The following condition must be satisfied: min_length >= min_interval >= hop_size')\n",
        "        if not max_sil_kept >= hop_size:\n",
        "            raise ValueError('The following condition must be satisfied: max_sil_kept >= hop_size')\n",
        "        min_interval = sr * min_interval / 1000\n",
        "        self.threshold = 10 ** (threshold / 20.)\n",
        "        self.hop_size = round(sr * hop_size / 1000)\n",
        "        self.win_size = min(round(min_interval), 4 * self.hop_size)\n",
        "        self.min_length = round(sr * min_length / 1000 / self.hop_size)\n",
        "        self.min_interval = round(min_interval / self.hop_size)\n",
        "        self.max_sil_kept = round(sr * max_sil_kept / 1000 / self.hop_size)\n",
        "\n",
        "    def _apply_slice(self, waveform, begin, end):\n",
        "        if len(waveform.shape) > 1:\n",
        "            return waveform[:, begin * self.hop_size: min(waveform.shape[1], end * self.hop_size)]\n",
        "        else:\n",
        "            return waveform[begin * self.hop_size: min(waveform.shape[0], end * self.hop_size)]\n",
        "\n",
        "    def slice(self, waveform):\n",
        "        if len(waveform.shape) > 1:\n",
        "            samples = waveform.mean(axis=0)\n",
        "        else:\n",
        "            samples = waveform\n",
        "        if samples.shape[0] <= self.min_length:\n",
        "            return [waveform]\n",
        "        rms_list = get_rms(y=samples, frame_length=self.win_size, hop_length=self.hop_size).squeeze(0)\n",
        "        sil_tags = []\n",
        "        silence_start = None\n",
        "        clip_start = 0\n",
        "        for i, rms in enumerate(rms_list):\n",
        "            # Keep looping while frame is silent.\n",
        "            if rms < self.threshold:\n",
        "                # Record start of silent frames.\n",
        "                if silence_start is None:\n",
        "                    silence_start = i\n",
        "                continue\n",
        "            # Keep looping while frame is not silent and silence start has not been recorded.\n",
        "            if silence_start is None:\n",
        "                continue\n",
        "            # Clear recorded silence start if interval is not enough or clip is too short\n",
        "            is_leading_silence = silence_start == 0 and i > self.max_sil_kept\n",
        "            need_slice_middle = i - silence_start >= self.min_interval and i - clip_start >= self.min_length\n",
        "            if not is_leading_silence and not need_slice_middle:\n",
        "                silence_start = None\n",
        "                continue\n",
        "            # Need slicing. Record the range of silent frames to be removed.\n",
        "            if i - silence_start <= self.max_sil_kept:\n",
        "                pos = rms_list[silence_start: i + 1].argmin() + silence_start\n",
        "                if silence_start == 0:\n",
        "                    sil_tags.append((0, pos))\n",
        "                else:\n",
        "                    sil_tags.append((pos, pos))\n",
        "                clip_start = pos\n",
        "            elif i - silence_start <= self.max_sil_kept * 2:\n",
        "                pos = rms_list[i - self.max_sil_kept: silence_start + self.max_sil_kept + 1].argmin()\n",
        "                pos += i - self.max_sil_kept\n",
        "                pos_l = rms_list[silence_start: silence_start + self.max_sil_kept + 1].argmin() + silence_start\n",
        "                pos_r = rms_list[i - self.max_sil_kept: i + 1].argmin() + i - self.max_sil_kept\n",
        "                if silence_start == 0:\n",
        "                    sil_tags.append((0, pos_r))\n",
        "                    clip_start = pos_r\n",
        "                else:\n",
        "                    sil_tags.append((min(pos_l, pos), max(pos_r, pos)))\n",
        "                    clip_start = max(pos_r, pos)\n",
        "            else:\n",
        "                pos_l = rms_list[silence_start: silence_start + self.max_sil_kept + 1].argmin() + silence_start\n",
        "                pos_r = rms_list[i - self.max_sil_kept: i + 1].argmin() + i - self.max_sil_kept\n",
        "                if silence_start == 0:\n",
        "                    sil_tags.append((0, pos_r))\n",
        "                else:\n",
        "                    sil_tags.append((pos_l, pos_r))\n",
        "                clip_start = pos_r\n",
        "            silence_start = None\n",
        "        # Deal with trailing silence.\n",
        "        total_frames = rms_list.shape[0]\n",
        "        if silence_start is not None and total_frames - silence_start >= self.min_interval:\n",
        "            silence_end = min(total_frames, silence_start + self.max_sil_kept)\n",
        "            pos = rms_list[silence_start: silence_end + 1].argmin() + silence_start\n",
        "            sil_tags.append((pos, total_frames + 1))\n",
        "        # Apply and return slices.\n",
        "        if len(sil_tags) == 0:\n",
        "            return [waveform]\n",
        "        else:\n",
        "            chunks = []\n",
        "            if sil_tags[0][0] > 0:\n",
        "                chunks.append(self._apply_slice(waveform, 0, sil_tags[0][0]))\n",
        "            for i in range(len(sil_tags) - 1):\n",
        "                chunks.append(self._apply_slice(waveform, sil_tags[i][1], sil_tags[i + 1][0]))\n",
        "            if sil_tags[-1][1] < total_frames:\n",
        "                chunks.append(self._apply_slice(waveform, sil_tags[-1][1], total_frames))\n",
        "            return chunks"
      ],
      "metadata": {
        "id": "2EBTkFyD3NDk"
      },
      "execution_count": null,
      "outputs": []
    },
    {
      "cell_type": "markdown",
      "source": [
        "sr\n",
        "\n",
        "    Sampling rate of the input audio.\n",
        "\n",
        "db_threshold\n",
        "\n",
        "    The RMS threshold presented in dB. Areas where all RMS values are below this threshold will be regarded as silence. Increase this value if your audio is noisy. Defaults to -40.\n",
        "\n",
        "min_length\n",
        "\n",
        "    The minimum length required for each sliced audio clip, presented in milliseconds. Defaults to 5000.\n",
        "\n",
        "min_interval\n",
        "\n",
        "    The minimum length for a silence part to be sliced, presented in milliseconds. Set this value smaller if your audio contains only short breaks. The smaller this value is, the more sliced audio clips this script is likely to generate. Note that this value must be smaller than min_length and larger than hop_size. Defaults to 300.\n",
        "\n",
        "hop_size\n",
        "\n",
        "    Length of each RMS frame, presented in milliseconds. Increasing this value will increase the precision of slicing, but will slow down the process. Defaults to 10.\n",
        "\n",
        "max_silence_kept\n",
        "\n",
        "    The maximum silence length kept around the sliced audio, presented in milliseconds. Adjust this value according to your needs. Note that setting this value does not mean that silence parts in the sliced audio have exactly the given length. The algorithm will search for the best position to slice, as described above. Defaults to 1000."
      ],
      "metadata": {
        "id": "LP3LlCsLnXHb"
      }
    },
    {
      "cell_type": "markdown",
      "source": [
        "## Apply\n"
      ],
      "metadata": {
        "id": "fx57IUX7Hjf1"
      }
    },
    {
      "cell_type": "code",
      "source": [
        "base_dir = \"/content/drive/MyDrive/AICover\"\n",
        "save_dir = f'{base_dir}/PHS/slice'\n",
        "os.makedirs(save_dir, exist_ok=True)"
      ],
      "metadata": {
        "id": "k42UdHrTjl-8"
      },
      "execution_count": null,
      "outputs": []
    },
    {
      "cell_type": "code",
      "source": [
        "singer_name = \"PHS\"\n",
        "collect_chunks = []\n",
        "for music in [\"추억은사랑을닮아\", \"야생화\", \"눈의꽃\", \"Gift\", \"동경\"]:\n",
        "    vocals_path = f'/content/drive/MyDrive/AICover/{singer_name}/{music}/vocals.wav'\n",
        "    audio, sr = librosa.load(vocals_path, sr=None, mono=False)\n",
        "    slicer = Slicer(\n",
        "    sr=sr,\n",
        "    threshold=-40,\n",
        "    min_length=5000,\n",
        "    min_interval=300,\n",
        "    hop_size=10,\n",
        "    max_sil_kept=500)\n",
        "    chunks = slicer.slice(audio)\n",
        "    collect_chunks.extend(chunks)\n",
        "\n",
        "for chunk in tqdm(collect_chunks):\n",
        "    if len(chunk.shape) > 1:\n",
        "        chunk = chunk.T  # Swap axes if the audio is stereo.\n",
        "    idx = len(os.listdir(save_dir))\n",
        "    soundfile.write(f'{save_dir}/split_{idx}.wav', chunk, sr)"
      ],
      "metadata": {
        "id": "NDrz-3PU3NP9",
        "colab": {
          "base_uri": "https://localhost:8080/"
        },
        "outputId": "a39ccd61-502e-45c2-bc8e-4d95cc89c3e8"
      },
      "execution_count": null,
      "outputs": [
        {
          "output_type": "stream",
          "name": "stderr",
          "text": [
            "100%|██████████| 90/90 [00:05<00:00, 15.79it/s]\n"
          ]
        }
      ]
    },
    {
      "cell_type": "markdown",
      "source": [
        "![화면 캡처 2024-07-04 155025.png](data:image/png;base64,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)"
      ],
      "metadata": {
        "id": "tnhRpaNRTMrb"
      }
    }
  ]
}