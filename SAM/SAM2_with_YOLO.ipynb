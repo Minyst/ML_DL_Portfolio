{
  "metadata": {
    "kernelspec": {
      "language": "python",
      "display_name": "Python 3",
      "name": "python3"
    },
    "language_info": {
      "name": "python",
      "version": "3.10.13",
      "mimetype": "text/x-python",
      "codemirror_mode": {
        "name": "ipython",
        "version": 3
      },
      "pygments_lexer": "ipython3",
      "nbconvert_exporter": "python",
      "file_extension": ".py"
    },
    "kaggle": {
      "accelerator": "gpu",
      "dataSources": [
        {
          "sourceId": 9106335,
          "sourceType": "datasetVersion",
          "datasetId": 5495956
        }
      ],
      "dockerImageVersionId": 30747,
      "isInternetEnabled": true,
      "language": "python",
      "sourceType": "notebook",
      "isGpuEnabled": true
    },
    "colab": {
      "provenance": [],
      "include_colab_link": true
    }
  },
  "nbformat_minor": 0,
  "nbformat": 4,
  "cells": [
    {
      "cell_type": "markdown",
      "metadata": {
        "id": "view-in-github",
        "colab_type": "text"
      },
      "source": [
        "<a href=\"https://colab.research.google.com/github/Minyst/ML_DL_Portfolio_KR/blob/main/SAM/SAM2_with_YOLO.ipynb\" target=\"_parent\"><img src=\"https://colab.research.google.com/assets/colab-badge.svg\" alt=\"Open In Colab\"/></a>"
      ]
    },
    {
      "cell_type": "code",
      "source": [
        "!pip install git+https://github.com/facebookresearch/segment-anything-2.git"
      ],
      "metadata": {
        "trusted": true,
        "id": "PRY4NkKKOIm6"
      },
      "execution_count": null,
      "outputs": []
    },
    {
      "cell_type": "code",
      "source": [
        "!pip install ultralytics"
      ],
      "metadata": {
        "trusted": true,
        "id": "-9aByrrJOIm9"
      },
      "execution_count": null,
      "outputs": []
    },
    {
      "cell_type": "code",
      "source": [
        "import torch\n",
        "import cv2\n",
        "import numpy as np\n",
        "from sam2.build_sam import build_sam2_video_predictor_hf\n",
        "import os\n",
        "import tempfile\n",
        "from ultralytics import YOLO\n",
        "\n",
        "def convert_video_to_jpeg_sequence(video_path, output_folder, target_size=(640, 360)):\n",
        "    cap = cv2.VideoCapture(video_path)\n",
        "    frame_count = 0\n",
        "    while True:\n",
        "        ret, frame = cap.read()\n",
        "        if not ret:\n",
        "            break\n",
        "        frame_count += 1\n",
        "        frame = cv2.resize(frame, target_size)\n",
        "        cv2.imwrite(os.path.join(output_folder, f\"{frame_count:06d}.jpg\"), frame)\n",
        "    cap.release()\n",
        "    return frame_count\n",
        "\n",
        "video_path = \"/kaggle/input/LA vs SD.mp4\"\n",
        "target_size = (640, 360)\n",
        "yolo_model = YOLO('yolov10m.pt')\n",
        "\n",
        "with tempfile.TemporaryDirectory() as temp_dir:\n",
        "    frame_count = convert_video_to_jpeg_sequence(video_path, temp_dir, target_size)\n",
        "    model_id = \"facebook/sam2-hiera-small\"\n",
        "    predictor = build_sam2_video_predictor_hf(model_id)\n",
        "    fourcc = cv2.VideoWriter_fourcc(*'mp4v')\n",
        "    out = cv2.VideoWriter('output.mp4', fourcc, 6.0, target_size)\n",
        "\n",
        "    with torch.inference_mode():\n",
        "        state = predictor.init_state(temp_dir)\n",
        "        for frame_idx in range(0, frame_count, 5):\n",
        "            current_frame = cv2.imread(os.path.join(temp_dir, f\"{frame_idx+1:06d}.jpg\"))\n",
        "\n",
        "            results = yolo_model(current_frame)\n",
        "\n",
        "            frame_mask = np.zeros(current_frame.shape[:2], dtype=np.uint8)\n",
        "\n",
        "            for result in results:\n",
        "                boxes = result.boxes\n",
        "                for box in boxes:\n",
        "                    x1, y1, x2, y2 = box.xyxy[0].cpu().numpy().astype(int)\n",
        "                    label = result.names[int(box.cls)]\n",
        "\n",
        "                    if label in ['person', 'sports ball', 'baseball bat', 'baseball glove']:\n",
        "                        input_point = np.array([[int((x1 + x2) / 2), int((y1 + y2) / 2)]])\n",
        "                        input_label = np.array([1])\n",
        "                        _, _, masks = predictor.add_new_points_or_box(\n",
        "                            state,\n",
        "                            frame_idx=frame_idx,\n",
        "                            obj_id=0,\n",
        "                            points=input_point,\n",
        "                            labels=input_label\n",
        "                        )\n",
        "\n",
        "                        if masks is not None and len(masks) > 0:\n",
        "                            mask = masks[0].cpu().numpy().squeeze()\n",
        "                            if np.isfinite(mask).all() and np.ptp(mask) > 0:\n",
        "                                mask = (mask > 0.5).astype(np.uint8)\n",
        "                                if label == 'person':\n",
        "                                    frame_mask[mask > 0] = 1\n",
        "                                elif label == 'sports ball':\n",
        "                                    frame_mask[mask > 0] = 2\n",
        "                                elif label == 'baseball bat':\n",
        "                                    frame_mask[mask > 0] = 3\n",
        "                                elif label == 'baseball glove':\n",
        "                                    frame_mask[mask > 0] = 4\n",
        "\n",
        "            overlay = np.zeros_like(current_frame)\n",
        "            overlay[frame_mask == 1] = [0, 255, 0]    # Green for player\n",
        "            overlay[frame_mask == 2] = [0, 0, 255]    # Red for baseball\n",
        "            overlay[frame_mask == 3] = [255, 0, 0]    # Blue for bat\n",
        "            overlay[frame_mask == 4] = [255, 255, 0]  # Yellow for baseball glove\n",
        "\n",
        "            result_frame = cv2.addWeighted(current_frame, 0.7, overlay, 0.3, 0)\n",
        "\n",
        "            out.write(result_frame)\n",
        "\n",
        "            if frame_idx % 50 == 0:\n",
        "                torch.cuda.empty_cache()\n",
        "\n",
        "    out.release()"
      ],
      "metadata": {
        "trusted": true,
        "id": "ORS6_kKoOIm-"
      },
      "execution_count": null,
      "outputs": []
    }
  ]
}