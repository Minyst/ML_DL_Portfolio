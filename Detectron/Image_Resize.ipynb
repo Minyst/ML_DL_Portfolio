{
  "nbformat": 4,
  "nbformat_minor": 0,
  "metadata": {
    "colab": {
      "provenance": [],
      "authorship_tag": "ABX9TyNY+ZbKdwjHlrflqyg64Kq0",
      "include_colab_link": true
    },
    "kernelspec": {
      "name": "python3",
      "display_name": "Python 3"
    },
    "language_info": {
      "name": "python"
    }
  },
  "cells": [
    {
      "cell_type": "markdown",
      "metadata": {
        "id": "view-in-github",
        "colab_type": "text"
      },
      "source": [
        "<a href=\"https://colab.research.google.com/github/Minyst/ML_DL_Portfolio_KR/blob/main/Detectron/Image_Resize.ipynb\" target=\"_parent\"><img src=\"https://colab.research.google.com/assets/colab-badge.svg\" alt=\"Open In Colab\"/></a>"
      ]
    },
    {
      "cell_type": "code",
      "execution_count": null,
      "metadata": {
        "id": "kmW_rQQWe4vJ"
      },
      "outputs": [],
      "source": [
        "import cv2\n",
        "\n",
        "def image_resize(image, width=None, height=None, inter=cv2.INTER_AREA):\n",
        "    # 크기 조정할 이미지의 초기 크기를 설정하고\n",
        "    # 이미지의 크기를 가져옵니다\n",
        "    dim = None\n",
        "    (h, w) = image.shape[:2]\n",
        "\n",
        "    # width와 height가 모두 None이면 원본 이미지를 반환합니다\n",
        "    if width is None and height is None:\n",
        "        return image\n",
        "\n",
        "    # width와 height가 모두 지정된 경우 해당 크기를 사용합니다\n",
        "    if width is not None and height is not None:\n",
        "        dim = (width, height)\n",
        "\n",
        "    # width가 None인 경우\n",
        "    elif width is None:\n",
        "        # height의 비율을 계산하고 크기를 설정합니다\n",
        "        r = height / float(h)\n",
        "        dim = (int(w * r), height)\n",
        "    # 그 외의 경우, height가 None인 경우\n",
        "    else:\n",
        "        # width의 비율을 계산하고 크기를 설정합니다\n",
        "        r = width / float(w)\n",
        "        dim = (width, int(h * r))\n",
        "\n",
        "    # 이미지를 크기 조정합니다\n",
        "    resized = cv2.resize(image, dim, interpolation=inter)\n",
        "\n",
        "    # 크기 조정된 이미지를 반환합니다\n",
        "    return resized"
      ]
    }
  ]
}