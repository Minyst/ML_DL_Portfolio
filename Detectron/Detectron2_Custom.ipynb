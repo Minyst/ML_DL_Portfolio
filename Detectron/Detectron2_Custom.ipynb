{
  "nbformat": 4,
  "nbformat_minor": 0,
  "metadata": {
    "colab": {
      "provenance": [],
      "gpuType": "T4",
      "include_colab_link": true
    },
    "kernelspec": {
      "name": "python3",
      "display_name": "Python 3"
    },
    "language_info": {
      "name": "python"
    },
    "accelerator": "GPU"
  },
  "cells": [
    {
      "cell_type": "markdown",
      "metadata": {
        "id": "view-in-github",
        "colab_type": "text"
      },
      "source": [
        "<a href=\"https://colab.research.google.com/github/Minyst/ML_DL_Portfolio_KR/blob/main/Detectron/Detectron2_Custom.ipynb\" target=\"_parent\"><img src=\"https://colab.research.google.com/assets/colab-badge.svg\" alt=\"Open In Colab\"/></a>"
      ]
    },
    {
      "cell_type": "code",
      "source": [
        "!python -m pip install 'git+https://github.com/facebookresearch/detectron2.git'"
      ],
      "metadata": {
        "id": "C2K055AkIOyw"
      },
      "execution_count": null,
      "outputs": []
    },
    {
      "cell_type": "code",
      "source": [
        "!curl -L \"https://universe.roboflow.com/ds/vAyJFC7aFj?key=9ddtOvgU5P\" > roboflow.zip; unzip roboflow.zip; rm roboflow.zip"
      ],
      "metadata": {
        "id": "vj69DEd0lnaK"
      },
      "execution_count": null,
      "outputs": []
    },
    {
      "cell_type": "code",
      "source": [
        "import os\n",
        "from detectron2.data.datasets import register_coco_instances\n",
        "\n",
        "# 사용자 정의 데이터셋 경로\n",
        "train_json = \"/content/train/_annotations.coco.json\"\n",
        "val_json = \"/content/valid/_annotations.coco.json\"\n",
        "\n",
        "# 데이터셋 등록\n",
        "register_coco_instances(\"my_dataset_train\", {}, train_json, \"/content/train\")\n",
        "register_coco_instances(\"my_dataset_val\", {}, val_json, \"/content/valid\")"
      ],
      "metadata": {
        "id": "drdY4NuZetHl"
      },
      "execution_count": null,
      "outputs": []
    },
    {
      "cell_type": "code",
      "source": [
        "from detectron2.engine import DefaultTrainer\n",
        "from detectron2.config import get_cfg\n",
        "from detectron2 import model_zoo\n",
        "\n",
        "# Config 설정\n",
        "cfg = get_cfg()\n",
        "cfg.merge_from_file(model_zoo.get_config_file(\"COCO-Detection/faster_rcnn_R_50_FPN_3x.yaml\"))\n",
        "cfg.DATASETS.TRAIN = (\"my_dataset_train\",)\n",
        "cfg.DATASETS.TEST = (\"my_dataset_val\",)\n",
        "cfg.DATALOADER.NUM_WORKERS = 2\n",
        "\n",
        "# COCO 데이터셋으로 사전 학습된 모델\n",
        "cfg.MODEL.WEIGHTS = model_zoo.get_checkpoint_url(\"COCO-Detection/faster_rcnn_R_50_FPN_3x.yaml\")\n",
        "# cfg.MODEL.WEIGHTS = os.path.join(cfg.OUTPUT_DIR, \"model_final.pth\")  # 학습된 모델의 가중치 불러오기\n",
        "\n",
        "cfg.SOLVER.IMS_PER_BATCH = 2\n",
        "cfg.SOLVER.BASE_LR = 0.00025\n",
        "cfg.SOLVER.MAX_ITER = 100\n",
        "cfg.MODEL.ROI_HEADS.BATCH_SIZE_PER_IMAGE = 128\n",
        "cfg.MODEL.ROI_HEADS.NUM_CLASSES = 3\n",
        "\n",
        "os.makedirs(cfg.OUTPUT_DIR, exist_ok=True)\n",
        "trainer = DefaultTrainer(cfg)\n",
        "trainer.resume_or_load(resume=True)  # 이전 학습 상태에서 학습을 재개\n",
        "trainer.train()"
      ],
      "metadata": {
        "id": "xktRQJQCKt3c"
      },
      "execution_count": null,
      "outputs": []
    },
    {
      "cell_type": "code",
      "source": [
        "import cv2\n",
        "from detectron2.engine import DefaultPredictor\n",
        "from detectron2.utils.visualizer import Visualizer\n",
        "from detectron2.data import MetadataCatalog\n",
        "\n",
        "# Config 설정\n",
        "cfg.MODEL.WEIGHTS = os.path.join(cfg.OUTPUT_DIR, \"model_final.pth\")  # 학습된 모델의 가중치 불러오기\n",
        "cfg.MODEL.ROI_HEADS.SCORE_THRESH_TEST = 0.4\n",
        "predictor = DefaultPredictor(cfg)\n",
        "\n",
        "input_video_path = '/content/PREMIER LEAGUE HIGHLIGHTS 10sec.mp4'"
      ],
      "metadata": {
        "id": "A_BBaUCm_VfY"
      },
      "execution_count": null,
      "outputs": []
    },
    {
      "cell_type": "code",
      "source": [
        "#한 frame의 shape 확인하기\n",
        "cap = cv2.VideoCapture(input_video_path)\n",
        "while cap.isOpened():\n",
        "    ret, frame = cap.read()\n",
        "    print(frame.shape)\n",
        "    if ret:\n",
        "        break\n",
        "cap.release()"
      ],
      "metadata": {
        "id": "K2sSCL-__VYl"
      },
      "execution_count": null,
      "outputs": []
    },
    {
      "cell_type": "code",
      "source": [
        "# 모든 frame의 shape이랑 개수 확인하기\n",
        "cap = cv2.VideoCapture(input_video_path)\n",
        "cnt = 0\n",
        "while cap.isOpened():\n",
        "    ret, frame = cap.read()\n",
        "    if not ret:\n",
        "        break\n",
        "    print(frame.shape)\n",
        "    cnt+=1\n",
        "print(cnt)\n",
        "cap.release()"
      ],
      "metadata": {
        "id": "VithSGp1_VRR"
      },
      "execution_count": null,
      "outputs": []
    },
    {
      "cell_type": "code",
      "source": [
        "#frame을 list에 담기\n",
        "cap = cv2.VideoCapture(input_video_path)\n",
        "frames = []\n",
        "while cap.isOpened():\n",
        "    ret, frame = cap.read()\n",
        "    frames.append(frame)\n",
        "    if not ret:\n",
        "        break"
      ],
      "metadata": {
        "id": "QZH6WjGz_9oA"
      },
      "execution_count": null,
      "outputs": []
    },
    {
      "cell_type": "code",
      "source": [
        "#예측한 하나의 frame shape확인하기\n",
        "for frame in frames:\n",
        "    outputs = predictor(frame)\n",
        "    v = Visualizer(frame[:, :, ::-1], MetadataCatalog.get(cfg.DATASETS.TRAIN[0]), scale=1.2)\n",
        "    result = v.draw_instance_predictions(outputs[\"instances\"].to(\"cpu\"))\n",
        "    result_image = result.get_image()[:, :, ::-1]\n",
        "    print(result_image.shape)\n",
        "    break\n",
        "\n",
        "width1 = result_image.shape[0]\n",
        "height1 = result_image.shape[1]\n",
        "print(width1, height1)"
      ],
      "metadata": {
        "id": "IXmhM9wWAD0T"
      },
      "execution_count": null,
      "outputs": []
    },
    {
      "cell_type": "code",
      "source": [
        "#예측한 모든 frame shape확인하기\n",
        "from detectron2.utils.visualizer import Visualizer\n",
        "from detectron2.data import MetadataCatalog\n",
        "\n",
        "cnt = 0\n",
        "result_images_lst = []\n",
        "\n",
        "for frame in frames:\n",
        "    if frame is None:\n",
        "        break\n",
        "    outputs = predictor(frame)\n",
        "    v = Visualizer(frame[:, :, ::-1], MetadataCatalog.get(cfg.DATASETS.TRAIN[0]), scale=1.2)\n",
        "    result = v.draw_instance_predictions(outputs[\"instances\"].to(\"cpu\"))\n",
        "    result_image = result.get_image()[:, :, ::-1]\n",
        "    print(result_image.shape)\n",
        "    result_images_lst.append(result_image)\n",
        "    cnt+=1\n",
        "\n",
        "width2 = result_image.shape[0]\n",
        "height2 = result_image.shape[1]\n",
        "print(width2, height2)\n",
        "print(cnt)"
      ],
      "metadata": {
        "id": "SFX6C22lKZir"
      },
      "execution_count": null,
      "outputs": []
    },
    {
      "cell_type": "code",
      "source": [
        "cap = cap = cv2.VideoCapture(input_video_path)\n",
        "fps = cnt/10\n",
        "\n",
        "fourcc = cv2.VideoWriter_fourcc(*'mp4v')\n",
        "output_video_path = '/content/output_video.mp4'\n",
        "out = cv2.VideoWriter(output_video_path, fourcc, fps, (height2, width2))\n",
        "\n",
        "for result_image in result_images_lst:\n",
        "    if result_image is None:\n",
        "        break\n",
        "    out.write(result_image)\n",
        "\n",
        "cap.release()\n",
        "out.release()"
      ],
      "metadata": {
        "id": "TQDAt3tGAG1o"
      },
      "execution_count": null,
      "outputs": []
    }
  ]
}