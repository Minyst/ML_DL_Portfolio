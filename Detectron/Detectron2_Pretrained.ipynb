{
  "nbformat": 4,
  "nbformat_minor": 0,
  "metadata": {
    "colab": {
      "provenance": [],
      "gpuType": "T4",
      "authorship_tag": "ABX9TyPnY4qXxhPhH998v7BtJK5O",
      "include_colab_link": true
    },
    "kernelspec": {
      "name": "python3",
      "display_name": "Python 3"
    },
    "language_info": {
      "name": "python"
    },
    "accelerator": "GPU"
  },
  "cells": [
    {
      "cell_type": "markdown",
      "metadata": {
        "id": "view-in-github",
        "colab_type": "text"
      },
      "source": [
        "<a href=\"https://colab.research.google.com/github/Minyst/ML_DL_Portfolio_KR/blob/main/Detectron/Detectron2_Pretrained.ipynb\" target=\"_parent\"><img src=\"https://colab.research.google.com/assets/colab-badge.svg\" alt=\"Open In Colab\"/></a>"
      ]
    },
    {
      "cell_type": "code",
      "source": [
        "!python -m pip install 'git+https://github.com/facebookresearch/detectron2.git'"
      ],
      "metadata": {
        "id": "lTCiCyCnN5Su"
      },
      "execution_count": null,
      "outputs": []
    },
    {
      "cell_type": "code",
      "execution_count": 2,
      "metadata": {
        "id": "ldH3F1gXEnY1"
      },
      "outputs": [],
      "source": [
        "import cv2\n",
        "import torch\n",
        "from detectron2 import model_zoo\n",
        "from detectron2.engine import DefaultPredictor\n",
        "from detectron2.config import get_cfg\n",
        "from detectron2.utils.visualizer import Visualizer\n",
        "from detectron2.data import MetadataCatalog\n",
        "from detectron2.engine import DefaultTrainer\n",
        "from detectron2.data.datasets import register_coco_instances\n",
        "\n",
        "# 사용자 파일 경로\n",
        "input_video_path = '/content/PREMIER LEAGUE HIGHLIGHTS 10sec.mp4'\n",
        "output_video_path = '/content/output_video.mp4'"
      ]
    },
    {
      "cell_type": "code",
      "source": [
        "#한 frame의 shape 확인하기\n",
        "cap = cv2.VideoCapture(input_video_path)\n",
        "while cap.isOpened():\n",
        "    ret, frame = cap.read()\n",
        "    print(frame.shape)\n",
        "    if ret:\n",
        "        break\n",
        "cap.release()"
      ],
      "metadata": {
        "id": "4rR-_lP0nmmK"
      },
      "execution_count": null,
      "outputs": []
    },
    {
      "cell_type": "code",
      "source": [
        "# 모든 frame의 shape이랑 개수 확인하기\n",
        "cap = cv2.VideoCapture(input_video_path)\n",
        "cnt = 0\n",
        "while cap.isOpened():\n",
        "    ret, frame = cap.read()\n",
        "    if not ret:\n",
        "        break\n",
        "    print(frame.shape)\n",
        "    cnt+=1\n",
        "print(cnt)\n",
        "cap.release()"
      ],
      "metadata": {
        "id": "OM8UnfjCRBe4"
      },
      "execution_count": null,
      "outputs": []
    },
    {
      "cell_type": "code",
      "source": [
        "#frame list에 담기\n",
        "cap = cv2.VideoCapture(input_video_path)\n",
        "frames = []\n",
        "while cap.isOpened():\n",
        "    ret, frame = cap.read()\n",
        "    frames.append(frame)\n",
        "    if not ret:\n",
        "        break"
      ],
      "metadata": {
        "id": "D14twohpoTlW"
      },
      "execution_count": 5,
      "outputs": []
    },
    {
      "cell_type": "code",
      "source": [
        "# Config 및 모델 설정\n",
        "cfg = get_cfg()\n",
        "cfg.merge_from_file(model_zoo.get_config_file(\"COCO-Detection/faster_rcnn_R_50_FPN_3x.yaml\"))\n",
        "cfg.MODEL.ROI_HEADS.SCORE_THRESH_TEST = 0.4  # threshold 설정\n",
        "# 사전에 학습되어있는 COCO데이터 불러오는 것\n",
        "cfg.MODEL.WEIGHTS = model_zoo.get_checkpoint_url(\"COCO-Detection/faster_rcnn_R_50_FPN_3x.yaml\")\n",
        "predictor = DefaultPredictor(cfg)"
      ],
      "metadata": {
        "id": "mRJtkOEq4LF-"
      },
      "execution_count": null,
      "outputs": []
    },
    {
      "cell_type": "code",
      "source": [
        "#예측한 하나의 frame shape확인하기\n",
        "for frame in frames:\n",
        "    outputs = predictor(frame)\n",
        "    v = Visualizer(frame[:, :, ::-1], MetadataCatalog.get(cfg.DATASETS.TRAIN[0]), scale=1.2)\n",
        "    result = v.draw_instance_predictions(outputs[\"instances\"].to(\"cpu\"))\n",
        "    result_image = result.get_image()[:, :, ::-1]\n",
        "    print(result_image.shape)\n",
        "    break\n",
        "\n",
        "width1 = result_image.shape[0]\n",
        "height1 = result_image.shape[1]\n",
        "print(width1, height1)"
      ],
      "metadata": {
        "id": "cIjcRV2SoX9K"
      },
      "execution_count": null,
      "outputs": []
    },
    {
      "cell_type": "code",
      "source": [
        "#예측한 모든 frame shape확인하기\n",
        "from detectron2.utils.visualizer import Visualizer\n",
        "from detectron2.data import MetadataCatalog\n",
        "\n",
        "cnt = 0\n",
        "result_images_lst = []\n",
        "\n",
        "for frame in frames:\n",
        "    if frame is None:\n",
        "        break\n",
        "    outputs = predictor(frame)\n",
        "    v = Visualizer(frame[:, :, ::-1], MetadataCatalog.get(cfg.DATASETS.TRAIN[0]), scale=1.2)\n",
        "    result = v.draw_instance_predictions(outputs[\"instances\"].to(\"cpu\"))\n",
        "    result_image = result.get_image()[:, :, ::-1]\n",
        "    print(result_image.shape)\n",
        "    result_images_lst.append(result_image)\n",
        "    cnt+=1\n",
        "\n",
        "width2 = result_image.shape[0]\n",
        "height2 = result_image.shape[1]\n",
        "print(width2, height2)\n",
        "print(cnt)"
      ],
      "metadata": {
        "id": "PmPzmbKKoWrw"
      },
      "execution_count": null,
      "outputs": []
    },
    {
      "cell_type": "code",
      "source": [
        "output_video_path = '/content/output_video.mp4'\n",
        "cap = cv2.VideoCapture(input_video_path)\n",
        "fps = cnt/10\n",
        "\n",
        "fourcc = cv2.VideoWriter_fourcc(*'mp4v')\n",
        "out = cv2.VideoWriter(output_video_path, fourcc, fps, (height2, width2))\n",
        "\n",
        "for result_image in result_images_lst:\n",
        "    if result_image is None:\n",
        "        break\n",
        "    out.write(result_image)\n",
        "\n",
        "cap.release()\n",
        "out.release()"
      ],
      "metadata": {
        "id": "_LIzHBXeEylJ"
      },
      "execution_count": 9,
      "outputs": []
    }
  ]
}