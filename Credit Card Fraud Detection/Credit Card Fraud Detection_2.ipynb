{
  "nbformat": 4,
  "nbformat_minor": 0,
  "metadata": {
    "colab": {
      "provenance": [],
      "toc_visible": true,
      "include_colab_link": true
    },
    "kernelspec": {
      "name": "python3",
      "display_name": "Python 3"
    },
    "language_info": {
      "name": "python"
    }
  },
  "cells": [
    {
      "cell_type": "markdown",
      "metadata": {
        "id": "view-in-github",
        "colab_type": "text"
      },
      "source": [
        "<a href=\"https://colab.research.google.com/github/Minyst/ML_DL_Portfolio_KR/blob/main/Credit%20Card%20Fraud%20Detection/Credit%20Card%20Fraud%20Detection_2.ipynb\" target=\"_parent\"><img src=\"https://colab.research.google.com/assets/colab-badge.svg\" alt=\"Open In Colab\"/></a>"
      ]
    },
    {
      "cell_type": "markdown",
      "source": [
        "#Credit Card Fraud Detection"
      ],
      "metadata": {
        "id": "USjWBZyeinNh"
      }
    },
    {
      "cell_type": "markdown",
      "source": [
        "# Split Data"
      ],
      "metadata": {
        "id": "gqz1qqx3E9mY"
      }
    },
    {
      "cell_type": "code",
      "source": [
        "from sklearn.model_selection import train_test_split\n",
        "x_tr, x_val , y_tr, y_val = train_test_split(train_pca,y_train,test_size=0.2,random_state=1000)"
      ],
      "metadata": {
        "id": "75bdVoIIkWhi"
      },
      "execution_count": null,
      "outputs": []
    },
    {
      "cell_type": "markdown",
      "source": [
        "# RandomForest"
      ],
      "metadata": {
        "id": "qau-CxZao7mP"
      }
    },
    {
      "cell_type": "markdown",
      "source": [
        "#Score"
      ],
      "metadata": {
        "id": "zjMOTdk_woCe"
      }
    },
    {
      "cell_type": "code",
      "source": [
        "from sklearn.ensemble import RandomForestClassifier\n",
        "from sklearn.metrics import accuracy_score\n",
        "from sklearn.metrics import roc_auc_score\n",
        "from sklearn.metrics import f1_score\n",
        "from sklearn.metrics import recall_score\n",
        "from sklearn.metrics import precision_score\n",
        "from sklearn.metrics import confusion_matrix\n",
        "import matplotlib.pyplot as plt\n",
        "import seaborn as sns\n",
        "from sklearn.model_selection import GridSearchCV\n",
        "\n",
        "rf = RandomForestClassifier()\n",
        "rf.fit(x_tr,y_tr)\n",
        "val_pred_rf = rf.predict(x_val)\n",
        "val_pred_ratio_rf = rf.predict_proba(x_val)[:,1]\n",
        "\n",
        "print('accuracy_score: {}'.format(accuracy_score(y_val,val_pred_rf)))\n",
        "print('f1_score: {}'.format(f1_score(y_val,val_pred_rf)))\n",
        "print('recall_score: {}'.format(recall_score(y_val,val_pred_rf)))\n",
        "print('precision_score: {}'.format(precision_score(y_val,val_pred_rf)))\n",
        "print('roc_auc_score: {}'.format(roc_auc_score(y_val,val_pred_ratio_rf)))"
      ],
      "metadata": {
        "id": "folyezx0R_v9",
        "colab": {
          "base_uri": "https://localhost:8080/"
        },
        "outputId": "bbe0d1ed-833c-4bba-9769-b150b47d7ffe"
      },
      "execution_count": null,
      "outputs": [
        {
          "output_type": "stream",
          "name": "stdout",
          "text": [
            "accuracy_score: 0.9985704612143556\n",
            "f1_score: 0.1492537313432836\n",
            "recall_score: 0.09433962264150944\n",
            "precision_score: 0.35714285714285715\n",
            "roc_auc_score: 0.72351430493826\n"
          ]
        }
      ]
    },
    {
      "cell_type": "markdown",
      "source": [
        "## Confusion Matrix"
      ],
      "metadata": {
        "id": "OyhvxMdeFQJa"
      }
    },
    {
      "cell_type": "code",
      "source": [
        "cm = confusion_matrix(y_val, val_pred_rf)\n",
        "sns.heatmap(cm, annot=True, fmt=\"d\", cmap=\"Blues\")\n",
        "plt.xlabel('Predicted labels')\n",
        "plt.ylabel('True labels')\n",
        "plt.title('Confusion Matrix')\n",
        "plt.show()"
      ],
      "metadata": {
        "id": "pKMJ5MVDFLd7",
        "colab": {
          "base_uri": "https://localhost:8080/",
          "height": 472
        },
        "outputId": "7f9f8327-cd4c-4111-f466-9629a8eccbe2"
      },
      "execution_count": null,
      "outputs": [
        {
          "output_type": "display_data",
          "data": {
            "text/plain": [
              "<Figure size 640x480 with 2 Axes>"
            ],
            "image/png": "[encoded data removed]"
          },
          "metadata": {}
        }
      ]
    },
    {
      "cell_type": "markdown",
      "source": [
        "#Tuning\n",
        "\n"
      ],
      "metadata": {
        "id": "Y7D4Zj9M1c20"
      }
    },
    {
      "cell_type": "markdown",
      "source": [
        "## GridSearch"
      ],
      "metadata": {
        "id": "iltpxZDW5rEI"
      }
    },
    {
      "cell_type": "code",
      "source": [
        "param_grid = {\n",
        "    'n_estimators': [100, 200, 300],\n",
        "    'max_depth': [10, 20, 30],\n",
        "    'min_samples_split': [2, 5, 10],\n",
        "    'min_samples_leaf': [1, 2, 4],\n",
        "}\n",
        "\n",
        "rf = RandomForestClassifier()\n",
        "grid_search = GridSearchCV(rf, param_grid, cv=5, refit=True, verbose=2)\n",
        "grid_search.fit(train_pca, y_train)\n",
        "\n",
        "print(\"Best parameters found by Grid Search for Random Forest:\")\n",
        "print(grid_search.best_params_)"
      ],
      "metadata": {
        "id": "H_MkTcMV3n_H"
      },
      "execution_count": null,
      "outputs": []
    },
    {
      "cell_type": "markdown",
      "source": [
        "## Predict - PCA\n",
        "\n",
        "\n",
        "\n"
      ],
      "metadata": {
        "id": "5LQMaHXFFVru"
      }
    },
    {
      "cell_type": "code",
      "source": [
        "from sklearn.ensemble import RandomForestClassifier\n",
        "from sklearn.metrics import accuracy_score\n",
        "from sklearn.metrics import roc_auc_score\n",
        "\n",
        "rf = RandomForestClassifier(max_depth=10,min_samples_leaf=2,min_samples_split=5,n_estimators=100)\n",
        "rf.fit(train_pca,y_train)\n",
        "rf_grid_pred = rf.predict(test_pca)\n",
        "rf_grid_pred_pb = rf.predict_proba(test_pca)[:,1]\n",
        "print('accuracy_score : {}'.format(accuracy_score(y_test,rf_grid_pred)))\n",
        "print('roc_auc_score : {}'.format(roc_auc_score(y_test,rf_grid_pred_pb)))"
      ],
      "metadata": {
        "colab": {
          "base_uri": "https://localhost:8080/"
        },
        "id": "8o5c0RmNauN-",
        "outputId": "f21891c2-199b-4998-e759-1b69c527c614"
      },
      "execution_count": null,
      "outputs": [
        {
          "output_type": "stream",
          "name": "stdout",
          "text": [
            "accuracy_score : 0.9982678510820079\n",
            "roc_auc_score : 0.8832333887319526\n"
          ]
        }
      ]
    },
    {
      "cell_type": "markdown",
      "source": [
        "## RandomSearch"
      ],
      "metadata": {
        "id": "iibUZfcb5kiN"
      }
    },
    {
      "cell_type": "code",
      "source": [
        "from sklearn.model_selection import RandomizedSearchCV\n",
        "from scipy.stats import randint\n",
        "\n",
        "param_dist = {\n",
        "    'n_estimators': randint(100, 300),\n",
        "    'max_depth': [10, 20, 30],\n",
        "    'min_samples_split': randint(2, 10),\n",
        "    'min_samples_leaf': randint(1, 10),\n",
        "\n",
        "}\n",
        "\n",
        "rf = RandomForestClassifier()\n",
        "random_search = RandomizedSearchCV(rf, param_distributions=param_dist, n_iter=100, cv=5, refit=True, verbose=2, random_state=42)\n",
        "random_search.fit(train_pca, y_train)\n",
        "\n",
        "print(\"Best parameters found by Random Search for Random Forest:\")\n",
        "print(random_search.best_params_)"
      ],
      "metadata": {
        "id": "CPJCCX_-4toU"
      },
      "execution_count": null,
      "outputs": []
    },
    {
      "cell_type": "markdown",
      "source": [
        "## Predict - PCA"
      ],
      "metadata": {
        "id": "e2ZBVfLT52uH"
      }
    },
    {
      "cell_type": "code",
      "source": [
        "rf = RandomForestClassifier(max_depth=20, min_samples_leaf=7, min_samples_split=2, n_estimators=171)\n",
        "rf.fit(train_pca,y_train)\n",
        "rf_random_pred = rf.predict(test_pca)\n",
        "rf_random_pred_pb = rf.predict_proba(test_pca)[:,1]\n",
        "print('accuracy_score : {}'.format(accuracy_score(y_test,rf_random_pred)))\n",
        "print('roc_auc_score : {}'.format(roc_auc_score(y_test,rf_random_pred_pb)))"
      ],
      "metadata": {
        "id": "cespopdQ5FDS",
        "colab": {
          "base_uri": "https://localhost:8080/"
        },
        "outputId": "8a95fec6-7663-40eb-aea9-260b66e659d7"
      },
      "execution_count": null,
      "outputs": [
        {
          "output_type": "stream",
          "name": "stdout",
          "text": [
            "accuracy_score : 0.9982678510820079\n",
            "roc_auc_score : 0.7790637184461557\n"
          ]
        }
      ]
    },
    {
      "cell_type": "markdown",
      "source": [
        "# XGBoost"
      ],
      "metadata": {
        "id": "QaxcsTEspM28"
      }
    },
    {
      "cell_type": "code",
      "source": [
        "!pip install xgboost\n",
        "from xgboost import XGBClassifier"
      ],
      "metadata": {
        "id": "cPNBYOqvzHMG",
        "colab": {
          "base_uri": "https://localhost:8080/"
        },
        "outputId": "b2a44f2a-d797-49e2-b417-a6d3dc7b986b"
      },
      "execution_count": null,
      "outputs": [
        {
          "output_type": "stream",
          "name": "stdout",
          "text": [
            "Requirement already satisfied: xgboost in /usr/local/lib/python3.10/dist-packages (2.0.3)\n",
            "Requirement already satisfied: numpy in /usr/local/lib/python3.10/dist-packages (from xgboost) (1.25.2)\n",
            "Requirement already satisfied: scipy in /usr/local/lib/python3.10/dist-packages (from xgboost) (1.11.4)\n"
          ]
        }
      ]
    },
    {
      "cell_type": "markdown",
      "source": [
        "##Score"
      ],
      "metadata": {
        "id": "9X-phgzUGQso"
      }
    },
    {
      "cell_type": "code",
      "source": [
        "xgb = XGBClassifier(n_estimators=1000, learning_rate=0.2, verbose = 100)\n",
        "xgb.fit(x_tr,y_tr)\n",
        "val_pred_xgb = xgb.predict(x_val)\n",
        "val_pred_ratio_xgb = xgb.predict_proba(x_val)[:,1]\n",
        "\n",
        "print('accuracy_score: {}'.format(accuracy_score(y_val,val_pred_xgb)))\n",
        "print('f1_score: {}'.format(f1_score(y_val,val_pred_xgb)))\n",
        "print('recall_score: {}'.format(recall_score(y_val,val_pred_xgb)))\n",
        "print('precision_score: {}'.format(precision_score(y_val,val_pred_xgb)))\n",
        "print('roc_auc_score: {}'.format(roc_auc_score(y_val,val_pred_ratio_xgb)))"
      ],
      "metadata": {
        "id": "y-aprG307_lI",
        "colab": {
          "base_uri": "https://localhost:8080/"
        },
        "outputId": "f1ddb341-e670-462e-be28-d1867f21713d"
      },
      "execution_count": null,
      "outputs": [
        {
          "output_type": "stream",
          "name": "stderr",
          "text": [
            "/usr/local/lib/python3.10/dist-packages/xgboost/core.py:160: UserWarning: [06:41:54] WARNING: /workspace/src/learner.cc:742: \n",
            "Parameters: { \"verbose\" } are not used.\n",
            "\n",
            "  warnings.warn(smsg, UserWarning)\n"
          ]
        },
        {
          "output_type": "stream",
          "name": "stdout",
          "text": [
            "accuracy_score: 0.9984450630752639\n",
            "f1_score: 0.3921568627450981\n",
            "recall_score: 0.37735849056603776\n",
            "precision_score: 0.40816326530612246\n",
            "roc_auc_score: 0.9664629985879856\n"
          ]
        }
      ]
    },
    {
      "cell_type": "markdown",
      "source": [
        "## Confusion Matrix"
      ],
      "metadata": {
        "id": "AnxmsjEKlIDg"
      }
    },
    {
      "cell_type": "code",
      "source": [
        "cm = confusion_matrix(y_val, val_pred_xgb)\n",
        "sns.heatmap(cm, annot=True, fmt=\"d\", cmap=\"Blues\")\n",
        "plt.xlabel('Predicted labels')\n",
        "plt.ylabel('True labels')\n",
        "plt.title('Confusion Matrix')\n",
        "plt.show()"
      ],
      "metadata": {
        "id": "rR6SVthIixEc",
        "colab": {
          "base_uri": "https://localhost:8080/",
          "height": 472
        },
        "outputId": "7568fa10-a149-47de-bfd9-0054bcd182d3"
      },
      "execution_count": null,
      "outputs": [
        {
          "output_type": "display_data",
          "data": {
            "text/plain": [
              "<Figure size 640x480 with 2 Axes>"
            ],
            "image/png": "[encoded data removed]"
          },
          "metadata": {}
        }
      ]
    },
    {
      "cell_type": "markdown",
      "source": [
        "## Predict - PCA"
      ],
      "metadata": {
        "id": "_GMycIeiGhvE"
      }
    },
    {
      "cell_type": "code",
      "source": [
        "xgb = XGBClassifier(n_estimators=1000, learning_rate=0.2, verbose = 100)\n",
        "xgb.fit(train_pca, y_train)\n",
        "xgb_pred_pca = xgb.predict(test_pca)\n",
        "xgb_pred_pca_pb = xgb.predict_proba(test_pca)[:,1]\n",
        "print('accuracy_score : {}'.format(accuracy_score(y_test,xgb_pred_pca)))\n",
        "print('roc_auc_score : {}'.format(roc_auc_score(y_test,xgb_pred_pca_pb)))"
      ],
      "metadata": {
        "id": "bHMjwvAc3crH",
        "colab": {
          "base_uri": "https://localhost:8080/"
        },
        "outputId": "f6e5fee5-be4e-4186-abb0-c881377654c9"
      },
      "execution_count": null,
      "outputs": [
        {
          "output_type": "stream",
          "name": "stderr",
          "text": [
            "/usr/local/lib/python3.10/dist-packages/xgboost/core.py:160: UserWarning: [01:20:26] WARNING: /workspace/src/learner.cc:742: \n",
            "Parameters: { \"verbose\" } are not used.\n",
            "\n",
            "  warnings.warn(smsg, UserWarning)\n"
          ]
        },
        {
          "output_type": "stream",
          "name": "stdout",
          "text": [
            "accuracy_score : 0.9981625177018597\n",
            "roc_auc_score : 0.8344195740379573\n"
          ]
        }
      ]
    },
    {
      "cell_type": "markdown",
      "source": [
        "##Predict - tSNE"
      ],
      "metadata": {
        "id": "wk5G9icdyTnz"
      }
    },
    {
      "cell_type": "code",
      "source": [
        "xgb = XGBClassifier(n_estimators=1000, learning_rate=0.2, verbose = 100)\n",
        "xgb.fit(train_tsne, y_train, eval_set=[(test_tsne, y_test)], early_stopping_rounds=100, verbose = 100)\n",
        "xgb_pred_tsne = xgb.predict(test_tsne)\n",
        "xgb_pred_tsne_pb = xgb.predict_proba(test_tsne)[:,1]\n",
        "print('accuracy_score : {}'.format(accuracy_score(y_test,xgb_pred_tsne)))\n",
        "print('roc_auc_score : {}'.format(roc_auc_score(y_test,xgb_pred_tsne_pb)))"
      ],
      "metadata": {
        "colab": {
          "base_uri": "https://localhost:8080/"
        },
        "id": "VdipWd2iySes",
        "outputId": "b0fd42d0-8b2c-45c8-a01f-b137f3b34e11"
      },
      "execution_count": null,
      "outputs": [
        {
          "output_type": "stream",
          "name": "stdout",
          "text": [
            "[0]\tvalidation_0-logloss:0.10717\n"
          ]
        },
        {
          "output_type": "stream",
          "name": "stderr",
          "text": [
            "/usr/local/lib/python3.10/dist-packages/xgboost/sklearn.py:889: UserWarning: `early_stopping_rounds` in `fit` method is deprecated for better compatibility with scikit-learn, use `early_stopping_rounds` in constructor or`set_params` instead.\n",
            "  warnings.warn(\n",
            "/usr/local/lib/python3.10/dist-packages/xgboost/core.py:160: UserWarning: [01:22:57] WARNING: /workspace/src/learner.cc:742: \n",
            "Parameters: { \"verbose\" } are not used.\n",
            "\n",
            "  warnings.warn(smsg, UserWarning)\n"
          ]
        },
        {
          "output_type": "stream",
          "name": "stdout",
          "text": [
            "[100]\tvalidation_0-logloss:0.01126\n",
            "[132]\tvalidation_0-logloss:0.01133\n",
            "accuracy_score : 0.9982678510820079\n",
            "roc_auc_score : 0.8722547185206192\n"
          ]
        }
      ]
    },
    {
      "cell_type": "markdown",
      "source": [
        "##Predict - UMAP"
      ],
      "metadata": {
        "id": "nPRwiMpJyU6Y"
      }
    },
    {
      "cell_type": "code",
      "source": [
        "xgb = XGBClassifier(n_estimators=1000, learning_rate=0.2, verbose = 100)\n",
        "xgb.fit(train_umap, y_train, eval_set=[(test_umap, y_test)], early_stopping_rounds=100, verbose = 100)\n",
        "xgb_pred_umap = xgb.predict(test_umap)\n",
        "xgb_pred_umap_pb = xgb.predict_proba(test_umap)[:,1]\n",
        "print('accuracy_score : {}'.format(accuracy_score(y_test,xgb_pred_umap)))\n",
        "print('roc_auc_score : {}'.format(roc_auc_score(y_test,xgb_pred_umap_pb)))"
      ],
      "metadata": {
        "colab": {
          "base_uri": "https://localhost:8080/"
        },
        "id": "UFEzuVSlySQm",
        "outputId": "8ad428ee-bbd9-4080-b35a-21dbf939d6c8"
      },
      "execution_count": null,
      "outputs": [
        {
          "output_type": "stream",
          "name": "stderr",
          "text": [
            "/usr/local/lib/python3.10/dist-packages/xgboost/sklearn.py:889: UserWarning: `early_stopping_rounds` in `fit` method is deprecated for better compatibility with scikit-learn, use `early_stopping_rounds` in constructor or`set_params` instead.\n",
            "  warnings.warn(\n"
          ]
        },
        {
          "output_type": "stream",
          "name": "stdout",
          "text": [
            "[0]\tvalidation_0-logloss:0.10718\n"
          ]
        },
        {
          "output_type": "stream",
          "name": "stderr",
          "text": [
            "/usr/local/lib/python3.10/dist-packages/xgboost/core.py:160: UserWarning: [01:23:14] WARNING: /workspace/src/learner.cc:742: \n",
            "Parameters: { \"verbose\" } are not used.\n",
            "\n",
            "  warnings.warn(smsg, UserWarning)\n"
          ]
        },
        {
          "output_type": "stream",
          "name": "stdout",
          "text": [
            "[100]\tvalidation_0-logloss:0.01055\n",
            "[149]\tvalidation_0-logloss:0.01072\n",
            "accuracy_score : 0.9982678510820079\n",
            "roc_auc_score : 0.8535454060074494\n"
          ]
        }
      ]
    },
    {
      "cell_type": "markdown",
      "source": [
        "#LightGBM"
      ],
      "metadata": {
        "id": "RvD5lO0eqRYO"
      }
    },
    {
      "cell_type": "code",
      "source": [
        "!pip install lightgbm\n",
        "from lightgbm import LGBMClassifier"
      ],
      "metadata": {
        "colab": {
          "base_uri": "https://localhost:8080/"
        },
        "id": "5JGikN3o_0EF",
        "outputId": "8b625c63-00b1-4fe3-c52d-d55400835910"
      },
      "execution_count": null,
      "outputs": [
        {
          "output_type": "stream",
          "name": "stdout",
          "text": [
            "Requirement already satisfied: lightgbm in /usr/local/lib/python3.10/dist-packages (4.1.0)\n",
            "Requirement already satisfied: numpy in /usr/local/lib/python3.10/dist-packages (from lightgbm) (1.25.2)\n",
            "Requirement already satisfied: scipy in /usr/local/lib/python3.10/dist-packages (from lightgbm) (1.11.4)\n"
          ]
        }
      ]
    },
    {
      "cell_type": "markdown",
      "source": [
        "##Score"
      ],
      "metadata": {
        "id": "l4ye7RXGvoIm"
      }
    },
    {
      "cell_type": "code",
      "source": [
        "lgb = LGBMClassifier(num_leaves=30, objective='binary')\n",
        "lgb.fit(x_tr, y_tr)\n",
        "val_pred_lgb = lgb.predict(x_val)\n",
        "val_pred_ratio_lgb = lgb.predict_proba(x_val)[:,1]\n",
        "\n",
        "print('accuracy_score: {}'.format(accuracy_score(y_val,val_pred_lgb)))\n",
        "print('f1_score: {}'.format(f1_score(y_val,val_pred_lgb)))\n",
        "print('recall_score: {}'.format(recall_score(y_val,val_pred_lgb)))\n",
        "print('precision_score: {}'.format(precision_score(y_val,val_pred_lgb)))\n",
        "print('roc_auc_score: {}'.format(roc_auc_score(y_val,val_pred_ratio_lgb)))"
      ],
      "metadata": {
        "id": "6KyRZQCaqQo1",
        "colab": {
          "base_uri": "https://localhost:8080/"
        },
        "outputId": "33091754-58f5-40ee-985e-cbcdf8654472"
      },
      "execution_count": null,
      "outputs": [
        {
          "output_type": "stream",
          "name": "stdout",
          "text": [
            "[LightGBM] [Info] Number of positive: 291, number of negative: 159200\n",
            "[LightGBM] [Info] Auto-choosing col-wise multi-threading, the overhead of testing was 0.011455 seconds.\n",
            "You can set `force_col_wise=true` to remove the overhead.\n",
            "[LightGBM] [Info] Total Bins 510\n",
            "[LightGBM] [Info] Number of data points in the train set: 159491, number of used features: 2\n",
            "[LightGBM] [Info] [binary:BoostFromScore]: pavg=0.001825 -> initscore=-6.304593\n",
            "[LightGBM] [Info] Start training from score -6.304593\n",
            "accuracy_score: 0.9955358262483385\n",
            "f1_score: 0.16037735849056603\n",
            "recall_score: 0.32075471698113206\n",
            "precision_score: 0.1069182389937107\n",
            "roc_auc_score: 0.9325144755171858\n"
          ]
        }
      ]
    },
    {
      "cell_type": "markdown",
      "source": [
        "## Confusion Matrix"
      ],
      "metadata": {
        "id": "OTkSGYFDvuji"
      }
    },
    {
      "cell_type": "code",
      "source": [
        "cm = confusion_matrix(y_val, val_pred_xgb)\n",
        "sns.heatmap(cm, annot=True, fmt=\"d\", cmap=\"Blues\")\n",
        "plt.xlabel('Predicted labels')\n",
        "plt.ylabel('True labels')\n",
        "plt.title('Confusion Matrix')\n",
        "plt.show()"
      ],
      "metadata": {
        "id": "kQmqQeDBqdVe",
        "colab": {
          "base_uri": "https://localhost:8080/",
          "height": 472
        },
        "outputId": "b5d352e5-8e59-4343-e314-31a18f540cb4"
      },
      "execution_count": null,
      "outputs": [
        {
          "output_type": "display_data",
          "data": {
            "text/plain": [
              "<Figure size 640x480 with 2 Axes>"
            ],
            "image/png": "[encoded data removed]"
          },
          "metadata": {}
        }
      ]
    },
    {
      "cell_type": "markdown",
      "source": [
        "## Predict - PCA"
      ],
      "metadata": {
        "id": "6BaPllqMvy89"
      }
    },
    {
      "cell_type": "code",
      "source": [
        "lgb = LGBMClassifier(num_leaves=30, objective='binary')\n",
        "lgb.fit(train_pca,y_train)\n",
        "lgb_pred_pca = lgb.predict(test_pca)\n",
        "lgb_pred_pca_pb = lgb.predict_proba(test_pca)[:,1]\n",
        "print('accuracy_score : {}'.format(accuracy_score(y_test,lgb_pred_pca)))\n",
        "print('roc_auc_score : {}'.format(roc_auc_score(y_test,lgb_pred_pca_pb)))"
      ],
      "metadata": {
        "id": "pLo7psN5qdMf",
        "colab": {
          "base_uri": "https://localhost:8080/"
        },
        "outputId": "3a467dcd-df18-4174-985e-078e49d750f4"
      },
      "execution_count": null,
      "outputs": [
        {
          "output_type": "stream",
          "name": "stdout",
          "text": [
            "[LightGBM] [Info] Number of positive: 344, number of negative: 199020\n",
            "[LightGBM] [Info] Auto-choosing col-wise multi-threading, the overhead of testing was 0.018904 seconds.\n",
            "You can set `force_col_wise=true` to remove the overhead.\n",
            "[LightGBM] [Info] Total Bins 510\n",
            "[LightGBM] [Info] Number of data points in the train set: 199364, number of used features: 2\n",
            "[LightGBM] [Info] [binary:BoostFromScore]: pavg=0.001725 -> initscore=-6.360519\n",
            "[LightGBM] [Info] Start training from score -6.360519\n",
            "accuracy_score : 0.9978348138525098\n",
            "roc_auc_score : 0.8464984402304878\n"
          ]
        }
      ]
    },
    {
      "cell_type": "markdown",
      "source": [
        "##Predict - tSNE"
      ],
      "metadata": {
        "id": "J7DcLdct3PgK"
      }
    },
    {
      "cell_type": "code",
      "source": [
        "lgb = LGBMClassifier(num_leaves=30, objective='binary')\n",
        "lgb.fit(train_tsne,y_train)\n",
        "lgb_pred_tsne = lgb.predict(test_tsne)\n",
        "lgb_pred_tsne_pb = lgb.predict_proba(test_tsne)[:,1]\n",
        "print('accuracy_score : {}'.format(accuracy_score(y_test,lgb_pred_tsne)))\n",
        "print('roc_auc_score : {}'.format(roc_auc_score(y_test,lgb_pred_tsne_pb)))"
      ],
      "metadata": {
        "colab": {
          "base_uri": "https://localhost:8080/"
        },
        "id": "KaVWcI3d3UWk",
        "outputId": "dd1e0c92-288a-464b-c0b4-e9e63c0ae20c"
      },
      "execution_count": null,
      "outputs": [
        {
          "output_type": "stream",
          "name": "stdout",
          "text": [
            "[LightGBM] [Info] Number of positive: 344, number of negative: 199020\n",
            "[LightGBM] [Info] Auto-choosing col-wise multi-threading, the overhead of testing was 0.014143 seconds.\n",
            "You can set `force_col_wise=true` to remove the overhead.\n",
            "[LightGBM] [Info] Total Bins 510\n",
            "[LightGBM] [Info] Number of data points in the train set: 199364, number of used features: 2\n",
            "[LightGBM] [Info] [binary:BoostFromScore]: pavg=0.001725 -> initscore=-6.360519\n",
            "[LightGBM] [Info] Start training from score -6.360519\n",
            "accuracy_score : 0.9971911098627155\n",
            "roc_auc_score : 0.8131757350879222\n"
          ]
        }
      ]
    },
    {
      "cell_type": "markdown",
      "source": [
        "##Predict - UMAP"
      ],
      "metadata": {
        "id": "A2vUS3mO3UvK"
      }
    },
    {
      "cell_type": "code",
      "source": [
        "lgb = LGBMClassifier(num_leaves=30, objective='binary')\n",
        "lgb.fit(train_umap,y_train)\n",
        "lgb_pred_umap = lgb.predict(test_umap)\n",
        "lgb_pred_umap_pb = lgb.predict_proba(test_umap)[:,1]\n",
        "print('accuracy_score : {}'.format(accuracy_score(y_test,lgb_pred_umap)))\n",
        "print('roc_auc_score : {}'.format(roc_auc_score(y_test,lgb_pred_umap_pb)))"
      ],
      "metadata": {
        "colab": {
          "base_uri": "https://localhost:8080/"
        },
        "id": "3EOaae8v3Yd2",
        "outputId": "a6ebfac9-40a7-4acb-fcc7-3a306ea65f72"
      },
      "execution_count": null,
      "outputs": [
        {
          "output_type": "stream",
          "name": "stdout",
          "text": [
            "[LightGBM] [Info] Number of positive: 344, number of negative: 199020\n",
            "[LightGBM] [Info] Auto-choosing col-wise multi-threading, the overhead of testing was 0.025553 seconds.\n",
            "You can set `force_col_wise=true` to remove the overhead.\n",
            "[LightGBM] [Info] Total Bins 510\n",
            "[LightGBM] [Info] Number of data points in the train set: 199364, number of used features: 2\n",
            "[LightGBM] [Info] [binary:BoostFromScore]: pavg=0.001725 -> initscore=-6.360519\n",
            "[LightGBM] [Info] Start training from score -6.360519\n",
            "accuracy_score : 0.9973432580784851\n",
            "roc_auc_score : 0.8222448956958601\n"
          ]
        }
      ]
    },
    {
      "cell_type": "markdown",
      "source": [
        "#CatBoost"
      ],
      "metadata": {
        "id": "SWXSSm5Wv26l"
      }
    },
    {
      "cell_type": "code",
      "source": [
        "!pip install catboost"
      ],
      "metadata": {
        "id": "4p0qQtNoy_J1",
        "colab": {
          "base_uri": "https://localhost:8080/"
        },
        "outputId": "c4d93ee5-6329-4d7c-83bd-a4c51bff17d4"
      },
      "execution_count": null,
      "outputs": [
        {
          "output_type": "stream",
          "name": "stdout",
          "text": [
            "Collecting catboost\n",
            "  Downloading catboost-1.2.5-cp310-cp310-manylinux2014_x86_64.whl (98.2 MB)\n",
            "\u001b[2K     \u001b[90m━━━━━━━━━━━━━━━━━━━━━━━━━━━━━━━━━━━━━━━━\u001b[0m \u001b[32m98.2/98.2 MB\u001b[0m \u001b[31m2.5 MB/s\u001b[0m eta \u001b[36m0:00:00\u001b[0m\n",
            "\u001b[?25hRequirement already satisfied: graphviz in /usr/local/lib/python3.10/dist-packages (from catboost) (0.20.3)\n",
            "Requirement already satisfied: matplotlib in /usr/local/lib/python3.10/dist-packages (from catboost) (3.7.1)\n",
            "Requirement already satisfied: numpy>=1.16.0 in /usr/local/lib/python3.10/dist-packages (from catboost) (1.25.2)\n",
            "Requirement already satisfied: pandas>=0.24 in /usr/local/lib/python3.10/dist-packages (from catboost) (2.0.3)\n",
            "Requirement already satisfied: scipy in /usr/local/lib/python3.10/dist-packages (from catboost) (1.11.4)\n",
            "Requirement already satisfied: plotly in /usr/local/lib/python3.10/dist-packages (from catboost) (5.15.0)\n",
            "Requirement already satisfied: six in /usr/local/lib/python3.10/dist-packages (from catboost) (1.16.0)\n",
            "Requirement already satisfied: python-dateutil>=2.8.2 in /usr/local/lib/python3.10/dist-packages (from pandas>=0.24->catboost) (2.8.2)\n",
            "Requirement already satisfied: pytz>=2020.1 in /usr/local/lib/python3.10/dist-packages (from pandas>=0.24->catboost) (2023.4)\n",
            "Requirement already satisfied: tzdata>=2022.1 in /usr/local/lib/python3.10/dist-packages (from pandas>=0.24->catboost) (2024.1)\n",
            "Requirement already satisfied: contourpy>=1.0.1 in /usr/local/lib/python3.10/dist-packages (from matplotlib->catboost) (1.2.1)\n",
            "Requirement already satisfied: cycler>=0.10 in /usr/local/lib/python3.10/dist-packages (from matplotlib->catboost) (0.12.1)\n",
            "Requirement already satisfied: fonttools>=4.22.0 in /usr/local/lib/python3.10/dist-packages (from matplotlib->catboost) (4.53.0)\n",
            "Requirement already satisfied: kiwisolver>=1.0.1 in /usr/local/lib/python3.10/dist-packages (from matplotlib->catboost) (1.4.5)\n",
            "Requirement already satisfied: packaging>=20.0 in /usr/local/lib/python3.10/dist-packages (from matplotlib->catboost) (24.1)\n",
            "Requirement already satisfied: pillow>=6.2.0 in /usr/local/lib/python3.10/dist-packages (from matplotlib->catboost) (9.4.0)\n",
            "Requirement already satisfied: pyparsing>=2.3.1 in /usr/local/lib/python3.10/dist-packages (from matplotlib->catboost) (3.1.2)\n",
            "Requirement already satisfied: tenacity>=6.2.0 in /usr/local/lib/python3.10/dist-packages (from plotly->catboost) (8.4.2)\n",
            "Installing collected packages: catboost\n",
            "Successfully installed catboost-1.2.5\n"
          ]
        }
      ]
    },
    {
      "cell_type": "markdown",
      "source": [
        "##Score"
      ],
      "metadata": {
        "id": "NekEi8CRyXVo"
      }
    },
    {
      "cell_type": "code",
      "source": [
        "from catboost import CatBoostClassifier\n",
        "cb = CatBoostClassifier(verbose=False)\n",
        "cb.fit(x_tr,y_tr)\n",
        "val_pred_cb = cb.predict(x_val)\n",
        "val_pred_ratio_cb = cb.predict_proba(x_val)[:,1]\n",
        "print('accuracy_score: {}'.format(accuracy_score(y_val,val_pred_cb)))\n",
        "print('f1_score: {}'.format(f1_score(y_val,val_pred_cb)))\n",
        "print('recall_score: {}'.format(recall_score(y_val,val_pred_cb)))\n",
        "print('precision_score: {}'.format(precision_score(y_val,val_pred_cb)))\n",
        "print('roc_auc_score: {}'.format(roc_auc_score(y_val,val_pred_ratio_cb)))"
      ],
      "metadata": {
        "id": "0VwHdES6vloK",
        "colab": {
          "base_uri": "https://localhost:8080/"
        },
        "outputId": "6d7779a5-7c2d-41a1-d167-cb47886b4504"
      },
      "execution_count": null,
      "outputs": [
        {
          "output_type": "stream",
          "name": "stdout",
          "text": [
            "accuracy_score: 0.9986206204699922\n",
            "f1_score: 0.03508771929824561\n",
            "recall_score: 0.018867924528301886\n",
            "precision_score: 0.25\n",
            "roc_auc_score: 0.8714059967969068\n"
          ]
        }
      ]
    },
    {
      "cell_type": "markdown",
      "source": [
        "##Confusion Matrix"
      ],
      "metadata": {
        "id": "nW-Ec5pkzWSJ"
      }
    },
    {
      "cell_type": "code",
      "source": [
        "cm = confusion_matrix(y_val, val_pred_cb)\n",
        "sns.heatmap(cm, annot=True, fmt=\"d\", cmap=\"Blues\")\n",
        "plt.xlabel('Predicted labels')\n",
        "plt.ylabel('True labels')\n",
        "plt.title('Confusion Matrix')\n",
        "plt.show()"
      ],
      "metadata": {
        "id": "yxpJ7S2ezVF-",
        "colab": {
          "base_uri": "https://localhost:8080/",
          "height": 472
        },
        "outputId": "8fda5b15-ab6b-4c20-975d-b3364202c583"
      },
      "execution_count": null,
      "outputs": [
        {
          "output_type": "display_data",
          "data": {
            "text/plain": [
              "<Figure size 640x480 with 2 Axes>"
            ],
            "image/png": "[encoded data removed]"
          },
          "metadata": {}
        }
      ]
    },
    {
      "cell_type": "markdown",
      "source": [
        "##Predict - PCA"
      ],
      "metadata": {
        "id": "xLQ5yMZpziRv"
      }
    },
    {
      "cell_type": "code",
      "source": [
        "from catboost import CatBoostClassifier\n",
        "cb = CatBoostClassifier(verbose=False)\n",
        "cb.fit(train_pca,y_train)\n",
        "cb_pred_pca = cb.predict(test_pca)\n",
        "cb_pred_pca_pb = cb.predict_proba(test_pca)[:,1]\n",
        "print('accuracy_score : {}'.format(accuracy_score(y_test,cb_pred_pca)))\n",
        "print('roc_auc_score : {}'.format(roc_auc_score(y_test,cb_pred_pca_pb)))"
      ],
      "metadata": {
        "id": "KIOvQgPzzVvY",
        "colab": {
          "base_uri": "https://localhost:8080/"
        },
        "outputId": "9d2976ef-8a6b-456d-d1de-22788b14a729"
      },
      "execution_count": null,
      "outputs": [
        {
          "output_type": "stream",
          "name": "stdout",
          "text": [
            "accuracy_score : 0.9981976288285758\n",
            "roc_auc_score : 0.8522582198823478\n"
          ]
        }
      ]
    },
    {
      "cell_type": "markdown",
      "source": [
        "##Predict - tSNE"
      ],
      "metadata": {
        "id": "uIuwZUh539fw"
      }
    },
    {
      "cell_type": "code",
      "source": [
        "cb = CatBoostClassifier()\n",
        "cb.fit(train_tsne,y_train,verbose=False)\n",
        "cb_pred_tsne = cb.predict(test_tsne)\n",
        "cb_pred_tsne_pb = cb.predict_proba(test_tsne)[:,1]\n",
        "print('accuracy_score : {}'.format(accuracy_score(y_test,cb_pred_tsne)))\n",
        "print('roc_auc_score : {}'.format(roc_auc_score(y_test,cb_pred_tsne_pb)))"
      ],
      "metadata": {
        "colab": {
          "base_uri": "https://localhost:8080/"
        },
        "id": "U_eVPuz54A0N",
        "outputId": "c5af2b93-41d2-4a29-c89f-77a49791d118"
      },
      "execution_count": null,
      "outputs": [
        {
          "output_type": "stream",
          "name": "stdout",
          "text": [
            "accuracy_score : 0.9982327399552918\n",
            "roc_auc_score : 0.8321167949707138\n"
          ]
        }
      ]
    },
    {
      "cell_type": "markdown",
      "source": [
        "##Predict - UMAP"
      ],
      "metadata": {
        "id": "GexKEYxm4BKo"
      }
    },
    {
      "cell_type": "code",
      "source": [
        "cb = CatBoostClassifier()\n",
        "cb.fit(train_umap,y_train,verbose=False)\n",
        "cb_pred_umap = cb.predict(test_umap)\n",
        "cb_pred_umap_pb = cb.predict_proba(test_umap)[:,1]\n",
        "print('accuracy_score : {}'.format(accuracy_score(y_test,cb_pred_umap)))\n",
        "print('roc_auc_score : {}'.format(roc_auc_score(y_test,cb_pred_umap_pb)))"
      ],
      "metadata": {
        "colab": {
          "base_uri": "https://localhost:8080/"
        },
        "id": "g7HNbvtb4D__",
        "outputId": "4cf091ac-0de0-47dd-8532-20d898bf48b3"
      },
      "execution_count": null,
      "outputs": [
        {
          "output_type": "stream",
          "name": "stdout",
          "text": [
            "accuracy_score : 0.9982678510820079\n",
            "roc_auc_score : 0.8344976021217302\n"
          ]
        }
      ]
    },
    {
      "cell_type": "markdown",
      "source": [
        "# TensorFlow - PCA"
      ],
      "metadata": {
        "id": "TAwTCIk1OD06"
      }
    },
    {
      "cell_type": "code",
      "source": [
        "import tensorflow as tf\n",
        "from sklearn.metrics import roc_auc_score, accuracy_score\n",
        "\n",
        "model = tf.keras.Sequential([\n",
        "    tf.keras.layers.Dense(16, activation='relu', input_shape=(2,)),\n",
        "    tf.keras.layers.Dense(16, activation='relu'),\n",
        "    tf.keras.layers.Dense(1, activation='sigmoid')\n",
        "])\n",
        "\n",
        "model.compile(\n",
        "    optimizer='adam',\n",
        "    loss='binary_crossentropy',\n",
        "    metrics=[\n",
        "        'accuracy',\n",
        "        tf.keras.metrics.AUC(name='auc')\n",
        "    ]\n",
        ")\n",
        "\n",
        "model.fit(train_pca, y_train, epochs=10, batch_size=32, validation_split=0.2)\n",
        "\n",
        "y_pred_proba_tf_pca = model.predict(test_pca).flatten()\n",
        "y_pred_tf_pca = (y_pred_proba_tf_pca > 0.5).astype(int)\n",
        "\n",
        "accuracy = accuracy_score(y_test, y_pred_tf_pca)\n",
        "print(f'Accuracy: {accuracy}')\n",
        "\n",
        "roc_auc = roc_auc_score(y_test, y_pred_proba_tf_pca)\n",
        "print(f'ROC AUC Score: {roc_auc}')"
      ],
      "metadata": {
        "id": "qKZMWfmsNfK7",
        "colab": {
          "base_uri": "https://localhost:8080/"
        },
        "outputId": "48d1d585-4c1d-4c33-f261-899e6e02f1a3"
      },
      "execution_count": null,
      "outputs": [
        {
          "output_type": "stream",
          "name": "stdout",
          "text": [
            "Epoch 1/10\n",
            "4985/4985 [==============================] - 35s 6ms/step - loss: 0.0205 - accuracy: 0.9983 - auc: 0.6082 - val_loss: 0.0111 - val_accuracy: 0.9983 - val_auc: 0.7465\n",
            "Epoch 2/10\n",
            "4985/4985 [==============================] - 45s 9ms/step - loss: 0.0107 - accuracy: 0.9983 - auc: 0.7009 - val_loss: 0.0106 - val_accuracy: 0.9983 - val_auc: 0.7221\n",
            "Epoch 3/10\n",
            "4985/4985 [==============================] - 42s 8ms/step - loss: 0.0105 - accuracy: 0.9983 - auc: 0.7136 - val_loss: 0.0103 - val_accuracy: 0.9983 - val_auc: 0.7083\n",
            "Epoch 4/10\n",
            "4985/4985 [==============================] - 55s 11ms/step - loss: 0.0103 - accuracy: 0.9983 - auc: 0.7291 - val_loss: 0.0102 - val_accuracy: 0.9983 - val_auc: 0.7149\n",
            "Epoch 5/10\n",
            "4985/4985 [==============================] - 36s 7ms/step - loss: 0.0103 - accuracy: 0.9983 - auc: 0.7256 - val_loss: 0.0101 - val_accuracy: 0.9983 - val_auc: 0.7167\n",
            "Epoch 6/10\n",
            "4985/4985 [==============================] - 17s 3ms/step - loss: 0.0102 - accuracy: 0.9983 - auc: 0.7374 - val_loss: 0.0101 - val_accuracy: 0.9983 - val_auc: 0.7182\n",
            "Epoch 7/10\n",
            "4985/4985 [==============================] - 17s 3ms/step - loss: 0.0101 - accuracy: 0.9983 - auc: 0.7367 - val_loss: 0.0100 - val_accuracy: 0.9983 - val_auc: 0.7176\n",
            "Epoch 8/10\n",
            "4985/4985 [==============================] - 16s 3ms/step - loss: 0.0100 - accuracy: 0.9983 - auc: 0.7484 - val_loss: 0.0100 - val_accuracy: 0.9983 - val_auc: 0.7500\n",
            "Epoch 9/10\n",
            "4985/4985 [==============================] - 24s 5ms/step - loss: 0.0100 - accuracy: 0.9983 - auc: 0.7538 - val_loss: 0.0100 - val_accuracy: 0.9983 - val_auc: 0.7303\n",
            "Epoch 10/10\n",
            "4985/4985 [==============================] - 34s 7ms/step - loss: 0.0100 - accuracy: 0.9983 - auc: 0.7674 - val_loss: 0.0101 - val_accuracy: 0.9983 - val_auc: 0.8047\n",
            "2671/2671 [==============================] - 6s 2ms/step\n",
            "Accuracy: 0.9982678510820079\n",
            "ROC AUC Score: 0.8609848094768078\n"
          ]
        }
      ]
    },
    {
      "cell_type": "markdown",
      "source": [
        "#TensorFlow - tSNE"
      ],
      "metadata": {
        "id": "WWlon_IgOxDj"
      }
    },
    {
      "cell_type": "code",
      "source": [
        "model = tf.keras.Sequential([\n",
        "    tf.keras.layers.Dense(16, activation='relu', input_shape=(2,)),\n",
        "    tf.keras.layers.Dense(16, activation='relu'),\n",
        "    tf.keras.layers.Dense(1, activation='sigmoid')\n",
        "])\n",
        "\n",
        "model.compile(\n",
        "    optimizer='adam',\n",
        "    loss='binary_crossentropy',\n",
        "    metrics=[\n",
        "        'accuracy',\n",
        "        tf.keras.metrics.AUC(name='auc')\n",
        "    ]\n",
        ")\n",
        "\n",
        "model.fit(train_tsne, y_train, epochs=10, batch_size=32, validation_split=0.2)\n",
        "\n",
        "y_pred_proba_tf_tsne = model.predict(test_tsne).flatten()\n",
        "y_pred_tf_tsne = (y_pred_proba_tf_tsne > 0.5).astype(int)\n",
        "\n",
        "accuracy = accuracy_score(y_test, y_pred_tf_tsne)\n",
        "print(f'Accuracy: {accuracy}')\n",
        "\n",
        "roc_auc = roc_auc_score(y_test, y_pred_proba_tf_tsne)\n",
        "print(f'ROC AUC Score: {roc_auc}')"
      ],
      "metadata": {
        "id": "Thmok9-5Oxnj",
        "colab": {
          "base_uri": "https://localhost:8080/"
        },
        "outputId": "a411f59b-f1b4-4b56-f5a6-29fadd9258d9"
      },
      "execution_count": null,
      "outputs": [
        {
          "output_type": "stream",
          "name": "stdout",
          "text": [
            "Epoch 1/10\n",
            "4985/4985 [==============================] - 69s 14ms/step - loss: 0.0169 - accuracy: 0.9983 - auc: 0.5490 - val_loss: 0.0118 - val_accuracy: 0.9983 - val_auc: 0.7330\n",
            "Epoch 2/10\n",
            "4985/4985 [==============================] - 67s 13ms/step - loss: 0.0116 - accuracy: 0.9983 - auc: 0.6859 - val_loss: 0.0109 - val_accuracy: 0.9983 - val_auc: 0.7118\n",
            "Epoch 3/10\n",
            "4985/4985 [==============================] - 56s 11ms/step - loss: 0.0114 - accuracy: 0.9983 - auc: 0.7133 - val_loss: 0.0113 - val_accuracy: 0.9983 - val_auc: 0.6382\n",
            "Epoch 4/10\n",
            "4985/4985 [==============================] - 43s 9ms/step - loss: 0.0111 - accuracy: 0.9983 - auc: 0.7158 - val_loss: 0.0105 - val_accuracy: 0.9983 - val_auc: 0.7570\n",
            "Epoch 5/10\n",
            "4985/4985 [==============================] - 26s 5ms/step - loss: 0.0111 - accuracy: 0.9983 - auc: 0.7178 - val_loss: 0.0103 - val_accuracy: 0.9983 - val_auc: 0.7857\n",
            "Epoch 6/10\n",
            "4985/4985 [==============================] - 45s 9ms/step - loss: 0.0110 - accuracy: 0.9983 - auc: 0.7200 - val_loss: 0.0106 - val_accuracy: 0.9983 - val_auc: 0.7303\n",
            "Epoch 7/10\n",
            "4985/4985 [==============================] - 44s 9ms/step - loss: 0.0110 - accuracy: 0.9983 - auc: 0.7199 - val_loss: 0.0106 - val_accuracy: 0.9983 - val_auc: 0.7330\n",
            "Epoch 8/10\n",
            "4985/4985 [==============================] - 48s 10ms/step - loss: 0.0109 - accuracy: 0.9983 - auc: 0.7441 - val_loss: 0.0105 - val_accuracy: 0.9983 - val_auc: 0.7635\n",
            "Epoch 9/10\n",
            "4985/4985 [==============================] - 33s 7ms/step - loss: 0.0109 - accuracy: 0.9983 - auc: 0.7254 - val_loss: 0.0104 - val_accuracy: 0.9983 - val_auc: 0.7159\n",
            "Epoch 10/10\n",
            "4985/4985 [==============================] - 16s 3ms/step - loss: 0.0108 - accuracy: 0.9983 - auc: 0.7383 - val_loss: 0.0107 - val_accuracy: 0.9983 - val_auc: 0.7006\n",
            "2671/2671 [==============================] - 4s 2ms/step\n",
            "Accuracy: 0.9982678510820079\n",
            "ROC AUC Score: 0.8753301340498715\n"
          ]
        }
      ]
    },
    {
      "cell_type": "markdown",
      "source": [
        "#Tensorflow - UMAP"
      ],
      "metadata": {
        "id": "3Rt2In0KPAqH"
      }
    },
    {
      "cell_type": "code",
      "source": [
        "model = tf.keras.Sequential([\n",
        "    tf.keras.layers.Dense(16, activation='relu', input_shape=(2,)),\n",
        "    tf.keras.layers.Dense(16, activation='relu'),\n",
        "    tf.keras.layers.Dense(1, activation='sigmoid')\n",
        "])\n",
        "\n",
        "model.compile(\n",
        "    optimizer='adam',\n",
        "    loss='binary_crossentropy',\n",
        "    metrics=[\n",
        "        'accuracy',\n",
        "        tf.keras.metrics.AUC(name='auc')\n",
        "    ]\n",
        ")\n",
        "\n",
        "model.fit(train_umap, y_train, epochs=10, batch_size=32, validation_split=0.2)\n",
        "\n",
        "y_pred_proba_tf_umap = model.predict(test_umap).flatten()\n",
        "y_pred_tf_umap = (y_pred_proba_tf_umap > 0.5).astype(int)\n",
        "\n",
        "accuracy = accuracy_score(y_test, y_pred_tf_umap)\n",
        "print(f'Accuracy: {accuracy}')\n",
        "\n",
        "roc_auc = roc_auc_score(y_test, y_pred_proba_tf_umap)\n",
        "print(f'ROC AUC Score: {roc_auc}')"
      ],
      "metadata": {
        "id": "TIK4B7VXPCZ9",
        "colab": {
          "base_uri": "https://localhost:8080/"
        },
        "outputId": "1136476d-a488-4618-a2eb-9e89b1223507"
      },
      "execution_count": null,
      "outputs": [
        {
          "output_type": "stream",
          "name": "stdout",
          "text": [
            "Epoch 1/10\n",
            "4985/4985 [==============================] - 19s 4ms/step - loss: 0.0362 - accuracy: 0.9916 - auc: 0.5634 - val_loss: 0.0127 - val_accuracy: 0.9983 - val_auc: 0.6280\n",
            "Epoch 2/10\n",
            "4985/4985 [==============================] - 16s 3ms/step - loss: 0.0120 - accuracy: 0.9983 - auc: 0.6769 - val_loss: 0.0114 - val_accuracy: 0.9983 - val_auc: 0.6750\n",
            "Epoch 3/10\n",
            "4985/4985 [==============================] - 19s 4ms/step - loss: 0.0116 - accuracy: 0.9983 - auc: 0.6860 - val_loss: 0.0116 - val_accuracy: 0.9983 - val_auc: 0.6656\n",
            "Epoch 4/10\n",
            "4985/4985 [==============================] - 28s 6ms/step - loss: 0.0116 - accuracy: 0.9983 - auc: 0.6908 - val_loss: 0.0113 - val_accuracy: 0.9983 - val_auc: 0.6699\n",
            "Epoch 5/10\n",
            "4985/4985 [==============================] - 18s 4ms/step - loss: 0.0115 - accuracy: 0.9983 - auc: 0.6865 - val_loss: 0.0111 - val_accuracy: 0.9983 - val_auc: 0.7328\n",
            "Epoch 6/10\n",
            "4985/4985 [==============================] - 44s 9ms/step - loss: 0.0115 - accuracy: 0.9983 - auc: 0.6959 - val_loss: 0.0112 - val_accuracy: 0.9983 - val_auc: 0.6748\n",
            "Epoch 7/10\n",
            "4985/4985 [==============================] - 54s 11ms/step - loss: 0.0114 - accuracy: 0.9983 - auc: 0.6974 - val_loss: 0.0112 - val_accuracy: 0.9983 - val_auc: 0.6928\n",
            "Epoch 8/10\n",
            "4985/4985 [==============================] - 45s 9ms/step - loss: 0.0114 - accuracy: 0.9983 - auc: 0.7040 - val_loss: 0.0113 - val_accuracy: 0.9983 - val_auc: 0.7341\n",
            "Epoch 9/10\n",
            "4985/4985 [==============================] - 33s 7ms/step - loss: 0.0113 - accuracy: 0.9983 - auc: 0.7162 - val_loss: 0.0112 - val_accuracy: 0.9983 - val_auc: 0.7021\n",
            "Epoch 10/10\n",
            "4985/4985 [==============================] - 27s 5ms/step - loss: 0.0113 - accuracy: 0.9983 - auc: 0.7003 - val_loss: 0.0108 - val_accuracy: 0.9983 - val_auc: 0.7133\n",
            "2671/2671 [==============================] - 4s 2ms/step\n",
            "Accuracy: 0.9982678510820079\n",
            "ROC AUC Score: 0.8104920839122726\n"
          ]
        }
      ]
    },
    {
      "cell_type": "markdown",
      "source": [
        "#Pytorch - PCA"
      ],
      "metadata": {
        "id": "8wjpgiiURZbW"
      }
    },
    {
      "cell_type": "code",
      "source": [
        "import torch\n",
        "import torch.nn as nn\n",
        "import torch.optim as optim\n",
        "from torch.utils.data import DataLoader, TensorDataset\n",
        "\n",
        "X_train_tensor = torch.tensor(train_pca, dtype=torch.float32)\n",
        "y_train_tensor = torch.tensor(y_train.values, dtype=torch.long)\n",
        "X_test_tensor = torch.tensor(test_pca, dtype=torch.float32)\n",
        "y_test_tensor = torch.tensor(y_test.values, dtype=torch.long)\n",
        "\n",
        "train_dataset = TensorDataset(X_train_tensor, y_train_tensor)\n",
        "test_dataset = TensorDataset(X_test_tensor, y_test_tensor)\n",
        "train_loader = DataLoader(train_dataset, batch_size=64, shuffle=True)\n",
        "test_loader = DataLoader(test_dataset, batch_size=64, shuffle=False)\n",
        "\n",
        "class CreditCardNN(nn.Module):\n",
        "    def __init__(self):\n",
        "        super(CreditCardNN, self).__init__()\n",
        "        self.layer1 = nn.Linear(X_train_tensor.shape[1], 128)\n",
        "        self.layer2 = nn.Linear(128, 64)\n",
        "        self.layer3 = nn.Linear(64, 2)\n",
        "\n",
        "    def forward(self, x):\n",
        "        x = torch.relu(self.layer1(x))\n",
        "        x = torch.relu(self.layer2(x))\n",
        "        x = self.layer3(x)\n",
        "        return x\n",
        "\n",
        "model = CreditCardNN()\n",
        "criterion = nn.CrossEntropyLoss()\n",
        "optimizer = optim.Adam(model.parameters(), lr=0.001)\n",
        "\n",
        "num_epochs = 10\n",
        "for epoch in range(num_epochs):\n",
        "    model.train()\n",
        "    for X_batch, y_batch in train_loader:\n",
        "        optimizer.zero_grad()\n",
        "        outputs = model(X_batch)\n",
        "        loss = criterion(outputs, y_batch)\n",
        "        loss.backward()\n",
        "        optimizer.step()\n",
        "    print(f\"Epoch {epoch+1}/{num_epochs}, Loss: {loss.item()}\")\n",
        "\n",
        "model.eval()\n",
        "y_pred_list = []\n",
        "y_pred_proba_pca = []\n",
        "y_true_pca = []\n",
        "\n",
        "with torch.no_grad():\n",
        "    for X_batch, _ in test_loader:\n",
        "        outputs = model(X_batch)\n",
        "        _, y_pred = torch.max(outputs, 1)\n",
        "        y_pred_list.append(y_pred)\n",
        "\n",
        "    for inputs, labels in test_loader:\n",
        "        outputs = model(inputs)\n",
        "        y_pred_proba_pca.extend(outputs[:, 1].detach().cpu().numpy())\n",
        "        y_true_pca.extend(labels.detach().cpu().numpy())\n",
        "\n",
        "    y_pred_tensor = torch.cat(y_pred_list)\n",
        "    pth_y_pred_pca = y_pred_tensor.detach().cpu().numpy()\n",
        "\n",
        "accuracy = accuracy_score(y_test, pth_y_pred_pca)\n",
        "ra_score = roc_auc_score(y_true_pca, y_pred_proba_pca)\n",
        "print('accuracy: {}'.format(accuracy))\n",
        "print('roc_auc_score: {}'.format(ra_score))"
      ],
      "metadata": {
        "id": "RrLsrumhRRlX",
        "colab": {
          "base_uri": "https://localhost:8080/"
        },
        "outputId": "f707c676-8789-445d-f4e8-f3836152feb2"
      },
      "execution_count": null,
      "outputs": [
        {
          "output_type": "stream",
          "name": "stdout",
          "text": [
            "Epoch 1/10, Loss: 0.00034019266604445875\n",
            "Epoch 2/10, Loss: 0.001241615042090416\n",
            "Epoch 3/10, Loss: 0.003035093890503049\n",
            "Epoch 4/10, Loss: 0.002002665540203452\n",
            "Epoch 5/10, Loss: 0.0006015959661453962\n",
            "Epoch 6/10, Loss: 0.00040708231972530484\n",
            "Epoch 7/10, Loss: 0.0005867011495865881\n",
            "Epoch 8/10, Loss: 0.0005571881192736328\n",
            "Epoch 9/10, Loss: 0.0004483716329559684\n",
            "Epoch 10/10, Loss: 0.0007076695328578353\n",
            "accuracy: 0.9982678510820079\n",
            "roc_auc_score: 0.8884975514232798\n"
          ]
        }
      ]
    },
    {
      "cell_type": "markdown",
      "source": [
        "#Pytorch - tSNE"
      ],
      "metadata": {
        "id": "y-VjcltpRo5O"
      }
    },
    {
      "cell_type": "code",
      "source": [
        "import torch\n",
        "import torch.nn as nn\n",
        "import torch.optim as optim\n",
        "from torch.utils.data import DataLoader, TensorDataset\n",
        "\n",
        "X_train_tensor = torch.tensor(train_tsne, dtype=torch.float32)\n",
        "y_train_tensor = torch.tensor(y_train.values, dtype=torch.long)\n",
        "X_test_tensor = torch.tensor(test_tsne, dtype=torch.float32)\n",
        "y_test_tensor = torch.tensor(y_test.values, dtype=torch.long)\n",
        "\n",
        "train_dataset = TensorDataset(X_train_tensor, y_train_tensor)\n",
        "test_dataset = TensorDataset(X_test_tensor, y_test_tensor)\n",
        "train_loader = DataLoader(train_dataset, batch_size=64, shuffle=True)\n",
        "test_loader = DataLoader(test_dataset, batch_size=64, shuffle=False)\n",
        "\n",
        "class CreditCardNN(nn.Module):\n",
        "    def __init__(self):\n",
        "        super(CreditCardNN, self).__init__()\n",
        "        self.layer1 = nn.Linear(X_train_tensor.shape[1], 128)\n",
        "        self.layer2 = nn.Linear(128, 64)\n",
        "        self.layer3 = nn.Linear(64, 2)\n",
        "\n",
        "    def forward(self, x):\n",
        "        x = torch.relu(self.layer1(x))\n",
        "        x = torch.relu(self.layer2(x))\n",
        "        x = self.layer3(x)\n",
        "        return x\n",
        "\n",
        "model = CreditCardNN()\n",
        "criterion = nn.CrossEntropyLoss()\n",
        "optimizer = optim.Adam(model.parameters(), lr=0.001)\n",
        "\n",
        "num_epochs = 10\n",
        "for epoch in range(num_epochs):\n",
        "    model.train()\n",
        "    for X_batch, y_batch in train_loader:\n",
        "        optimizer.zero_grad()\n",
        "        outputs = model(X_batch)\n",
        "        loss = criterion(outputs, y_batch)\n",
        "        loss.backward()\n",
        "        optimizer.step()\n",
        "    print(f\"Epoch {epoch+1}/{num_epochs}, Loss: {loss.item()}\")\n",
        "\n",
        "model.eval()\n",
        "y_pred_list = []\n",
        "y_pred_proba_tsne = []\n",
        "y_true_tsne = []\n",
        "\n",
        "with torch.no_grad():\n",
        "    for X_batch, _ in test_loader:\n",
        "        outputs = model(X_batch)\n",
        "        _, y_pred = torch.max(outputs, 1)\n",
        "        y_pred_list.append(y_pred)\n",
        "\n",
        "    for inputs, labels in test_loader:\n",
        "        outputs = model(inputs)\n",
        "        y_pred_proba_tsne.extend(outputs[:, 1].detach().cpu().numpy())\n",
        "        y_true_tsne.extend(labels.detach().cpu().numpy())\n",
        "\n",
        "    y_pred_tensor = torch.cat(y_pred_list)\n",
        "    pth_y_pred_tsne = y_pred_tensor.detach().cpu().numpy()\n",
        "\n",
        "accuracy = accuracy_score(y_test, pth_y_pred_tsne)\n",
        "ra_score = roc_auc_score(y_true_tsne, y_pred_proba_tsne)\n",
        "print('accuracy: {}'.format(accuracy))\n",
        "print('roc_auc_score: {}'.format(ra_score))"
      ],
      "metadata": {
        "id": "mt_vRn7nRswM",
        "colab": {
          "base_uri": "https://localhost:8080/"
        },
        "outputId": "9208c1ca-9bce-4c01-ac0c-96ed3d7a263d"
      },
      "execution_count": null,
      "outputs": [
        {
          "output_type": "stream",
          "name": "stdout",
          "text": [
            "Epoch 1/10, Loss: 0.0010293320519849658\n",
            "Epoch 2/10, Loss: 0.0015214201994240284\n",
            "Epoch 3/10, Loss: 0.004741244949400425\n",
            "Epoch 4/10, Loss: 0.003003939986228943\n",
            "Epoch 5/10, Loss: 0.0016204374842345715\n",
            "Epoch 6/10, Loss: 0.01575297862291336\n",
            "Epoch 7/10, Loss: 0.0005260957404971123\n",
            "Epoch 8/10, Loss: 0.0007567220600321889\n",
            "Epoch 9/10, Loss: 0.00041136349318549037\n",
            "Epoch 10/10, Loss: 0.01567128859460354\n",
            "accuracy: 0.9982678510820079\n",
            "roc_auc_score: 0.8463710999820971\n"
          ]
        }
      ]
    },
    {
      "cell_type": "markdown",
      "source": [
        "#Pytorch - UMAP"
      ],
      "metadata": {
        "id": "_UHjxdcQR1wi"
      }
    },
    {
      "cell_type": "code",
      "source": [
        "import torch\n",
        "import torch.nn as nn\n",
        "import torch.optim as optim\n",
        "from torch.utils.data import DataLoader, TensorDataset\n",
        "\n",
        "X_train_tensor = torch.tensor(train_umap, dtype=torch.float32)\n",
        "y_train_tensor = torch.tensor(y_train.values, dtype=torch.long)\n",
        "X_test_tensor = torch.tensor(test_umap, dtype=torch.float32)\n",
        "y_test_tensor = torch.tensor(y_test.values, dtype=torch.long)\n",
        "\n",
        "train_dataset = TensorDataset(X_train_tensor, y_train_tensor)\n",
        "test_dataset = TensorDataset(X_test_tensor, y_test_tensor)\n",
        "train_loader = DataLoader(train_dataset, batch_size=64, shuffle=True)\n",
        "test_loader = DataLoader(test_dataset, batch_size=64, shuffle=False)\n",
        "\n",
        "class CreditCardNN(nn.Module):\n",
        "    def __init__(self):\n",
        "        super(CreditCardNN, self).__init__()\n",
        "        self.layer1 = nn.Linear(X_train_tensor.shape[1], 128)\n",
        "        self.layer2 = nn.Linear(128, 64)\n",
        "        self.layer3 = nn.Linear(64, 2)\n",
        "\n",
        "    def forward(self, x):\n",
        "        x = torch.relu(self.layer1(x))\n",
        "        x = torch.relu(self.layer2(x))\n",
        "        x = self.layer3(x)\n",
        "        return x\n",
        "\n",
        "model = CreditCardNN()\n",
        "criterion = nn.CrossEntropyLoss()\n",
        "optimizer = optim.Adam(model.parameters(), lr=0.001)\n",
        "\n",
        "num_epochs = 10\n",
        "for epoch in range(num_epochs):\n",
        "    model.train()\n",
        "    for X_batch, y_batch in train_loader:\n",
        "        optimizer.zero_grad()\n",
        "        outputs = model(X_batch)\n",
        "        loss = criterion(outputs, y_batch)\n",
        "        loss.backward()\n",
        "        optimizer.step()\n",
        "    print(f\"Epoch {epoch+1}/{num_epochs}, Loss: {loss.item()}\")\n",
        "\n",
        "model.eval()\n",
        "y_pred_list = []\n",
        "y_pred_proba_umap = []\n",
        "y_true_umap = []\n",
        "\n",
        "with torch.no_grad():\n",
        "    for X_batch, _ in test_loader:\n",
        "        outputs = model(X_batch)\n",
        "        _, y_pred = torch.max(outputs, 1)\n",
        "        y_pred_list.append(y_pred)\n",
        "\n",
        "    for inputs, labels in test_loader:\n",
        "        outputs = model(inputs)\n",
        "        y_pred_proba_umap.extend(outputs[:, 1].detach().cpu().numpy())\n",
        "        y_true_umap.extend(labels.detach().cpu().numpy())\n",
        "\n",
        "    y_pred_tensor = torch.cat(y_pred_list)\n",
        "    pth_y_pred_umap = y_pred_tensor.detach().cpu().numpy()\n",
        "\n",
        "accuracy = accuracy_score(y_test, pth_y_pred_umap)\n",
        "ra_score = roc_auc_score(y_true_umap, y_pred_proba_umap)\n",
        "print('accuracy: {}'.format(accuracy))\n",
        "print('roc_auc_score: {}'.format(ra_score))"
      ],
      "metadata": {
        "id": "Xk0CPl-jR6fF",
        "colab": {
          "base_uri": "https://localhost:8080/"
        },
        "outputId": "957c1081-a3bc-45ac-9269-b296be299ab4"
      },
      "execution_count": null,
      "outputs": [
        {
          "output_type": "stream",
          "name": "stdout",
          "text": [
            "Epoch 1/10, Loss: 0.0007281337748281658\n",
            "Epoch 2/10, Loss: 0.0014695227146148682\n",
            "Epoch 3/10, Loss: 0.0006733722402714193\n",
            "Epoch 4/10, Loss: 0.000807963137049228\n",
            "Epoch 5/10, Loss: 0.0005073223728686571\n",
            "Epoch 6/10, Loss: 0.013249300420284271\n",
            "Epoch 7/10, Loss: 0.005291379522532225\n",
            "Epoch 8/10, Loss: 0.0002774993481580168\n",
            "Epoch 9/10, Loss: 0.006631507538259029\n",
            "Epoch 10/10, Loss: 0.0011669121449813247\n",
            "accuracy: 0.9982678510820079\n",
            "roc_auc_score: 0.7604296614452544\n"
          ]
        }
      ]
    },
    {
      "cell_type": "markdown",
      "source": [
        "## Compare"
      ],
      "metadata": {
        "id": "2KRBeSNeSXjE"
      }
    },
    {
      "cell_type": "code",
      "source": [
        "df = pd.DataFrame({\n",
        "    'Model': ['RF_GS_PCA', 'RF_RS_PCA', 'XGB_PCA', 'LGBM_PCA', 'CB_PCA', 'Tensorflow_PCA', 'Pytorch_PCA',\n",
        "              'XGB_tSNE', 'LGBM_tSNE', 'CB_tSNE', 'Tensorflow_tSNE', 'Pytorch_tSNE', 'XGB_UMAP', 'LGBM_UMAP',\n",
        "              'CB_UMAP', 'Tensorflow_UMAP', 'Pytorch_UMAP'],\n",
        "    'Accuracy_Score': [accuracy_score(y_test, rf_grid_pred), accuracy_score(y_test, rf_random_pred), accuracy_score(y_test, xgb_pred_pca),\n",
        "              accuracy_score(y_test, lgb_pred_pca), accuracy_score(y_test, cb_pred_pca), accuracy_score(y_test, y_pred_tf_pca),\n",
        "              accuracy_score(y_test, pth_y_pred_pca), accuracy_score(y_test, xgb_pred_tsne), accuracy_score(y_test, lgb_pred_tsne),\n",
        "              accuracy_score(y_test, cb_pred_tsne), accuracy_score(y_test, y_pred_tf_tsne), accuracy_score(y_test, pth_y_pred_tsne),\n",
        "              accuracy_score(y_test, xgb_pred_umap), accuracy_score(y_test, lgb_pred_umap), accuracy_score(y_test, cb_pred_umap),\n",
        "              accuracy_score(y_test, y_pred_tf_umap), accuracy_score(y_test, pth_y_pred_umap)],\n",
        "    'ROC_AUC_Score': [roc_auc_score(y_test, rf_grid_pred_pb), roc_auc_score(y_test, rf_random_pred_pb), roc_auc_score(y_test, xgb_pred_pca_pb),\n",
        "              roc_auc_score(y_test, lgb_pred_pca_pb), roc_auc_score(y_test, cb_pred_pca_pb), roc_auc_score(y_test, y_pred_proba_tf_pca),\n",
        "              roc_auc_score(y_true_pca, y_pred_proba_pca), roc_auc_score(y_test, xgb_pred_tsne_pb), roc_auc_score(y_test, lgb_pred_tsne_pb),\n",
        "              roc_auc_score(y_test, cb_pred_tsne_pb), roc_auc_score(y_test, y_pred_proba_tf_tsne), roc_auc_score(y_true_tsne, y_pred_proba_tsne),\n",
        "              roc_auc_score(y_test, xgb_pred_umap_pb), roc_auc_score(y_test, lgb_pred_umap_pb), roc_auc_score(y_test, cb_pred_umap_pb),\n",
        "              roc_auc_score(y_test, y_pred_proba_tf_umap), roc_auc_score(y_true_umap, y_pred_proba_umap)]\n",
        "})\n",
        "df.sort_values(by='ROC_AUC_Score',ascending=False)"
      ],
      "metadata": {
        "id": "Vt5genJKSZQN",
        "colab": {
          "base_uri": "https://localhost:8080/",
          "height": 582
        },
        "outputId": "976eba74-3f7b-48aa-b6ea-f4bcb2a18cfe"
      },
      "execution_count": null,
      "outputs": [
        {
          "output_type": "execute_result",
          "data": {
            "text/plain": [
              "              Model  Accuracy_Score  ROC_AUC_Score\n",
              "6       Pytorch_PCA        0.998268       0.888498\n",
              "0         RF_GS_PCA        0.998268       0.883233\n",
              "10  Tensorflow_tSNE        0.998268       0.875330\n",
              "9           CB_tSNE        0.998268       0.873849\n",
              "7          XGB_tSNE        0.998268       0.872255\n",
              "5    Tensorflow_PCA        0.998268       0.860985\n",
              "12         XGB_UMAP        0.998268       0.853545\n",
              "4            CB_PCA        0.998198       0.852258\n",
              "14          CB_UMAP        0.998268       0.852185\n",
              "3          LGBM_PCA        0.997835       0.846498\n",
              "11     Pytorch_tSNE        0.998268       0.846371\n",
              "2           XGB_PCA        0.998163       0.834420\n",
              "13        LGBM_UMAP        0.997343       0.822245\n",
              "8         LGBM_tSNE        0.997191       0.813176\n",
              "15  Tensorflow_UMAP        0.998268       0.810492\n",
              "1         RF_RS_PCA        0.998268       0.779064\n",
              "16     Pytorch_UMAP        0.998268       0.760430"
            ],
            "text/html": [
              "\n",
              "  <div id=\"df-866b7811-aa96-46a1-be65-fbfb72554bda\" class=\"colab-df-container\">\n",
              "    <div>\n",
              "<style scoped>\n",
              "    .dataframe tbody tr th:only-of-type {\n",
              "        vertical-align: middle;\n",
              "    }\n",
              "\n",
              "    .dataframe tbody tr th {\n",
              "        vertical-align: top;\n",
              "    }\n",
              "\n",
              "    .dataframe thead th {\n",
              "        text-align: right;\n",
              "    }\n",
              "</style>\n",
              "<table border=\"1\" class=\"dataframe\">\n",
              "  <thead>\n",
              "    <tr style=\"text-align: right;\">\n",
              "      <th></th>\n",
              "      <th>Model</th>\n",
              "      <th>Accuracy_Score</th>\n",
              "      <th>ROC_AUC_Score</th>\n",
              "    </tr>\n",
              "  </thead>\n",
              "  <tbody>\n",
              "    <tr>\n",
              "      <th>6</th>\n",
              "      <td>Pytorch_PCA</td>\n",
              "      <td>0.998268</td>\n",
              "      <td>0.888498</td>\n",
              "    </tr>\n",
              "    <tr>\n",
              "      <th>0</th>\n",
              "      <td>RF_GS_PCA</td>\n",
              "      <td>0.998268</td>\n",
              "      <td>0.883233</td>\n",
              "    </tr>\n",
              "    <tr>\n",
              "      <th>10</th>\n",
              "      <td>Tensorflow_tSNE</td>\n",
              "      <td>0.998268</td>\n",
              "      <td>0.875330</td>\n",
              "    </tr>\n",
              "    <tr>\n",
              "      <th>9</th>\n",
              "      <td>CB_tSNE</td>\n",
              "      <td>0.998268</td>\n",
              "      <td>0.873849</td>\n",
              "    </tr>\n",
              "    <tr>\n",
              "      <th>7</th>\n",
              "      <td>XGB_tSNE</td>\n",
              "      <td>0.998268</td>\n",
              "      <td>0.872255</td>\n",
              "    </tr>\n",
              "    <tr>\n",
              "      <th>5</th>\n",
              "      <td>Tensorflow_PCA</td>\n",
              "      <td>0.998268</td>\n",
              "      <td>0.860985</td>\n",
              "    </tr>\n",
              "    <tr>\n",
              "      <th>12</th>\n",
              "      <td>XGB_UMAP</td>\n",
              "      <td>0.998268</td>\n",
              "      <td>0.853545</td>\n",
              "    </tr>\n",
              "    <tr>\n",
              "      <th>4</th>\n",
              "      <td>CB_PCA</td>\n",
              "      <td>0.998198</td>\n",
              "      <td>0.852258</td>\n",
              "    </tr>\n",
              "    <tr>\n",
              "      <th>14</th>\n",
              "      <td>CB_UMAP</td>\n",
              "      <td>0.998268</td>\n",
              "      <td>0.852185</td>\n",
              "    </tr>\n",
              "    <tr>\n",
              "      <th>3</th>\n",
              "      <td>LGBM_PCA</td>\n",
              "      <td>0.997835</td>\n",
              "      <td>0.846498</td>\n",
              "    </tr>\n",
              "    <tr>\n",
              "      <th>11</th>\n",
              "      <td>Pytorch_tSNE</td>\n",
              "      <td>0.998268</td>\n",
              "      <td>0.846371</td>\n",
              "    </tr>\n",
              "    <tr>\n",
              "      <th>2</th>\n",
              "      <td>XGB_PCA</td>\n",
              "      <td>0.998163</td>\n",
              "      <td>0.834420</td>\n",
              "    </tr>\n",
              "    <tr>\n",
              "      <th>13</th>\n",
              "      <td>LGBM_UMAP</td>\n",
              "      <td>0.997343</td>\n",
              "      <td>0.822245</td>\n",
              "    </tr>\n",
              "    <tr>\n",
              "      <th>8</th>\n",
              "      <td>LGBM_tSNE</td>\n",
              "      <td>0.997191</td>\n",
              "      <td>0.813176</td>\n",
              "    </tr>\n",
              "    <tr>\n",
              "      <th>15</th>\n",
              "      <td>Tensorflow_UMAP</td>\n",
              "      <td>0.998268</td>\n",
              "      <td>0.810492</td>\n",
              "    </tr>\n",
              "    <tr>\n",
              "      <th>1</th>\n",
              "      <td>RF_RS_PCA</td>\n",
              "      <td>0.998268</td>\n",
              "      <td>0.779064</td>\n",
              "    </tr>\n",
              "    <tr>\n",
              "      <th>16</th>\n",
              "      <td>Pytorch_UMAP</td>\n",
              "      <td>0.998268</td>\n",
              "      <td>0.760430</td>\n",
              "    </tr>\n",
              "  </tbody>\n",
              "</table>\n",
              "</div>\n",
              "    <div class=\"colab-df-buttons\">\n",
              "\n",
              "  <div class=\"colab-df-container\">\n",
              "    <button class=\"colab-df-convert\" onclick=\"convertToInteractive('df-866b7811-aa96-46a1-be65-fbfb72554bda')\"\n",
              "            title=\"Convert this dataframe to an interactive table.\"\n",
              "            style=\"display:none;\">\n",
              "\n",
              "  <svg xmlns=\"http://www.w3.org/2000/svg\" height=\"24px\" viewBox=\"0 -960 960 960\">\n",
              "    <path d=\"M120-120v-720h720v720H120Zm60-500h600v-160H180v160Zm220 220h160v-160H400v160Zm0 220h160v-160H400v160ZM180-400h160v-160H180v160Zm440 0h160v-160H620v160ZM180-180h160v-160H180v160Zm440 0h160v-160H620v160Z\"/>\n",
              "  </svg>\n",
              "    </button>\n",
              "\n",
              "  <style>\n",
              "    .colab-df-container {\n",
              "      display:flex;\n",
              "      gap: 12px;\n",
              "    }\n",
              "\n",
              "    .colab-df-convert {\n",
              "      background-color: #E8F0FE;\n",
              "      border: none;\n",
              "      border-radius: 50%;\n",
              "      cursor: pointer;\n",
              "      display: none;\n",
              "      fill: #1967D2;\n",
              "      height: 32px;\n",
              "      padding: 0 0 0 0;\n",
              "      width: 32px;\n",
              "    }\n",
              "\n",
              "    .colab-df-convert:hover {\n",
              "      background-color: #E2EBFA;\n",
              "      box-shadow: 0px 1px 2px rgba(60, 64, 67, 0.3), 0px 1px 3px 1px rgba(60, 64, 67, 0.15);\n",
              "      fill: #174EA6;\n",
              "    }\n",
              "\n",
              "    .colab-df-buttons div {\n",
              "      margin-bottom: 4px;\n",
              "    }\n",
              "\n",
              "    [theme=dark] .colab-df-convert {\n",
              "      background-color: #3B4455;\n",
              "      fill: #D2E3FC;\n",
              "    }\n",
              "\n",
              "    [theme=dark] .colab-df-convert:hover {\n",
              "      background-color: #434B5C;\n",
              "      box-shadow: 0px 1px 3px 1px rgba(0, 0, 0, 0.15);\n",
              "      filter: drop-shadow(0px 1px 2px rgba(0, 0, 0, 0.3));\n",
              "      fill: #FFFFFF;\n",
              "    }\n",
              "  </style>\n",
              "\n",
              "    <script>\n",
              "      const buttonEl =\n",
              "        document.querySelector('#df-866b7811-aa96-46a1-be65-fbfb72554bda button.colab-df-convert');\n",
              "      buttonEl.style.display =\n",
              "        google.colab.kernel.accessAllowed ? 'block' : 'none';\n",
              "\n",
              "      async function convertToInteractive(key) {\n",
              "        const element = document.querySelector('#df-866b7811-aa96-46a1-be65-fbfb72554bda');\n",
              "        const dataTable =\n",
              "          await google.colab.kernel.invokeFunction('convertToInteractive',\n",
              "                                                    [key], {});\n",
              "        if (!dataTable) return;\n",
              "\n",
              "        const docLinkHtml = 'Like what you see? Visit the ' +\n",
              "          '<a target=\"_blank\" href=https://colab.research.google.com/notebooks/data_table.ipynb>data table notebook</a>'\n",
              "          + ' to learn more about interactive tables.';\n",
              "        element.innerHTML = '';\n",
              "        dataTable['output_type'] = 'display_data';\n",
              "        await google.colab.output.renderOutput(dataTable, element);\n",
              "        const docLink = document.createElement('div');\n",
              "        docLink.innerHTML = docLinkHtml;\n",
              "        element.appendChild(docLink);\n",
              "      }\n",
              "    </script>\n",
              "  </div>\n",
              "\n",
              "\n",
              "<div id=\"df-5217717a-5859-4053-90e4-a88ae6cc9337\">\n",
              "  <button class=\"colab-df-quickchart\" onclick=\"quickchart('df-5217717a-5859-4053-90e4-a88ae6cc9337')\"\n",
              "            title=\"Suggest charts\"\n",
              "            style=\"display:none;\">\n",
              "\n",
              "<svg xmlns=\"http://www.w3.org/2000/svg\" height=\"24px\"viewBox=\"0 0 24 24\"\n",
              "     width=\"24px\">\n",
              "    <g>\n",
              "        <path d=\"M19 3H5c-1.1 0-2 .9-2 2v14c0 1.1.9 2 2 2h14c1.1 0 2-.9 2-2V5c0-1.1-.9-2-2-2zM9 17H7v-7h2v7zm4 0h-2V7h2v10zm4 0h-2v-4h2v4z\"/>\n",
              "    </g>\n",
              "</svg>\n",
              "  </button>\n",
              "\n",
              "<style>\n",
              "  .colab-df-quickchart {\n",
              "      --bg-color: #E8F0FE;\n",
              "      --fill-color: #1967D2;\n",
              "      --hover-bg-color: #E2EBFA;\n",
              "      --hover-fill-color: #174EA6;\n",
              "      --disabled-fill-color: #AAA;\n",
              "      --disabled-bg-color: #DDD;\n",
              "  }\n",
              "\n",
              "  [theme=dark] .colab-df-quickchart {\n",
              "      --bg-color: #3B4455;\n",
              "      --fill-color: #D2E3FC;\n",
              "      --hover-bg-color: #434B5C;\n",
              "      --hover-fill-color: #FFFFFF;\n",
              "      --disabled-bg-color: #3B4455;\n",
              "      --disabled-fill-color: #666;\n",
              "  }\n",
              "\n",
              "  .colab-df-quickchart {\n",
              "    background-color: var(--bg-color);\n",
              "    border: none;\n",
              "    border-radius: 50%;\n",
              "    cursor: pointer;\n",
              "    display: none;\n",
              "    fill: var(--fill-color);\n",
              "    height: 32px;\n",
              "    padding: 0;\n",
              "    width: 32px;\n",
              "  }\n",
              "\n",
              "  .colab-df-quickchart:hover {\n",
              "    background-color: var(--hover-bg-color);\n",
              "    box-shadow: 0 1px 2px rgba(60, 64, 67, 0.3), 0 1px 3px 1px rgba(60, 64, 67, 0.15);\n",
              "    fill: var(--button-hover-fill-color);\n",
              "  }\n",
              "\n",
              "  .colab-df-quickchart-complete:disabled,\n",
              "  .colab-df-quickchart-complete:disabled:hover {\n",
              "    background-color: var(--disabled-bg-color);\n",
              "    fill: var(--disabled-fill-color);\n",
              "    box-shadow: none;\n",
              "  }\n",
              "\n",
              "  .colab-df-spinner {\n",
              "    border: 2px solid var(--fill-color);\n",
              "    border-color: transparent;\n",
              "    border-bottom-color: var(--fill-color);\n",
              "    animation:\n",
              "      spin 1s steps(1) infinite;\n",
              "  }\n",
              "\n",
              "  @keyframes spin {\n",
              "    0% {\n",
              "      border-color: transparent;\n",
              "      border-bottom-color: var(--fill-color);\n",
              "      border-left-color: var(--fill-color);\n",
              "    }\n",
              "    20% {\n",
              "      border-color: transparent;\n",
              "      border-left-color: var(--fill-color);\n",
              "      border-top-color: var(--fill-color);\n",
              "    }\n",
              "    30% {\n",
              "      border-color: transparent;\n",
              "      border-left-color: var(--fill-color);\n",
              "      border-top-color: var(--fill-color);\n",
              "      border-right-color: var(--fill-color);\n",
              "    }\n",
              "    40% {\n",
              "      border-color: transparent;\n",
              "      border-right-color: var(--fill-color);\n",
              "      border-top-color: var(--fill-color);\n",
              "    }\n",
              "    60% {\n",
              "      border-color: transparent;\n",
              "      border-right-color: var(--fill-color);\n",
              "    }\n",
              "    80% {\n",
              "      border-color: transparent;\n",
              "      border-right-color: var(--fill-color);\n",
              "      border-bottom-color: var(--fill-color);\n",
              "    }\n",
              "    90% {\n",
              "      border-color: transparent;\n",
              "      border-bottom-color: var(--fill-color);\n",
              "    }\n",
              "  }\n",
              "</style>\n",
              "\n",
              "  <script>\n",
              "    async function quickchart(key) {\n",
              "      const quickchartButtonEl =\n",
              "        document.querySelector('#' + key + ' button');\n",
              "      quickchartButtonEl.disabled = true;  // To prevent multiple clicks.\n",
              "      quickchartButtonEl.classList.add('colab-df-spinner');\n",
              "      try {\n",
              "        const charts = await google.colab.kernel.invokeFunction(\n",
              "            'suggestCharts', [key], {});\n",
              "      } catch (error) {\n",
              "        console.error('Error during call to suggestCharts:', error);\n",
              "      }\n",
              "      quickchartButtonEl.classList.remove('colab-df-spinner');\n",
              "      quickchartButtonEl.classList.add('colab-df-quickchart-complete');\n",
              "    }\n",
              "    (() => {\n",
              "      let quickchartButtonEl =\n",
              "        document.querySelector('#df-5217717a-5859-4053-90e4-a88ae6cc9337 button');\n",
              "      quickchartButtonEl.style.display =\n",
              "        google.colab.kernel.accessAllowed ? 'block' : 'none';\n",
              "    })();\n",
              "  </script>\n",
              "</div>\n",
              "\n",
              "    </div>\n",
              "  </div>\n"
            ],
            "application/vnd.google.colaboratory.intrinsic+json": {
              "type": "dataframe",
              "summary": "{\n  \"name\": \"df\",\n  \"rows\": 17,\n  \"fields\": [\n    {\n      \"column\": \"Model\",\n      \"properties\": {\n        \"dtype\": \"string\",\n        \"num_unique_values\": 17,\n        \"samples\": [\n          \"Pytorch_PCA\",\n          \"RF_GS_PCA\",\n          \"Tensorflow_PCA\"\n        ],\n        \"semantic_type\": \"\",\n        \"description\": \"\"\n      }\n    },\n    {\n      \"column\": \"Accuracy_Score\",\n      \"properties\": {\n        \"dtype\": \"number\",\n        \"std\": 0.00033699981707797965,\n        \"min\": 0.9971911098627155,\n        \"max\": 0.9982678510820079,\n        \"num_unique_values\": 6,\n        \"samples\": [\n          0.9982678510820079,\n          0.9981976288285758,\n          0.9971911098627155\n        ],\n        \"semantic_type\": \"\",\n        \"description\": \"\"\n      }\n    },\n    {\n      \"column\": \"ROC_AUC_Score\",\n      \"properties\": {\n        \"dtype\": \"number\",\n        \"std\": 0.03581546195157182,\n        \"min\": 0.7604296614452544,\n        \"max\": 0.8884975514232798,\n        \"num_unique_values\": 17,\n        \"samples\": [\n          0.8884975514232798,\n          0.8832333887319526,\n          0.8609848094768078\n        ],\n        \"semantic_type\": \"\",\n        \"description\": \"\"\n      }\n    }\n  ]\n}"
            }
          },
          "metadata": {},
          "execution_count": 60
        }
      ]
    },
    {
      "cell_type": "markdown",
      "source": [
        "---"
      ],
      "metadata": {
        "id": "FoyO9LC9TUgC"
      }
    }
  ]
}