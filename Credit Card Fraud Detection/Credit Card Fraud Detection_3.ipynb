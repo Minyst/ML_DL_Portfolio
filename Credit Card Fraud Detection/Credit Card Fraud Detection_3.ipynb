{
  "nbformat": 4,
  "nbformat_minor": 0,
  "metadata": {
    "colab": {
      "provenance": [],
      "toc_visible": true,
      "include_colab_link": true
    },
    "kernelspec": {
      "name": "python3",
      "display_name": "Python 3"
    },
    "language_info": {
      "name": "python"
    }
  },
  "cells": [
    {
      "cell_type": "markdown",
      "metadata": {
        "id": "view-in-github",
        "colab_type": "text"
      },
      "source": [
        "<a href=\"https://colab.research.google.com/github/Minyst/ML_DL_Portfolio_KR/blob/main/Credit%20Card%20Fraud%20Detection/Credit%20Card%20Fraud%20Detection_3.ipynb\" target=\"_parent\"><img src=\"https://colab.research.google.com/assets/colab-badge.svg\" alt=\"Open In Colab\"/></a>"
      ]
    },
    {
      "cell_type": "markdown",
      "source": [
        "#Credit Card Fraud Detection"
      ],
      "metadata": {
        "id": "USjWBZyeinNh"
      }
    },
    {
      "cell_type": "markdown",
      "source": [
        "# Augmentation - SMOTE"
      ],
      "metadata": {
        "id": "kX_nIli-M4H4"
      }
    },
    {
      "cell_type": "code",
      "source": [
        "!pip install xgboost\n",
        "!pip install lightgbm\n",
        "!pip install catboost\n",
        "from sklearn.ensemble import RandomForestClassifier\n",
        "from xgboost import XGBClassifier\n",
        "from lightgbm import LGBMClassifier\n",
        "from catboost import CatBoostClassifier\n",
        "from sklearn.metrics import accuracy_score\n",
        "from sklearn.metrics import roc_auc_score"
      ],
      "metadata": {
        "colab": {
          "base_uri": "https://localhost:8080/"
        },
        "id": "g5iPmBIL56CO",
        "outputId": "6ff4e004-21be-47a5-c7af-185adc730035"
      },
      "execution_count": null,
      "outputs": [
        {
          "output_type": "stream",
          "name": "stdout",
          "text": [
            "Requirement already satisfied: xgboost in /usr/local/lib/python3.10/dist-packages (2.0.3)\n",
            "Requirement already satisfied: numpy in /usr/local/lib/python3.10/dist-packages (from xgboost) (1.25.2)\n",
            "Requirement already satisfied: scipy in /usr/local/lib/python3.10/dist-packages (from xgboost) (1.11.4)\n",
            "Requirement already satisfied: lightgbm in /usr/local/lib/python3.10/dist-packages (4.1.0)\n",
            "Requirement already satisfied: numpy in /usr/local/lib/python3.10/dist-packages (from lightgbm) (1.25.2)\n",
            "Requirement already satisfied: scipy in /usr/local/lib/python3.10/dist-packages (from lightgbm) (1.11.4)\n",
            "Requirement already satisfied: catboost in /usr/local/lib/python3.10/dist-packages (1.2.5)\n",
            "Requirement already satisfied: graphviz in /usr/local/lib/python3.10/dist-packages (from catboost) (0.20.3)\n",
            "Requirement already satisfied: matplotlib in /usr/local/lib/python3.10/dist-packages (from catboost) (3.7.1)\n",
            "Requirement already satisfied: numpy>=1.16.0 in /usr/local/lib/python3.10/dist-packages (from catboost) (1.25.2)\n",
            "Requirement already satisfied: pandas>=0.24 in /usr/local/lib/python3.10/dist-packages (from catboost) (2.0.3)\n",
            "Requirement already satisfied: scipy in /usr/local/lib/python3.10/dist-packages (from catboost) (1.11.4)\n",
            "Requirement already satisfied: plotly in /usr/local/lib/python3.10/dist-packages (from catboost) (5.15.0)\n",
            "Requirement already satisfied: six in /usr/local/lib/python3.10/dist-packages (from catboost) (1.16.0)\n",
            "Requirement already satisfied: python-dateutil>=2.8.2 in /usr/local/lib/python3.10/dist-packages (from pandas>=0.24->catboost) (2.8.2)\n",
            "Requirement already satisfied: pytz>=2020.1 in /usr/local/lib/python3.10/dist-packages (from pandas>=0.24->catboost) (2023.4)\n",
            "Requirement already satisfied: tzdata>=2022.1 in /usr/local/lib/python3.10/dist-packages (from pandas>=0.24->catboost) (2024.1)\n",
            "Requirement already satisfied: contourpy>=1.0.1 in /usr/local/lib/python3.10/dist-packages (from matplotlib->catboost) (1.2.1)\n",
            "Requirement already satisfied: cycler>=0.10 in /usr/local/lib/python3.10/dist-packages (from matplotlib->catboost) (0.12.1)\n",
            "Requirement already satisfied: fonttools>=4.22.0 in /usr/local/lib/python3.10/dist-packages (from matplotlib->catboost) (4.53.0)\n",
            "Requirement already satisfied: kiwisolver>=1.0.1 in /usr/local/lib/python3.10/dist-packages (from matplotlib->catboost) (1.4.5)\n",
            "Requirement already satisfied: packaging>=20.0 in /usr/local/lib/python3.10/dist-packages (from matplotlib->catboost) (24.1)\n",
            "Requirement already satisfied: pillow>=6.2.0 in /usr/local/lib/python3.10/dist-packages (from matplotlib->catboost) (9.4.0)\n",
            "Requirement already satisfied: pyparsing>=2.3.1 in /usr/local/lib/python3.10/dist-packages (from matplotlib->catboost) (3.1.2)\n",
            "Requirement already satisfied: tenacity>=6.2.0 in /usr/local/lib/python3.10/dist-packages (from plotly->catboost) (8.4.2)\n"
          ]
        }
      ]
    },
    {
      "cell_type": "code",
      "source": [
        "from imblearn.over_sampling import SMOTE\n",
        "smt = SMOTE(sampling_strategy=0.3)\n",
        "x_st, y_st = smt.fit_resample(train_scaled_df, y_train)"
      ],
      "metadata": {
        "id": "6ejmbKiYiz1-"
      },
      "execution_count": null,
      "outputs": []
    },
    {
      "cell_type": "code",
      "source": [
        "x_st.shape, y_st.shape"
      ],
      "metadata": {
        "colab": {
          "base_uri": "https://localhost:8080/"
        },
        "id": "1siSzJIyuaCo",
        "outputId": "26e1bb46-83ee-47a0-9ab7-9fc6aa3e2690"
      },
      "execution_count": null,
      "outputs": [
        {
          "output_type": "execute_result",
          "data": {
            "text/plain": [
              "((258726, 29), (258726,))"
            ]
          },
          "metadata": {},
          "execution_count": 64
        }
      ]
    },
    {
      "cell_type": "markdown",
      "source": [
        "##Predict - RandomForest"
      ],
      "metadata": {
        "id": "wNrm-UoW3aej"
      }
    },
    {
      "cell_type": "code",
      "source": [
        "rf = RandomForestClassifier()\n",
        "rf.fit(x_st,y_st)\n",
        "y_pred_rf_st = rf.predict(test_scaled_df)\n",
        "y_pred_rf_pb_st = rf.predict_proba(test_scaled_df)[:,1]\n",
        "print('accuracy_score : {}'.format(accuracy_score(y_test,y_pred_rf_st)))\n",
        "print('roc_auc_score : {}'.format(roc_auc_score(y_test,y_pred_rf_pb_st)))"
      ],
      "metadata": {
        "id": "CogxFrZR3aAN",
        "colab": {
          "base_uri": "https://localhost:8080/"
        },
        "outputId": "b5e3b1f1-1c22-4e78-88d3-4f4026771da3"
      },
      "execution_count": null,
      "outputs": [
        {
          "output_type": "stream",
          "name": "stdout",
          "text": [
            "accuracy_score : 0.9995201479348805\n",
            "roc_auc_score : 0.972040279918819\n"
          ]
        }
      ]
    },
    {
      "cell_type": "markdown",
      "source": [
        "##Predict - XGBoost"
      ],
      "metadata": {
        "id": "7795dYOV4H3S"
      }
    },
    {
      "cell_type": "code",
      "source": [
        "xgb = XGBClassifier(n_estimators=1000, learning_rate=0.2, verbosity=0)\n",
        "xgb.fit(x_st,y_st)\n",
        "y_pred_xgb_st = xgb.predict(test_scaled_df)\n",
        "y_pred_xgb_pb_st = xgb.predict_proba(test_scaled_df)[:,1]\n",
        "print('accuracy_score : {}'.format(accuracy_score(y_test,y_pred_xgb_st)))\n",
        "print('roc_auc_score : {}'.format(roc_auc_score(y_test,y_pred_xgb_pb_st)))"
      ],
      "metadata": {
        "id": "qw5I44wj3Yn2",
        "colab": {
          "base_uri": "https://localhost:8080/"
        },
        "outputId": "d176b215-da9f-40e3-ac82-7f27ffb063c7"
      },
      "execution_count": null,
      "outputs": [
        {
          "output_type": "stream",
          "name": "stdout",
          "text": [
            "accuracy_score : 0.9995201479348805\n",
            "roc_auc_score : 0.9751735233680248\n"
          ]
        }
      ]
    },
    {
      "cell_type": "markdown",
      "source": [
        "## Predict- LightGBM"
      ],
      "metadata": {
        "id": "GCk3rPI_mXcy"
      }
    },
    {
      "cell_type": "code",
      "source": [
        "from lightgbm import LGBMClassifier\n",
        "lgbm = LGBMClassifier(num_leaves=30, objective='binary')\n",
        "lgbm.fit(x_st, y_st)\n",
        "y_pred_lgbm_st = lgbm.predict(test_scaled_df)\n",
        "y_pred_lgbm_pb_st = lgbm.predict_proba(test_scaled_df)[:,1]\n",
        "print('accuracy_score : {}'.format(accuracy_score(y_test,y_pred_lgbm_st)))\n",
        "print('roc_auc_score : {}'.format(roc_auc_score(y_test,y_pred_lgbm_pb_st)))"
      ],
      "metadata": {
        "id": "pWlUaewOmWnI",
        "colab": {
          "base_uri": "https://localhost:8080/"
        },
        "outputId": "94c7a19f-3e79-4ce7-fd2d-87dfb0e039e2"
      },
      "execution_count": null,
      "outputs": [
        {
          "output_type": "stream",
          "name": "stdout",
          "text": [
            "[LightGBM] [Info] Number of positive: 59706, number of negative: 199020\n",
            "[LightGBM] [Info] Auto-choosing col-wise multi-threading, the overhead of testing was 0.087502 seconds.\n",
            "You can set `force_col_wise=true` to remove the overhead.\n",
            "[LightGBM] [Info] Total Bins 7395\n",
            "[LightGBM] [Info] Number of data points in the train set: 258726, number of used features: 29\n",
            "[LightGBM] [Info] [binary:BoostFromScore]: pavg=0.230769 -> initscore=-1.203973\n",
            "[LightGBM] [Info] Start training from score -1.203973\n",
            "accuracy_score : 0.9991924440855307\n",
            "roc_auc_score : 0.9750558475117358\n"
          ]
        }
      ]
    },
    {
      "cell_type": "markdown",
      "source": [
        "##Predict - CatBoost"
      ],
      "metadata": {
        "id": "nAHtux4i3PWC"
      }
    },
    {
      "cell_type": "code",
      "source": [
        "from catboost import CatBoostClassifier\n",
        "catboost_model = CatBoostClassifier(verbose=False)\n",
        "catboost_model.fit(\n",
        "    x_st, y_st,\n",
        "    eval_set=(test_scaled_df, y_test),\n",
        "    early_stopping_rounds=10\n",
        ")\n",
        "y_pred_cb_st = catboost_model.predict(test_scaled_df)\n",
        "y_pred_cb_pb_st = catboost_model.predict_proba(test_scaled_df)[:,1]\n",
        "print('accuracy_score : {}'.format(accuracy_score(y_test,y_pred_cb_st)))\n",
        "print('roc_auc_score : {}'.format(roc_auc_score(y_test,y_pred_cb_pb_st)))"
      ],
      "metadata": {
        "id": "YBhnFAYk4DHu",
        "colab": {
          "base_uri": "https://localhost:8080/"
        },
        "outputId": "527c7bdb-cdc6-40c5-ad93-b4c0a72215cf"
      },
      "execution_count": null,
      "outputs": [
        {
          "output_type": "stream",
          "name": "stdout",
          "text": [
            "accuracy_score : 0.9993445923013002\n",
            "roc_auc_score : 0.9743020645359587\n"
          ]
        }
      ]
    },
    {
      "cell_type": "markdown",
      "source": [
        "#Augmentation - BorderLineSMOTE"
      ],
      "metadata": {
        "id": "e4D9UQIVl68r"
      }
    },
    {
      "cell_type": "code",
      "source": [
        "from imblearn.over_sampling import BorderlineSMOTE\n",
        "bdsmt = BorderlineSMOTE(sampling_strategy=0.3, n_jobs=-1)\n",
        "x_border, y_border = bdsmt.fit_resample(train_scaled_df, y_train)"
      ],
      "metadata": {
        "id": "dNarYZsEl6jC",
        "colab": {
          "base_uri": "https://localhost:8080/"
        },
        "outputId": "b35a0927-a3c1-42de-e789-de5aa250eed0"
      },
      "execution_count": null,
      "outputs": [
        {
          "output_type": "stream",
          "name": "stderr",
          "text": [
            "/usr/local/lib/python3.10/dist-packages/imblearn/over_sampling/_smote/filter.py:192: FutureWarning: The parameter `n_jobs` has been deprecated in 0.10 and will be removed in 0.12. You can pass an nearest neighbors estimator where `n_jobs` is already set instead.\n",
            "  warnings.warn(\n"
          ]
        }
      ]
    },
    {
      "cell_type": "code",
      "source": [
        "x_border.shape, y_border.shape"
      ],
      "metadata": {
        "colab": {
          "base_uri": "https://localhost:8080/"
        },
        "id": "Nr0i7Q0HustW",
        "outputId": "cf2be9e1-14d7-4dc7-cb7e-11b4e49e338a"
      },
      "execution_count": null,
      "outputs": [
        {
          "output_type": "execute_result",
          "data": {
            "text/plain": [
              "((258726, 29), (258726,))"
            ]
          },
          "metadata": {},
          "execution_count": 65
        }
      ]
    },
    {
      "cell_type": "markdown",
      "source": [
        "#Predict - RandomForest"
      ],
      "metadata": {
        "id": "dV4DPU7X--ao"
      }
    },
    {
      "cell_type": "code",
      "source": [
        "rf = RandomForestClassifier()\n",
        "rf.fit(x_border,y_border)\n",
        "y_pred_rf_bl = rf.predict(test_scaled_df)\n",
        "y_pred_rf_pb_bl = rf.predict_proba(test_scaled_df)[:,1]\n",
        "print('accuracy_score : {}'.format(accuracy_score(y_test,y_pred_rf_bl)))\n",
        "print('roc_auc_score : {}'.format(roc_auc_score(y_test,y_pred_rf_pb_bl)))"
      ],
      "metadata": {
        "id": "0WyuSIWh_QA7",
        "colab": {
          "base_uri": "https://localhost:8080/"
        },
        "outputId": "23ef1024-b5cd-414d-cb4e-ada572491023"
      },
      "execution_count": null,
      "outputs": [
        {
          "output_type": "stream",
          "name": "stdout",
          "text": [
            "accuracy_score : 0.9994967405170698\n",
            "roc_auc_score : 0.9506677540428052\n"
          ]
        }
      ]
    },
    {
      "cell_type": "markdown",
      "source": [
        "#Predict - XGBoost"
      ],
      "metadata": {
        "id": "OCQ-Kuz2_G8X"
      }
    },
    {
      "cell_type": "code",
      "source": [
        "xgb = XGBClassifier(n_estimators=1000, learning_rate=0.2, verbosity=0)\n",
        "xgb.fit(x_border,y_border)\n",
        "y_pred_xgb_bl = xgb.predict(test_scaled_df)\n",
        "y_pred_xgb_pb_bl = xgb.predict_proba(test_scaled_df)[:,1]\n",
        "print('accuracy_score : {}'.format(accuracy_score(y_test,y_pred_xgb_bl)))\n",
        "print('roc_auc_score : {}'.format(roc_auc_score(y_test,y_pred_xgb_pb_bl)))"
      ],
      "metadata": {
        "id": "XqNH9Mea_Qy3",
        "colab": {
          "base_uri": "https://localhost:8080/"
        },
        "outputId": "9513f822-a996-42d4-94d4-d2a86cb2e9f3"
      },
      "execution_count": null,
      "outputs": [
        {
          "output_type": "stream",
          "name": "stdout",
          "text": [
            "accuracy_score : 0.9994967405170698\n",
            "roc_auc_score : 0.9830051664889581\n"
          ]
        }
      ]
    },
    {
      "cell_type": "markdown",
      "source": [
        "## Predict - LightGBM"
      ],
      "metadata": {
        "id": "fJwucouC9nb9"
      }
    },
    {
      "cell_type": "code",
      "source": [
        "from lightgbm import LGBMClassifier\n",
        "lgbm_model = LGBMClassifier(num_leaves=30, objective='binary')\n",
        "lgbm_model.fit(x_border, y_border)\n",
        "y_pred_lgbm_bl = lgbm_model.predict(test_scaled_df)\n",
        "y_pred_lgbm_pb_bl = lgbm_model.predict_proba(test_scaled_df)[:,1]\n",
        "print('accuracy_score : {}'.format(accuracy_score(y_test,y_pred_lgbm_bl)))\n",
        "print('roc_auc_score : {}'.format(roc_auc_score(y_test,y_pred_lgbm_pb_bl)))"
      ],
      "metadata": {
        "id": "CGCgb35V5Thd",
        "colab": {
          "base_uri": "https://localhost:8080/"
        },
        "outputId": "dac9d124-bf88-47ff-dd23-fd10f73809d2"
      },
      "execution_count": null,
      "outputs": [
        {
          "output_type": "stream",
          "name": "stdout",
          "text": [
            "[LightGBM] [Info] Number of positive: 59706, number of negative: 199020\n",
            "[LightGBM] [Info] Auto-choosing col-wise multi-threading, the overhead of testing was 0.128186 seconds.\n",
            "You can set `force_col_wise=true` to remove the overhead.\n",
            "[LightGBM] [Info] Total Bins 7395\n",
            "[LightGBM] [Info] Number of data points in the train set: 258726, number of used features: 29\n",
            "[LightGBM] [Info] [binary:BoostFromScore]: pavg=0.230769 -> initscore=-1.203973\n",
            "[LightGBM] [Info] Start training from score -1.203973\n",
            "accuracy_score : 0.9993445923013002\n",
            "roc_auc_score : 0.9835738605127198\n"
          ]
        }
      ]
    },
    {
      "cell_type": "markdown",
      "source": [
        "## Predict - Catboost"
      ],
      "metadata": {
        "id": "oIFYXrPj-Eo7"
      }
    },
    {
      "cell_type": "code",
      "source": [
        "from catboost import CatBoostClassifier\n",
        "catboost_model = CatBoostClassifier(verbose=False)\n",
        "catboost_model.fit(\n",
        "    x_border, y_border,\n",
        "    eval_set=(test_scaled_df, y_test),\n",
        "    early_stopping_rounds=10\n",
        ")\n",
        "y_pred_cb_bl = catboost_model.predict(test_scaled_df)\n",
        "y_pred_cb_pb_bl = catboost_model.predict_proba(test_scaled_df)[:,1]\n",
        "print('accuracy_score : {}'.format(accuracy_score(y_test,y_pred_cb_bl)))\n",
        "print('roc_auc_score : {}'.format(roc_auc_score(y_test,y_pred_cb_pb_bl)))"
      ],
      "metadata": {
        "id": "SBcOzI2f-D0_",
        "colab": {
          "base_uri": "https://localhost:8080/"
        },
        "outputId": "4d00fe70-cb8e-4b5f-9446-8ee527f06e21"
      },
      "execution_count": null,
      "outputs": [
        {
          "output_type": "stream",
          "name": "stdout",
          "text": [
            "accuracy_score : 0.9992977774656788\n",
            "roc_auc_score : 0.9737887427259606\n"
          ]
        }
      ]
    },
    {
      "cell_type": "markdown",
      "source": [
        "## Augmentation - ADASYN"
      ],
      "metadata": {
        "id": "zSRl3pOw27kB"
      }
    },
    {
      "cell_type": "code",
      "source": [
        "from imblearn.over_sampling import ADASYN\n",
        "adasyn = ADASYN(sampling_strategy=0.3, n_jobs=-1)\n",
        "x_ads, y_ads = adasyn.fit_resample(train_scaled_df, y_train)"
      ],
      "metadata": {
        "id": "QQlprdLc3DKS",
        "colab": {
          "base_uri": "https://localhost:8080/"
        },
        "outputId": "f0077915-9c55-4eec-ee85-ca56e6e9465a"
      },
      "execution_count": null,
      "outputs": [
        {
          "output_type": "stream",
          "name": "stderr",
          "text": [
            "/usr/local/lib/python3.10/dist-packages/imblearn/over_sampling/_adasyn.py:156: FutureWarning: The parameter `n_jobs` has been deprecated in 0.10 and will be removed in 0.12. You can pass an nearest neighbors estimator where `n_jobs` is already set instead.\n",
            "  warnings.warn(\n"
          ]
        }
      ]
    },
    {
      "cell_type": "code",
      "source": [
        "x_ads.shape, y_ads.shape"
      ],
      "metadata": {
        "colab": {
          "base_uri": "https://localhost:8080/"
        },
        "id": "foTwuSwJuxeP",
        "outputId": "134163ac-6df1-41dc-91b4-71bd2922769b"
      },
      "execution_count": null,
      "outputs": [
        {
          "output_type": "execute_result",
          "data": {
            "text/plain": [
              "((258749, 29), (258749,))"
            ]
          },
          "metadata": {},
          "execution_count": 66
        }
      ]
    },
    {
      "cell_type": "markdown",
      "source": [
        "#Predict - RandomForest"
      ],
      "metadata": {
        "id": "slb-JljZ_Sqd"
      }
    },
    {
      "cell_type": "code",
      "source": [
        "rf = RandomForestClassifier()\n",
        "rf.fit(x_ads,y_ads)\n",
        "y_pred_rf_ads = rf.predict(test_scaled_df)\n",
        "y_pred_rf_pb_ads = rf.predict_proba(test_scaled_df)[:,1]\n",
        "print('accuracy_score : {}'.format(accuracy_score(y_test,y_pred_rf_ads)))\n",
        "print('roc_auc_score : {}'.format(roc_auc_score(y_test,y_pred_rf_pb_ads)))"
      ],
      "metadata": {
        "id": "kVaABdjI_WZL",
        "colab": {
          "base_uri": "https://localhost:8080/"
        },
        "outputId": "0c71ee10-1a3d-43de-d510-f8b862414e38"
      },
      "execution_count": null,
      "outputs": [
        {
          "output_type": "stream",
          "name": "stdout",
          "text": [
            "accuracy_score : 0.9994850368081645\n",
            "roc_auc_score : 0.9730273153744635\n"
          ]
        }
      ]
    },
    {
      "cell_type": "markdown",
      "source": [
        "#Predict - XGBoost"
      ],
      "metadata": {
        "id": "TOlXTmHf_W5h"
      }
    },
    {
      "cell_type": "code",
      "source": [
        "xgb = XGBClassifier(n_estimators=1000, learning_rate=0.2, verbosity=0)\n",
        "xgb.fit(x_ads,y_ads)\n",
        "y_pred_xgb_ads = xgb.predict(test_scaled_df)\n",
        "y_pred_xgb_pb_ads = xgb.predict_proba(test_scaled_df)[:,1]\n",
        "print('accuracy_score : {}'.format(accuracy_score(y_test,y_pred_xgb_ads)))\n",
        "print('roc_auc_score : {}'.format(roc_auc_score(y_test,y_pred_xgb_pb_ads)))"
      ],
      "metadata": {
        "id": "zAwLnA-X_ehh",
        "colab": {
          "base_uri": "https://localhost:8080/"
        },
        "outputId": "46dc2272-ad95-48b4-e8a1-1f07e63f8555"
      },
      "execution_count": null,
      "outputs": [
        {
          "output_type": "stream",
          "name": "stdout",
          "text": [
            "accuracy_score : 0.9994733330992591\n",
            "roc_auc_score : 0.9761865417794839\n"
          ]
        }
      ]
    },
    {
      "cell_type": "markdown",
      "source": [
        "##Predict - LightGBM"
      ],
      "metadata": {
        "id": "S1aRzh8KA2a6"
      }
    },
    {
      "cell_type": "code",
      "source": [
        "lgbm_model = LGBMClassifier(num_leaves=30, objective='binary')\n",
        "lgbm_model.fit(x_ads, y_ads)\n",
        "y_pred_lgbm_ads = lgbm_model.predict(test_scaled_df)\n",
        "y_pred_lgbm_pb_ads = lgbm_model.predict_proba(test_scaled_df)[:,1]\n",
        "print('accuracy_score : {}'.format(accuracy_score(y_test,y_pred_lgbm_ads)))\n",
        "print('roc_auc_score : {}'.format(roc_auc_score(y_test,y_pred_lgbm_pb_ads)))"
      ],
      "metadata": {
        "id": "gJSA1okV-0ze",
        "colab": {
          "base_uri": "https://localhost:8080/"
        },
        "outputId": "661862ec-5c4d-49fc-a052-e955b7e268b0"
      },
      "execution_count": null,
      "outputs": [
        {
          "output_type": "stream",
          "name": "stdout",
          "text": [
            "[LightGBM] [Info] Number of positive: 59729, number of negative: 199020\n",
            "[LightGBM] [Info] Auto-choosing col-wise multi-threading, the overhead of testing was 0.108786 seconds.\n",
            "You can set `force_col_wise=true` to remove the overhead.\n",
            "[LightGBM] [Info] Total Bins 7395\n",
            "[LightGBM] [Info] Number of data points in the train set: 258749, number of used features: 29\n",
            "[LightGBM] [Info] [binary:BoostFromScore]: pavg=0.230838 -> initscore=-1.203588\n",
            "[LightGBM] [Info] Start training from score -1.203588\n",
            "accuracy_score : 0.9986423697669792\n",
            "roc_auc_score : 0.981870075714967\n"
          ]
        }
      ]
    },
    {
      "cell_type": "markdown",
      "source": [
        "##Predict - CatBoost"
      ],
      "metadata": {
        "id": "z6eGNJ5_A8Y8"
      }
    },
    {
      "cell_type": "code",
      "source": [
        "catboost_model = CatBoostClassifier(verbose=False)\n",
        "catboost_model.fit(\n",
        "    x_ads, y_ads,\n",
        "    eval_set=(test_scaled, y_test),\n",
        "    early_stopping_rounds=10\n",
        ")\n",
        "y_pred_cb_ads = catboost_model.predict(test_scaled_df)\n",
        "y_pred_cb_pb_ads = catboost_model.predict_proba(test_scaled_df)[:,1]\n",
        "print('accuracy_score : {}'.format(accuracy_score(y_test,y_pred_cb_ads)))\n",
        "print('roc_auc_score : {}'.format(roc_auc_score(y_test,y_pred_cb_pb_ads)))"
      ],
      "metadata": {
        "id": "NrzOxhvo5VJl",
        "colab": {
          "base_uri": "https://localhost:8080/"
        },
        "outputId": "61eaabb7-e56c-4ebc-895c-5905f30d3464"
      },
      "execution_count": null,
      "outputs": [
        {
          "output_type": "stream",
          "name": "stdout",
          "text": [
            "accuracy_score : 0.999204147794436\n",
            "roc_auc_score : 0.9701523171568309\n"
          ]
        }
      ]
    },
    {
      "cell_type": "markdown",
      "source": [
        "# TensorFlow - SMOTE"
      ],
      "metadata": {
        "id": "FP5bvJNTCUIN"
      }
    },
    {
      "cell_type": "code",
      "source": [
        "import tensorflow as tf\n",
        "\n",
        "model = tf.keras.Sequential([\n",
        "    tf.keras.layers.Dense(16, activation='relu'),\n",
        "    tf.keras.layers.Dense(16, activation='relu'),\n",
        "    tf.keras.layers.Dense(1, activation='sigmoid')\n",
        "])\n",
        "\n",
        "model.compile(\n",
        "    optimizer='adam',\n",
        "    loss='binary_crossentropy',\n",
        "    metrics=[\n",
        "        'accuracy',\n",
        "        tf.keras.metrics.AUC(name='auc')\n",
        "    ]\n",
        ")\n",
        "\n",
        "model.fit(x_st, y_st, epochs=10, batch_size=32, validation_split=0.2)\n",
        "\n",
        "y_pred_tf_pb_st = model.predict(test_scaled_df).flatten()\n",
        "y_pred_tf_st = (y_pred_tf_pb_st > 0.5).astype(int)\n",
        "\n",
        "accuracy = accuracy_score(y_test, y_pred_tf_st)\n",
        "print(f'Accuracy: {accuracy}')\n",
        "\n",
        "roc_auc = roc_auc_score(y_test, y_pred_tf_pb_st)\n",
        "print(f'ROC AUC Score: {roc_auc}')"
      ],
      "metadata": {
        "id": "1QKCD_SjCTgV",
        "colab": {
          "base_uri": "https://localhost:8080/"
        },
        "outputId": "65e1fff3-a06c-4c99-855b-a0a2bccdc5e3"
      },
      "execution_count": null,
      "outputs": [
        {
          "output_type": "stream",
          "name": "stdout",
          "text": [
            "Epoch 1/10\n",
            "6469/6469 [==============================] - 22s 3ms/step - loss: 0.0303 - accuracy: 0.9932 - auc: 0.9865 - val_loss: 0.2855 - val_accuracy: 0.8920 - val_auc: 0.0000e+00\n",
            "Epoch 2/10\n",
            "6469/6469 [==============================] - 19s 3ms/step - loss: 0.0126 - accuracy: 0.9959 - auc: 0.9975 - val_loss: 0.1441 - val_accuracy: 0.9349 - val_auc: 0.0000e+00\n",
            "Epoch 3/10\n",
            "6469/6469 [==============================] - 22s 3ms/step - loss: 0.0087 - accuracy: 0.9971 - auc: 0.9986 - val_loss: 0.0940 - val_accuracy: 0.9616 - val_auc: 0.0000e+00\n",
            "Epoch 4/10\n",
            "6469/6469 [==============================] - 21s 3ms/step - loss: 0.0070 - accuracy: 0.9977 - auc: 0.9988 - val_loss: 0.0801 - val_accuracy: 0.9671 - val_auc: 0.0000e+00\n",
            "Epoch 5/10\n",
            "6469/6469 [==============================] - 19s 3ms/step - loss: 0.0058 - accuracy: 0.9982 - auc: 0.9995 - val_loss: 0.0558 - val_accuracy: 0.9820 - val_auc: 0.0000e+00\n",
            "Epoch 6/10\n",
            "6469/6469 [==============================] - 19s 3ms/step - loss: 0.0050 - accuracy: 0.9984 - auc: 0.9998 - val_loss: 0.0316 - val_accuracy: 0.9914 - val_auc: 0.0000e+00\n",
            "Epoch 7/10\n",
            "6469/6469 [==============================] - 22s 3ms/step - loss: 0.0047 - accuracy: 0.9985 - auc: 0.9998 - val_loss: 0.0393 - val_accuracy: 0.9878 - val_auc: 0.0000e+00\n",
            "Epoch 8/10\n",
            "6469/6469 [==============================] - 19s 3ms/step - loss: 0.0042 - accuracy: 0.9987 - auc: 0.9996 - val_loss: 0.2587 - val_accuracy: 0.8977 - val_auc: 0.0000e+00\n",
            "Epoch 9/10\n",
            "6469/6469 [==============================] - 25s 4ms/step - loss: 0.0039 - accuracy: 0.9989 - auc: 0.9997 - val_loss: 0.0238 - val_accuracy: 0.9936 - val_auc: 0.0000e+00\n",
            "Epoch 10/10\n",
            "6469/6469 [==============================] - 19s 3ms/step - loss: 0.0037 - accuracy: 0.9989 - auc: 0.9997 - val_loss: 0.0537 - val_accuracy: 0.9787 - val_auc: 0.0000e+00\n",
            "2671/2671 [==============================] - 4s 1ms/step\n",
            "Accuracy: 0.9990637032875719\n",
            "ROC AUC Score: 0.9637200304824433\n"
          ]
        }
      ]
    },
    {
      "cell_type": "markdown",
      "source": [
        "#TensorFlow - BorderLineSMOTE"
      ],
      "metadata": {
        "id": "Q8_3cjiXF5Ma"
      }
    },
    {
      "cell_type": "code",
      "source": [
        "import tensorflow as tf\n",
        "\n",
        "model = tf.keras.Sequential([\n",
        "    tf.keras.layers.Dense(16, activation='relu'),\n",
        "    tf.keras.layers.Dense(16, activation='relu'),\n",
        "    tf.keras.layers.Dense(1, activation='sigmoid')\n",
        "])\n",
        "\n",
        "model.compile(\n",
        "    optimizer='adam',\n",
        "    loss='binary_crossentropy',\n",
        "    metrics=[\n",
        "        'accuracy',\n",
        "        tf.keras.metrics.AUC(name='auc')\n",
        "    ]\n",
        ")\n",
        "\n",
        "model.fit(x_border, y_border, epochs=10, batch_size=32, validation_split=0.2)\n",
        "\n",
        "y_pred_tf_pb_bls = model.predict(test_scaled_df).flatten()\n",
        "y_pred_tf_bls = (y_pred_tf_pb_bls > 0.5).astype(int)\n",
        "\n",
        "accuracy = accuracy_score(y_test, y_pred_tf_bls)\n",
        "print(f'Accuracy: {accuracy}')\n",
        "\n",
        "roc_auc = roc_auc_score(y_test, y_pred_tf_pb_bls)\n",
        "print(f'ROC AUC Score: {roc_auc}')"
      ],
      "metadata": {
        "id": "RaoZn-0CGJE8",
        "colab": {
          "base_uri": "https://localhost:8080/"
        },
        "outputId": "66199a0f-d08c-4d6b-aff1-76112fba5543"
      },
      "execution_count": null,
      "outputs": [
        {
          "output_type": "stream",
          "name": "stdout",
          "text": [
            "Epoch 1/10\n",
            "6469/6469 [==============================] - 20s 3ms/step - loss: 0.0242 - accuracy: 0.9926 - auc: 0.9960 - val_loss: 0.0579 - val_accuracy: 0.9882 - val_auc: 0.0000e+00\n",
            "Epoch 2/10\n",
            "6469/6469 [==============================] - 23s 4ms/step - loss: 0.0052 - accuracy: 0.9988 - auc: 0.9980 - val_loss: 0.0236 - val_accuracy: 0.9922 - val_auc: 0.0000e+00\n",
            "Epoch 3/10\n",
            "6469/6469 [==============================] - 21s 3ms/step - loss: 0.0042 - accuracy: 0.9991 - auc: 0.9980 - val_loss: 0.0198 - val_accuracy: 0.9956 - val_auc: 0.0000e+00\n",
            "Epoch 4/10\n",
            "6469/6469 [==============================] - 24s 4ms/step - loss: 0.0038 - accuracy: 0.9992 - auc: 0.9982 - val_loss: 0.0088 - val_accuracy: 0.9982 - val_auc: 0.0000e+00\n",
            "Epoch 5/10\n",
            "6469/6469 [==============================] - 21s 3ms/step - loss: 0.0034 - accuracy: 0.9993 - auc: 0.9982 - val_loss: 0.0115 - val_accuracy: 0.9986 - val_auc: 0.0000e+00\n",
            "Epoch 6/10\n",
            "6469/6469 [==============================] - 24s 4ms/step - loss: 0.0031 - accuracy: 0.9994 - auc: 0.9983 - val_loss: 0.0056 - val_accuracy: 0.9986 - val_auc: 0.0000e+00\n",
            "Epoch 7/10\n",
            "6469/6469 [==============================] - 24s 4ms/step - loss: 0.0028 - accuracy: 0.9994 - auc: 0.9985 - val_loss: 0.0042 - val_accuracy: 0.9996 - val_auc: 0.0000e+00\n",
            "Epoch 8/10\n",
            "6469/6469 [==============================] - 20s 3ms/step - loss: 0.0027 - accuracy: 0.9995 - auc: 0.9983 - val_loss: 0.0059 - val_accuracy: 0.9999 - val_auc: 0.0000e+00\n",
            "Epoch 9/10\n",
            "6469/6469 [==============================] - 23s 4ms/step - loss: 0.0024 - accuracy: 0.9995 - auc: 0.9985 - val_loss: 0.0013 - val_accuracy: 0.9999 - val_auc: 0.0000e+00\n",
            "Epoch 10/10\n",
            "6469/6469 [==============================] - 21s 3ms/step - loss: 0.0024 - accuracy: 0.9995 - auc: 0.9984 - val_loss: 0.0031 - val_accuracy: 1.0000 - val_auc: 0.0000e+00\n",
            "2671/2671 [==============================] - 5s 2ms/step\n",
            "Accuracy: 0.9991222218320986\n",
            "ROC AUC Score: 0.9514111596795224\n"
          ]
        }
      ]
    },
    {
      "cell_type": "markdown",
      "source": [
        "#TensorFlow - ADASYN"
      ],
      "metadata": {
        "id": "cAegnXYtGE3s"
      }
    },
    {
      "cell_type": "code",
      "source": [
        "import tensorflow as tf\n",
        "\n",
        "model = tf.keras.Sequential([\n",
        "    tf.keras.layers.Dense(16, activation='relu'),\n",
        "    tf.keras.layers.Dense(16, activation='relu'),\n",
        "    tf.keras.layers.Dense(1, activation='sigmoid')\n",
        "])\n",
        "\n",
        "model.compile(\n",
        "    optimizer='adam',\n",
        "    loss='binary_crossentropy',\n",
        "    metrics=[\n",
        "        'accuracy',\n",
        "        tf.keras.metrics.AUC(name='auc')\n",
        "    ]\n",
        ")\n",
        "\n",
        "model.fit(x_ads, y_ads, epochs=10, batch_size=32, validation_split=0.2)\n",
        "\n",
        "y_pred_tf_pb_ads = model.predict(test_scaled_df).flatten()\n",
        "y_pred_tf_ads = (y_pred_tf_pb_ads > 0.5).astype(int)\n",
        "\n",
        "accuracy = accuracy_score(y_test, y_pred_tf_ads)\n",
        "print(f'Accuracy: {accuracy}')\n",
        "\n",
        "roc_auc = roc_auc_score(y_test, y_pred_tf_pb_ads)\n",
        "print(f'ROC AUC Score: {roc_auc}')"
      ],
      "metadata": {
        "id": "jBMFNm6JGL-g",
        "colab": {
          "base_uri": "https://localhost:8080/"
        },
        "outputId": "a027d227-4a3c-4cd7-8df6-dafe29b74628"
      },
      "execution_count": null,
      "outputs": [
        {
          "output_type": "stream",
          "name": "stdout",
          "text": [
            "Epoch 1/10\n",
            "6469/6469 [==============================] - 24s 3ms/step - loss: 0.0314 - accuracy: 0.9907 - auc: 0.9935 - val_loss: 2.8898 - val_accuracy: 0.6100 - val_auc: 0.0000e+00\n",
            "Epoch 2/10\n",
            "6469/6469 [==============================] - 22s 3ms/step - loss: 0.0083 - accuracy: 0.9983 - auc: 0.9981 - val_loss: 2.6820 - val_accuracy: 0.6694 - val_auc: 0.0000e+00\n",
            "Epoch 3/10\n",
            "6469/6469 [==============================] - 24s 4ms/step - loss: 0.0062 - accuracy: 0.9987 - auc: 0.9984 - val_loss: 2.4216 - val_accuracy: 0.6596 - val_auc: 0.0000e+00\n",
            "Epoch 4/10\n",
            "6469/6469 [==============================] - 20s 3ms/step - loss: 0.0052 - accuracy: 0.9989 - auc: 0.9984 - val_loss: 2.2160 - val_accuracy: 0.6971 - val_auc: 0.0000e+00\n",
            "Epoch 5/10\n",
            "6469/6469 [==============================] - 21s 3ms/step - loss: 0.0046 - accuracy: 0.9991 - auc: 0.9985 - val_loss: 1.8689 - val_accuracy: 0.7053 - val_auc: 0.0000e+00\n",
            "Epoch 6/10\n",
            "6469/6469 [==============================] - 21s 3ms/step - loss: 0.0041 - accuracy: 0.9991 - auc: 0.9987 - val_loss: 1.6693 - val_accuracy: 0.7220 - val_auc: 0.0000e+00\n",
            "Epoch 7/10\n",
            "6469/6469 [==============================] - 20s 3ms/step - loss: 0.0039 - accuracy: 0.9991 - auc: 0.9988 - val_loss: 1.4963 - val_accuracy: 0.7352 - val_auc: 0.0000e+00\n",
            "Epoch 8/10\n",
            "6469/6469 [==============================] - 23s 4ms/step - loss: 0.0035 - accuracy: 0.9992 - auc: 0.9988 - val_loss: 1.4000 - val_accuracy: 0.7634 - val_auc: 0.0000e+00\n",
            "Epoch 9/10\n",
            "6469/6469 [==============================] - 20s 3ms/step - loss: 0.0032 - accuracy: 0.9993 - auc: 0.9991 - val_loss: 1.2446 - val_accuracy: 0.7623 - val_auc: 0.0000e+00\n",
            "Epoch 10/10\n",
            "6469/6469 [==============================] - 23s 4ms/step - loss: 0.0033 - accuracy: 0.9992 - auc: 0.9990 - val_loss: 1.1110 - val_accuracy: 0.8157 - val_auc: 0.0000e+00\n",
            "2671/2671 [==============================] - 5s 2ms/step\n",
            "Accuracy: 0.9982561473731025\n",
            "ROC AUC Score: 0.964579052350903\n"
          ]
        }
      ]
    },
    {
      "cell_type": "markdown",
      "source": [
        "# Pytorch - SMOTE"
      ],
      "metadata": {
        "id": "My-4-ckaB8Ev"
      }
    },
    {
      "cell_type": "code",
      "source": [
        "import torch\n",
        "import torch.nn as nn\n",
        "import torch.optim as optim\n",
        "from torch.utils.data import DataLoader, TensorDataset\n",
        "\n",
        "X_train_tensor = torch.tensor(x_st.values, dtype=torch.float32)\n",
        "y_train_tensor = torch.tensor(y_st.values, dtype=torch.long)\n",
        "X_test_tensor = torch.tensor(test_scaled_df.values, dtype=torch.float32)\n",
        "y_test_tensor = torch.tensor(y_test.values, dtype=torch.long)\n",
        "\n",
        "train_dataset = TensorDataset(X_train_tensor, y_train_tensor)\n",
        "test_dataset = TensorDataset(X_test_tensor, y_test_tensor)\n",
        "train_loader = DataLoader(train_dataset, batch_size=64, shuffle=True)\n",
        "test_loader = DataLoader(test_dataset, batch_size=64, shuffle=False)\n",
        "\n",
        "class CreditCardNN(nn.Module):\n",
        "    def __init__(self):\n",
        "        super(CreditCardNN, self).__init__()\n",
        "        self.layer1 = nn.Linear(X_train_tensor.shape[1], 128)\n",
        "        self.layer2 = nn.Linear(128, 64)\n",
        "        self.layer3 = nn.Linear(64, 2)\n",
        "\n",
        "    def forward(self, x):\n",
        "        x = torch.relu(self.layer1(x))\n",
        "        x = torch.relu(self.layer2(x))\n",
        "        x = self.layer3(x)\n",
        "        return x\n",
        "\n",
        "model = CreditCardNN()\n",
        "criterion = nn.CrossEntropyLoss()\n",
        "optimizer = optim.Adam(model.parameters(), lr=0.001)\n",
        "\n",
        "num_epochs = 10\n",
        "for epoch in range(num_epochs):\n",
        "    model.train()\n",
        "    for X_batch, y_batch in train_loader:\n",
        "        optimizer.zero_grad()\n",
        "        outputs = model(X_batch)\n",
        "        loss = criterion(outputs, y_batch)\n",
        "        loss.backward()\n",
        "        optimizer.step()\n",
        "    print(f\"Epoch {epoch+1}/{num_epochs}, Loss: {loss.item()}\")\n",
        "\n",
        "model.eval()\n",
        "y_pred_list = []\n",
        "y_pred_proba_st = []\n",
        "y_true_st = []\n",
        "\n",
        "with torch.no_grad():\n",
        "    for X_batch, _ in test_loader:\n",
        "        outputs = model(X_batch)\n",
        "        _, y_pred = torch.max(outputs, 1)\n",
        "        y_pred_list.append(y_pred)\n",
        "\n",
        "    for inputs, labels in test_loader:\n",
        "        outputs = model(inputs)\n",
        "        y_pred_proba_st.extend(outputs[:, 1].detach().cpu().numpy())\n",
        "        y_true_st.extend(labels.detach().cpu().numpy())\n",
        "\n",
        "    y_pred_tensor = torch.cat(y_pred_list)\n",
        "    pth_y_pred_st = y_pred_tensor.detach().cpu().numpy()\n",
        "\n",
        "accuracy = accuracy_score(y_test, pth_y_pred_st)\n",
        "ra_score = roc_auc_score(y_true_st, y_pred_proba_st)\n",
        "print('accuracy: {}'.format(accuracy))\n",
        "print('roc_auc_score: {}'.format(ra_score))"
      ],
      "metadata": {
        "id": "R48uQFMW-6vo",
        "colab": {
          "base_uri": "https://localhost:8080/"
        },
        "outputId": "e45524fa-9441-49de-c845-91ca126289cc"
      },
      "execution_count": null,
      "outputs": [
        {
          "output_type": "stream",
          "name": "stdout",
          "text": [
            "Epoch 1/10, Loss: 0.011123843491077423\n",
            "Epoch 2/10, Loss: 1.3992331332701724e-05\n",
            "Epoch 3/10, Loss: 2.0249775843694806e-05\n",
            "Epoch 4/10, Loss: 0.00022612808970734477\n",
            "Epoch 5/10, Loss: 0.00023570132907480001\n",
            "Epoch 6/10, Loss: 3.924910561181605e-05\n",
            "Epoch 7/10, Loss: 1.617495399841573e-05\n",
            "Epoch 8/10, Loss: 5.869768210686743e-05\n",
            "Epoch 9/10, Loss: 0.0007968984427861869\n",
            "Epoch 10/10, Loss: 3.1338599910668563e-06\n",
            "accuracy: 0.9992626663389628\n",
            "roc_auc_score: 0.9598023077300879\n"
          ]
        }
      ]
    },
    {
      "cell_type": "markdown",
      "source": [
        "#Pytorch - BorderLineSMOTE"
      ],
      "metadata": {
        "id": "Ir24RdJkGRzF"
      }
    },
    {
      "cell_type": "code",
      "source": [
        "import torch\n",
        "import torch.nn as nn\n",
        "import torch.optim as optim\n",
        "from torch.utils.data import DataLoader, TensorDataset\n",
        "\n",
        "X_train_tensor = torch.tensor(x_border.values, dtype=torch.float32)\n",
        "y_train_tensor = torch.tensor(y_border.values, dtype=torch.long)\n",
        "X_test_tensor = torch.tensor(test_scaled_df.values, dtype=torch.float32)\n",
        "y_test_tensor = torch.tensor(y_test.values, dtype=torch.long)\n",
        "\n",
        "train_dataset = TensorDataset(X_train_tensor, y_train_tensor)\n",
        "test_dataset = TensorDataset(X_test_tensor, y_test_tensor)\n",
        "train_loader = DataLoader(train_dataset, batch_size=64, shuffle=True)\n",
        "test_loader = DataLoader(test_dataset, batch_size=64, shuffle=False)\n",
        "\n",
        "class CreditCardNN(nn.Module):\n",
        "    def __init__(self):\n",
        "        super(CreditCardNN, self).__init__()\n",
        "        self.layer1 = nn.Linear(X_train_tensor.shape[1], 128)\n",
        "        self.layer2 = nn.Linear(128, 64)\n",
        "        self.layer3 = nn.Linear(64, 2)\n",
        "\n",
        "    def forward(self, x):\n",
        "        x = torch.relu(self.layer1(x))\n",
        "        x = torch.relu(self.layer2(x))\n",
        "        x = self.layer3(x)\n",
        "        return x\n",
        "\n",
        "model = CreditCardNN()\n",
        "criterion = nn.CrossEntropyLoss()\n",
        "optimizer = optim.Adam(model.parameters(), lr=0.001)\n",
        "\n",
        "num_epochs = 10\n",
        "for epoch in range(num_epochs):\n",
        "    model.train()\n",
        "    for X_batch, y_batch in train_loader:\n",
        "        optimizer.zero_grad()\n",
        "        outputs = model(X_batch)\n",
        "        loss = criterion(outputs, y_batch)\n",
        "        loss.backward()\n",
        "        optimizer.step()\n",
        "    print(f\"Epoch {epoch+1}/{num_epochs}, Loss: {loss.item()}\")\n",
        "\n",
        "model.eval()\n",
        "y_pred_list = []\n",
        "y_pred_proba_bls = []\n",
        "y_true_bls = []\n",
        "\n",
        "with torch.no_grad():\n",
        "    for X_batch, _ in test_loader:\n",
        "        outputs = model(X_batch)\n",
        "        _, y_pred = torch.max(outputs, 1)\n",
        "        y_pred_list.append(y_pred)\n",
        "\n",
        "    for inputs, labels in test_loader:\n",
        "        outputs = model(inputs)\n",
        "        y_pred_proba_bls.extend(outputs[:, 1].detach().cpu().numpy())\n",
        "        y_true_bls.extend(labels.detach().cpu().numpy())\n",
        "\n",
        "    y_pred_tensor = torch.cat(y_pred_list)\n",
        "    pth_y_pred_bls = y_pred_tensor.detach().cpu().numpy()\n",
        "\n",
        "accuracy = accuracy_score(y_test, pth_y_pred_bls)\n",
        "ra_score = roc_auc_score(y_true_bls, y_pred_proba_bls)\n",
        "print('accuracy: {}'.format(accuracy))\n",
        "print('roc_auc_score: {}'.format(ra_score))"
      ],
      "metadata": {
        "id": "DpuGZUovGRSx",
        "colab": {
          "base_uri": "https://localhost:8080/"
        },
        "outputId": "535768e8-6119-49ea-adbb-ec4b2ff905cf"
      },
      "execution_count": null,
      "outputs": [
        {
          "output_type": "stream",
          "name": "stdout",
          "text": [
            "Epoch 1/10, Loss: 0.00041238366975449026\n",
            "Epoch 2/10, Loss: 0.00324302539229393\n",
            "Epoch 3/10, Loss: 0.00013359457079786807\n",
            "Epoch 4/10, Loss: 0.0003568814427126199\n",
            "Epoch 5/10, Loss: 0.00016139796935021877\n",
            "Epoch 6/10, Loss: 0.0037822816520929337\n",
            "Epoch 7/10, Loss: 0.00016544970276299864\n",
            "Epoch 8/10, Loss: 0.00011516009544720873\n",
            "Epoch 9/10, Loss: 1.6428173694293946e-05\n",
            "Epoch 10/10, Loss: 1.1437216016929597e-05\n",
            "accuracy: 0.9992743700478681\n",
            "roc_auc_score: 0.9648785692897306\n"
          ]
        }
      ]
    },
    {
      "cell_type": "markdown",
      "source": [
        "#Pytorch - ADASYN"
      ],
      "metadata": {
        "id": "-aRkxVsfGV54"
      }
    },
    {
      "cell_type": "code",
      "source": [
        "import torch\n",
        "import torch.nn as nn\n",
        "import torch.optim as optim\n",
        "from torch.utils.data import DataLoader, TensorDataset\n",
        "\n",
        "X_train_tensor = torch.tensor(x_ads.values, dtype=torch.float32)\n",
        "y_train_tensor = torch.tensor(y_ads.values, dtype=torch.long)\n",
        "X_test_tensor = torch.tensor(test_scaled_df.values, dtype=torch.float32)\n",
        "y_test_tensor = torch.tensor(y_test.values, dtype=torch.long)\n",
        "\n",
        "train_dataset = TensorDataset(X_train_tensor, y_train_tensor)\n",
        "test_dataset = TensorDataset(X_test_tensor, y_test_tensor)\n",
        "train_loader = DataLoader(train_dataset, batch_size=64, shuffle=True)\n",
        "test_loader = DataLoader(test_dataset, batch_size=64, shuffle=False)\n",
        "\n",
        "class CreditCardNN(nn.Module):\n",
        "    def __init__(self):\n",
        "        super(CreditCardNN, self).__init__()\n",
        "        self.layer1 = nn.Linear(X_train_tensor.shape[1], 128)\n",
        "        self.layer2 = nn.Linear(128, 64)\n",
        "        self.layer3 = nn.Linear(64, 2)\n",
        "\n",
        "    def forward(self, x):\n",
        "        x = torch.relu(self.layer1(x))\n",
        "        x = torch.relu(self.layer2(x))\n",
        "        x = self.layer3(x)\n",
        "        return x\n",
        "\n",
        "model = CreditCardNN()\n",
        "criterion = nn.CrossEntropyLoss()\n",
        "optimizer = optim.Adam(model.parameters(), lr=0.001)\n",
        "\n",
        "num_epochs = 10\n",
        "for epoch in range(num_epochs):\n",
        "    model.train()\n",
        "    for X_batch, y_batch in train_loader:\n",
        "        optimizer.zero_grad()\n",
        "        outputs = model(X_batch)\n",
        "        loss = criterion(outputs, y_batch)\n",
        "        loss.backward()\n",
        "        optimizer.step()\n",
        "    print(f\"Epoch {epoch+1}/{num_epochs}, Loss: {loss.item()}\")\n",
        "\n",
        "model.eval()\n",
        "y_pred_list = []\n",
        "y_pred_proba_ads = []\n",
        "y_true_ads = []\n",
        "\n",
        "with torch.no_grad():\n",
        "    for X_batch, _ in test_loader:\n",
        "        outputs = model(X_batch)\n",
        "        _, y_pred = torch.max(outputs, 1)\n",
        "        y_pred_list.append(y_pred)\n",
        "\n",
        "    for inputs, labels in test_loader:\n",
        "        outputs = model(inputs)\n",
        "        y_pred_proba_ads.extend(outputs[:, 1].detach().cpu().numpy())\n",
        "        y_true_ads.extend(labels.detach().cpu().numpy())\n",
        "\n",
        "    y_pred_tensor = torch.cat(y_pred_list)\n",
        "    pth_y_pred_ads = y_pred_tensor.detach().cpu().numpy()\n",
        "\n",
        "accuracy = accuracy_score(y_test, pth_y_pred_ads)\n",
        "ra_score = roc_auc_score(y_true_ads, y_pred_proba_ads)\n",
        "print('accuracy: {}'.format(accuracy))\n",
        "print('roc_auc_score: {}'.format(ra_score))"
      ],
      "metadata": {
        "id": "PS_y0p8CGakQ",
        "colab": {
          "base_uri": "https://localhost:8080/"
        },
        "outputId": "f95d064d-aa99-4348-81c6-34379e694588"
      },
      "execution_count": null,
      "outputs": [
        {
          "output_type": "stream",
          "name": "stdout",
          "text": [
            "Epoch 1/10, Loss: 0.0014795828610658646\n",
            "Epoch 2/10, Loss: 0.0001070843281922862\n",
            "Epoch 3/10, Loss: 0.0003234889591112733\n",
            "Epoch 4/10, Loss: 0.003952135797590017\n",
            "Epoch 5/10, Loss: 8.760259515838698e-05\n",
            "Epoch 6/10, Loss: 5.916169538977556e-05\n",
            "Epoch 7/10, Loss: 0.00014857853238936514\n",
            "Epoch 8/10, Loss: 0.00017514912178739905\n",
            "Epoch 9/10, Loss: 0.00013828522060066462\n",
            "Epoch 10/10, Loss: 0.0001471830764785409\n",
            "accuracy: 0.9991105181231933\n",
            "roc_auc_score: 0.972163461309953\n"
          ]
        }
      ]
    },
    {
      "cell_type": "markdown",
      "source": [
        "## Compare"
      ],
      "metadata": {
        "id": "bjOjNZf_MIEC"
      }
    },
    {
      "cell_type": "code",
      "source": [
        "df = pd.DataFrame({\n",
        "    'Model': [\n",
        "        'RF_SMOTE', 'XGB_SMOTE', 'LGBM_SMOTE', 'CB_SMOTE', 'TensorFlow_SMOTE', 'Pytorch_SMOTE',\n",
        "        'RF_BLS', 'XGB_BLS', 'LGBM_BLS', 'CB_BLS',\n",
        "        'TensorFlow_BLS', 'Pytorch_BLS', 'RF_ADASYN', 'XGB_ADASYN', 'LGBM_ADASYN',\n",
        "        'CB_ADASYN', 'TensorFlow_ADASYN', 'Pytorch_ADASYN'\n",
        "    ],\n",
        "    'Accuracy_Score': [\n",
        "        accuracy_score(y_test, y_pred_rf_st), accuracy_score(y_test, y_pred_xgb_st), accuracy_score(y_test, y_pred_lgbm_st),\n",
        "        accuracy_score(y_test, y_pred_cb_st), accuracy_score(y_test, y_pred_tf_st), accuracy_score(y_test, pth_y_pred_st),\n",
        "        accuracy_score(y_test, y_pred_rf_bl), accuracy_score(y_test, y_pred_xgb_bl), accuracy_score(y_test, y_pred_lgbm_bl),\n",
        "        accuracy_score(y_test, y_pred_cb_bl), accuracy_score(y_test, y_pred_tf_bls), accuracy_score(y_test, pth_y_pred_bls),\n",
        "        accuracy_score(y_test, y_pred_rf_ads), accuracy_score(y_test, y_pred_xgb_ads), accuracy_score(y_test, y_pred_lgbm_ads),\n",
        "        accuracy_score(y_test, y_pred_cb_ads), accuracy_score(y_test, y_pred_tf_ads), accuracy_score(y_test, pth_y_pred_ads)\n",
        "    ],\n",
        "    'ROC_AUC_Score': [\n",
        "        roc_auc_score(y_test, y_pred_rf_pb_st), roc_auc_score(y_test, y_pred_xgb_pb_st), roc_auc_score(y_test, y_pred_lgbm_pb_st),\n",
        "        roc_auc_score(y_test, y_pred_cb_pb_st), roc_auc_score(y_test, y_pred_tf_pb_st), roc_auc_score(y_true_st, y_pred_proba_st),\n",
        "        roc_auc_score(y_test, y_pred_rf_bl), roc_auc_score(y_test, y_pred_xgb_bl), roc_auc_score(y_test, y_pred_lgbm_bl),\n",
        "        roc_auc_score(y_test, y_pred_cb_bl), roc_auc_score(y_test, y_pred_tf_pb_bls), roc_auc_score(y_true_bls, y_pred_proba_bls),\n",
        "        roc_auc_score(y_test, y_pred_rf_ads), roc_auc_score(y_test, y_pred_xgb_ads), roc_auc_score(y_test, y_pred_lgbm_ads),\n",
        "        roc_auc_score(y_test, y_pred_cb_ads), roc_auc_score(y_test, y_pred_tf_pb_ads), roc_auc_score(y_true_ads, y_pred_proba_ads)\n",
        "    ]\n",
        "})\n",
        "\n",
        "sorted_df = df.sort_values(by='ROC_AUC_Score', ascending=False)\n",
        "sorted_df"
      ],
      "metadata": {
        "id": "HHCf-Z54K9z0",
        "colab": {
          "base_uri": "https://localhost:8080/",
          "height": 613
        },
        "outputId": "b6e4b8fa-adf8-4003-d7d9-c35bea240537"
      },
      "execution_count": null,
      "outputs": [
        {
          "output_type": "execute_result",
          "data": {
            "text/plain": [
              "                Model  Accuracy_Score  ROC_AUC_Score\n",
              "2          LGBM_SMOTE        0.999192       0.975056\n",
              "3            CB_SMOTE        0.999345       0.974302\n",
              "1           XGB_SMOTE        0.999497       0.973664\n",
              "17     Pytorch_ADASYN        0.999111       0.972163\n",
              "0            RF_SMOTE        0.999520       0.972040\n",
              "11        Pytorch_BLS        0.999274       0.964879\n",
              "16  TensorFlow_ADASYN        0.998256       0.964579\n",
              "4    TensorFlow_SMOTE        0.999064       0.963720\n",
              "5       Pytorch_SMOTE        0.999263       0.959802\n",
              "10     TensorFlow_BLS        0.999122       0.951411\n",
              "14        LGBM_ADASYN        0.998642       0.918380\n",
              "13         XGB_ADASYN        0.999427       0.908655\n",
              "15          CB_ADASYN        0.999204       0.908543\n",
              "9              CB_BLS        0.999298       0.905218\n",
              "7             XGB_BLS        0.999427       0.891792\n",
              "12          RF_ADASYN        0.999485       0.888449\n",
              "8            LGBM_BLS        0.999345       0.888379\n",
              "6              RF_BLS        0.999497       0.874965"
            ],
            "text/html": [
              "\n",
              "  <div id=\"df-1849b75f-d9fa-4892-990a-7c1412b11a62\" class=\"colab-df-container\">\n",
              "    <div>\n",
              "<style scoped>\n",
              "    .dataframe tbody tr th:only-of-type {\n",
              "        vertical-align: middle;\n",
              "    }\n",
              "\n",
              "    .dataframe tbody tr th {\n",
              "        vertical-align: top;\n",
              "    }\n",
              "\n",
              "    .dataframe thead th {\n",
              "        text-align: right;\n",
              "    }\n",
              "</style>\n",
              "<table border=\"1\" class=\"dataframe\">\n",
              "  <thead>\n",
              "    <tr style=\"text-align: right;\">\n",
              "      <th></th>\n",
              "      <th>Model</th>\n",
              "      <th>Accuracy_Score</th>\n",
              "      <th>ROC_AUC_Score</th>\n",
              "    </tr>\n",
              "  </thead>\n",
              "  <tbody>\n",
              "    <tr>\n",
              "      <th>2</th>\n",
              "      <td>LGBM_SMOTE</td>\n",
              "      <td>0.999192</td>\n",
              "      <td>0.975056</td>\n",
              "    </tr>\n",
              "    <tr>\n",
              "      <th>3</th>\n",
              "      <td>CB_SMOTE</td>\n",
              "      <td>0.999345</td>\n",
              "      <td>0.974302</td>\n",
              "    </tr>\n",
              "    <tr>\n",
              "      <th>1</th>\n",
              "      <td>XGB_SMOTE</td>\n",
              "      <td>0.999497</td>\n",
              "      <td>0.973664</td>\n",
              "    </tr>\n",
              "    <tr>\n",
              "      <th>17</th>\n",
              "      <td>Pytorch_ADASYN</td>\n",
              "      <td>0.999111</td>\n",
              "      <td>0.972163</td>\n",
              "    </tr>\n",
              "    <tr>\n",
              "      <th>0</th>\n",
              "      <td>RF_SMOTE</td>\n",
              "      <td>0.999520</td>\n",
              "      <td>0.972040</td>\n",
              "    </tr>\n",
              "    <tr>\n",
              "      <th>11</th>\n",
              "      <td>Pytorch_BLS</td>\n",
              "      <td>0.999274</td>\n",
              "      <td>0.964879</td>\n",
              "    </tr>\n",
              "    <tr>\n",
              "      <th>16</th>\n",
              "      <td>TensorFlow_ADASYN</td>\n",
              "      <td>0.998256</td>\n",
              "      <td>0.964579</td>\n",
              "    </tr>\n",
              "    <tr>\n",
              "      <th>4</th>\n",
              "      <td>TensorFlow_SMOTE</td>\n",
              "      <td>0.999064</td>\n",
              "      <td>0.963720</td>\n",
              "    </tr>\n",
              "    <tr>\n",
              "      <th>5</th>\n",
              "      <td>Pytorch_SMOTE</td>\n",
              "      <td>0.999263</td>\n",
              "      <td>0.959802</td>\n",
              "    </tr>\n",
              "    <tr>\n",
              "      <th>10</th>\n",
              "      <td>TensorFlow_BLS</td>\n",
              "      <td>0.999122</td>\n",
              "      <td>0.951411</td>\n",
              "    </tr>\n",
              "    <tr>\n",
              "      <th>14</th>\n",
              "      <td>LGBM_ADASYN</td>\n",
              "      <td>0.998642</td>\n",
              "      <td>0.918380</td>\n",
              "    </tr>\n",
              "    <tr>\n",
              "      <th>13</th>\n",
              "      <td>XGB_ADASYN</td>\n",
              "      <td>0.999427</td>\n",
              "      <td>0.908655</td>\n",
              "    </tr>\n",
              "    <tr>\n",
              "      <th>15</th>\n",
              "      <td>CB_ADASYN</td>\n",
              "      <td>0.999204</td>\n",
              "      <td>0.908543</td>\n",
              "    </tr>\n",
              "    <tr>\n",
              "      <th>9</th>\n",
              "      <td>CB_BLS</td>\n",
              "      <td>0.999298</td>\n",
              "      <td>0.905218</td>\n",
              "    </tr>\n",
              "    <tr>\n",
              "      <th>7</th>\n",
              "      <td>XGB_BLS</td>\n",
              "      <td>0.999427</td>\n",
              "      <td>0.891792</td>\n",
              "    </tr>\n",
              "    <tr>\n",
              "      <th>12</th>\n",
              "      <td>RF_ADASYN</td>\n",
              "      <td>0.999485</td>\n",
              "      <td>0.888449</td>\n",
              "    </tr>\n",
              "    <tr>\n",
              "      <th>8</th>\n",
              "      <td>LGBM_BLS</td>\n",
              "      <td>0.999345</td>\n",
              "      <td>0.888379</td>\n",
              "    </tr>\n",
              "    <tr>\n",
              "      <th>6</th>\n",
              "      <td>RF_BLS</td>\n",
              "      <td>0.999497</td>\n",
              "      <td>0.874965</td>\n",
              "    </tr>\n",
              "  </tbody>\n",
              "</table>\n",
              "</div>\n",
              "    <div class=\"colab-df-buttons\">\n",
              "\n",
              "  <div class=\"colab-df-container\">\n",
              "    <button class=\"colab-df-convert\" onclick=\"convertToInteractive('df-1849b75f-d9fa-4892-990a-7c1412b11a62')\"\n",
              "            title=\"Convert this dataframe to an interactive table.\"\n",
              "            style=\"display:none;\">\n",
              "\n",
              "  <svg xmlns=\"http://www.w3.org/2000/svg\" height=\"24px\" viewBox=\"0 -960 960 960\">\n",
              "    <path d=\"M120-120v-720h720v720H120Zm60-500h600v-160H180v160Zm220 220h160v-160H400v160Zm0 220h160v-160H400v160ZM180-400h160v-160H180v160Zm440 0h160v-160H620v160ZM180-180h160v-160H180v160Zm440 0h160v-160H620v160Z\"/>\n",
              "  </svg>\n",
              "    </button>\n",
              "\n",
              "  <style>\n",
              "    .colab-df-container {\n",
              "      display:flex;\n",
              "      gap: 12px;\n",
              "    }\n",
              "\n",
              "    .colab-df-convert {\n",
              "      background-color: #E8F0FE;\n",
              "      border: none;\n",
              "      border-radius: 50%;\n",
              "      cursor: pointer;\n",
              "      display: none;\n",
              "      fill: #1967D2;\n",
              "      height: 32px;\n",
              "      padding: 0 0 0 0;\n",
              "      width: 32px;\n",
              "    }\n",
              "\n",
              "    .colab-df-convert:hover {\n",
              "      background-color: #E2EBFA;\n",
              "      box-shadow: 0px 1px 2px rgba(60, 64, 67, 0.3), 0px 1px 3px 1px rgba(60, 64, 67, 0.15);\n",
              "      fill: #174EA6;\n",
              "    }\n",
              "\n",
              "    .colab-df-buttons div {\n",
              "      margin-bottom: 4px;\n",
              "    }\n",
              "\n",
              "    [theme=dark] .colab-df-convert {\n",
              "      background-color: #3B4455;\n",
              "      fill: #D2E3FC;\n",
              "    }\n",
              "\n",
              "    [theme=dark] .colab-df-convert:hover {\n",
              "      background-color: #434B5C;\n",
              "      box-shadow: 0px 1px 3px 1px rgba(0, 0, 0, 0.15);\n",
              "      filter: drop-shadow(0px 1px 2px rgba(0, 0, 0, 0.3));\n",
              "      fill: #FFFFFF;\n",
              "    }\n",
              "  </style>\n",
              "\n",
              "    <script>\n",
              "      const buttonEl =\n",
              "        document.querySelector('#df-1849b75f-d9fa-4892-990a-7c1412b11a62 button.colab-df-convert');\n",
              "      buttonEl.style.display =\n",
              "        google.colab.kernel.accessAllowed ? 'block' : 'none';\n",
              "\n",
              "      async function convertToInteractive(key) {\n",
              "        const element = document.querySelector('#df-1849b75f-d9fa-4892-990a-7c1412b11a62');\n",
              "        const dataTable =\n",
              "          await google.colab.kernel.invokeFunction('convertToInteractive',\n",
              "                                                    [key], {});\n",
              "        if (!dataTable) return;\n",
              "\n",
              "        const docLinkHtml = 'Like what you see? Visit the ' +\n",
              "          '<a target=\"_blank\" href=https://colab.research.google.com/notebooks/data_table.ipynb>data table notebook</a>'\n",
              "          + ' to learn more about interactive tables.';\n",
              "        element.innerHTML = '';\n",
              "        dataTable['output_type'] = 'display_data';\n",
              "        await google.colab.output.renderOutput(dataTable, element);\n",
              "        const docLink = document.createElement('div');\n",
              "        docLink.innerHTML = docLinkHtml;\n",
              "        element.appendChild(docLink);\n",
              "      }\n",
              "    </script>\n",
              "  </div>\n",
              "\n",
              "\n",
              "<div id=\"df-147adb62-49e6-4c86-a02a-88a3bbc67f07\">\n",
              "  <button class=\"colab-df-quickchart\" onclick=\"quickchart('df-147adb62-49e6-4c86-a02a-88a3bbc67f07')\"\n",
              "            title=\"Suggest charts\"\n",
              "            style=\"display:none;\">\n",
              "\n",
              "<svg xmlns=\"http://www.w3.org/2000/svg\" height=\"24px\"viewBox=\"0 0 24 24\"\n",
              "     width=\"24px\">\n",
              "    <g>\n",
              "        <path d=\"M19 3H5c-1.1 0-2 .9-2 2v14c0 1.1.9 2 2 2h14c1.1 0 2-.9 2-2V5c0-1.1-.9-2-2-2zM9 17H7v-7h2v7zm4 0h-2V7h2v10zm4 0h-2v-4h2v4z\"/>\n",
              "    </g>\n",
              "</svg>\n",
              "  </button>\n",
              "\n",
              "<style>\n",
              "  .colab-df-quickchart {\n",
              "      --bg-color: #E8F0FE;\n",
              "      --fill-color: #1967D2;\n",
              "      --hover-bg-color: #E2EBFA;\n",
              "      --hover-fill-color: #174EA6;\n",
              "      --disabled-fill-color: #AAA;\n",
              "      --disabled-bg-color: #DDD;\n",
              "  }\n",
              "\n",
              "  [theme=dark] .colab-df-quickchart {\n",
              "      --bg-color: #3B4455;\n",
              "      --fill-color: #D2E3FC;\n",
              "      --hover-bg-color: #434B5C;\n",
              "      --hover-fill-color: #FFFFFF;\n",
              "      --disabled-bg-color: #3B4455;\n",
              "      --disabled-fill-color: #666;\n",
              "  }\n",
              "\n",
              "  .colab-df-quickchart {\n",
              "    background-color: var(--bg-color);\n",
              "    border: none;\n",
              "    border-radius: 50%;\n",
              "    cursor: pointer;\n",
              "    display: none;\n",
              "    fill: var(--fill-color);\n",
              "    height: 32px;\n",
              "    padding: 0;\n",
              "    width: 32px;\n",
              "  }\n",
              "\n",
              "  .colab-df-quickchart:hover {\n",
              "    background-color: var(--hover-bg-color);\n",
              "    box-shadow: 0 1px 2px rgba(60, 64, 67, 0.3), 0 1px 3px 1px rgba(60, 64, 67, 0.15);\n",
              "    fill: var(--button-hover-fill-color);\n",
              "  }\n",
              "\n",
              "  .colab-df-quickchart-complete:disabled,\n",
              "  .colab-df-quickchart-complete:disabled:hover {\n",
              "    background-color: var(--disabled-bg-color);\n",
              "    fill: var(--disabled-fill-color);\n",
              "    box-shadow: none;\n",
              "  }\n",
              "\n",
              "  .colab-df-spinner {\n",
              "    border: 2px solid var(--fill-color);\n",
              "    border-color: transparent;\n",
              "    border-bottom-color: var(--fill-color);\n",
              "    animation:\n",
              "      spin 1s steps(1) infinite;\n",
              "  }\n",
              "\n",
              "  @keyframes spin {\n",
              "    0% {\n",
              "      border-color: transparent;\n",
              "      border-bottom-color: var(--fill-color);\n",
              "      border-left-color: var(--fill-color);\n",
              "    }\n",
              "    20% {\n",
              "      border-color: transparent;\n",
              "      border-left-color: var(--fill-color);\n",
              "      border-top-color: var(--fill-color);\n",
              "    }\n",
              "    30% {\n",
              "      border-color: transparent;\n",
              "      border-left-color: var(--fill-color);\n",
              "      border-top-color: var(--fill-color);\n",
              "      border-right-color: var(--fill-color);\n",
              "    }\n",
              "    40% {\n",
              "      border-color: transparent;\n",
              "      border-right-color: var(--fill-color);\n",
              "      border-top-color: var(--fill-color);\n",
              "    }\n",
              "    60% {\n",
              "      border-color: transparent;\n",
              "      border-right-color: var(--fill-color);\n",
              "    }\n",
              "    80% {\n",
              "      border-color: transparent;\n",
              "      border-right-color: var(--fill-color);\n",
              "      border-bottom-color: var(--fill-color);\n",
              "    }\n",
              "    90% {\n",
              "      border-color: transparent;\n",
              "      border-bottom-color: var(--fill-color);\n",
              "    }\n",
              "  }\n",
              "</style>\n",
              "\n",
              "  <script>\n",
              "    async function quickchart(key) {\n",
              "      const quickchartButtonEl =\n",
              "        document.querySelector('#' + key + ' button');\n",
              "      quickchartButtonEl.disabled = true;  // To prevent multiple clicks.\n",
              "      quickchartButtonEl.classList.add('colab-df-spinner');\n",
              "      try {\n",
              "        const charts = await google.colab.kernel.invokeFunction(\n",
              "            'suggestCharts', [key], {});\n",
              "      } catch (error) {\n",
              "        console.error('Error during call to suggestCharts:', error);\n",
              "      }\n",
              "      quickchartButtonEl.classList.remove('colab-df-spinner');\n",
              "      quickchartButtonEl.classList.add('colab-df-quickchart-complete');\n",
              "    }\n",
              "    (() => {\n",
              "      let quickchartButtonEl =\n",
              "        document.querySelector('#df-147adb62-49e6-4c86-a02a-88a3bbc67f07 button');\n",
              "      quickchartButtonEl.style.display =\n",
              "        google.colab.kernel.accessAllowed ? 'block' : 'none';\n",
              "    })();\n",
              "  </script>\n",
              "</div>\n",
              "\n",
              "  <div id=\"id_92aa715d-c809-4a42-a310-c221a63a0fd2\">\n",
              "    <style>\n",
              "      .colab-df-generate {\n",
              "        background-color: #E8F0FE;\n",
              "        border: none;\n",
              "        border-radius: 50%;\n",
              "        cursor: pointer;\n",
              "        display: none;\n",
              "        fill: #1967D2;\n",
              "        height: 32px;\n",
              "        padding: 0 0 0 0;\n",
              "        width: 32px;\n",
              "      }\n",
              "\n",
              "      .colab-df-generate:hover {\n",
              "        background-color: #E2EBFA;\n",
              "        box-shadow: 0px 1px 2px rgba(60, 64, 67, 0.3), 0px 1px 3px 1px rgba(60, 64, 67, 0.15);\n",
              "        fill: #174EA6;\n",
              "      }\n",
              "\n",
              "      [theme=dark] .colab-df-generate {\n",
              "        background-color: #3B4455;\n",
              "        fill: #D2E3FC;\n",
              "      }\n",
              "\n",
              "      [theme=dark] .colab-df-generate:hover {\n",
              "        background-color: #434B5C;\n",
              "        box-shadow: 0px 1px 3px 1px rgba(0, 0, 0, 0.15);\n",
              "        filter: drop-shadow(0px 1px 2px rgba(0, 0, 0, 0.3));\n",
              "        fill: #FFFFFF;\n",
              "      }\n",
              "    </style>\n",
              "    <button class=\"colab-df-generate\" onclick=\"generateWithVariable('sorted_df')\"\n",
              "            title=\"Generate code using this dataframe.\"\n",
              "            style=\"display:none;\">\n",
              "\n",
              "  <svg xmlns=\"http://www.w3.org/2000/svg\" height=\"24px\"viewBox=\"0 0 24 24\"\n",
              "       width=\"24px\">\n",
              "    <path d=\"M7,19H8.4L18.45,9,17,7.55,7,17.6ZM5,21V16.75L18.45,3.32a2,2,0,0,1,2.83,0l1.4,1.43a1.91,1.91,0,0,1,.58,1.4,1.91,1.91,0,0,1-.58,1.4L9.25,21ZM18.45,9,17,7.55Zm-12,3A5.31,5.31,0,0,0,4.9,8.1,5.31,5.31,0,0,0,1,6.5,5.31,5.31,0,0,0,4.9,4.9,5.31,5.31,0,0,0,6.5,1,5.31,5.31,0,0,0,8.1,4.9,5.31,5.31,0,0,0,12,6.5,5.46,5.46,0,0,0,6.5,12Z\"/>\n",
              "  </svg>\n",
              "    </button>\n",
              "    <script>\n",
              "      (() => {\n",
              "      const buttonEl =\n",
              "        document.querySelector('#id_92aa715d-c809-4a42-a310-c221a63a0fd2 button.colab-df-generate');\n",
              "      buttonEl.style.display =\n",
              "        google.colab.kernel.accessAllowed ? 'block' : 'none';\n",
              "\n",
              "      buttonEl.onclick = () => {\n",
              "        google.colab.notebook.generateWithVariable('sorted_df');\n",
              "      }\n",
              "      })();\n",
              "    </script>\n",
              "  </div>\n",
              "\n",
              "    </div>\n",
              "  </div>\n"
            ],
            "application/vnd.google.colaboratory.intrinsic+json": {
              "type": "dataframe",
              "variable_name": "sorted_df",
              "summary": "{\n  \"name\": \"sorted_df\",\n  \"rows\": 18,\n  \"fields\": [\n    {\n      \"column\": \"Model\",\n      \"properties\": {\n        \"dtype\": \"string\",\n        \"num_unique_values\": 18,\n        \"samples\": [\n          \"LGBM_SMOTE\",\n          \"CB_SMOTE\",\n          \"Pytorch_SMOTE\"\n        ],\n        \"semantic_type\": \"\",\n        \"description\": \"\"\n      }\n    },\n    {\n      \"column\": \"Accuracy_Score\",\n      \"properties\": {\n        \"dtype\": \"number\",\n        \"std\": 0.00032087450606043706,\n        \"min\": 0.9982561473731025,\n        \"max\": 0.9995201479348805,\n        \"num_unique_values\": 15,\n        \"samples\": [\n          0.9991222218320986,\n          0.9994265182636377,\n          0.9991924440855307\n        ],\n        \"semantic_type\": \"\",\n        \"description\": \"\"\n      }\n    },\n    {\n      \"column\": \"ROC_AUC_Score\",\n      \"properties\": {\n        \"dtype\": \"number\",\n        \"std\": 0.036946295648427954,\n        \"min\": 0.8749648279500558,\n        \"max\": 0.9750558475117358,\n        \"num_unique_values\": 18,\n        \"samples\": [\n          0.9750558475117358,\n          0.9743020645359587,\n          0.9598023077300879\n        ],\n        \"semantic_type\": \"\",\n        \"description\": \"\"\n      }\n    }\n  ]\n}"
            }
          },
          "metadata": {},
          "execution_count": 73
        }
      ]
    },
    {
      "cell_type": "markdown",
      "source": [
        "# Final Comapare\n"
      ],
      "metadata": {
        "id": "bIfxee-g6ftf"
      }
    },
    {
      "cell_type": "code",
      "source": [
        "df = pd.DataFrame({\n",
        "    'Model': ['RF_GS_PCA', 'RF_RS_PCA', 'XGB_PCA', 'LGBM_PCA', 'CB_PCA', 'Tensorflow_PCA', 'Pytorch_PCA',\n",
        "              'XGB_tSNE', 'LGBM_tSNE', 'CB_tSNE', 'Tensorflow_tSNE', 'Pytorch_tSNE', 'XGB_UMAP', 'LGBM_UMAP',\n",
        "              'CB_UMAP', 'Tensorflow_UMAP', 'Pytorch_UMAP', 'RF_SMOTE', 'XGB_SMOTE', 'LGBM_SMOTE', 'CB_SMOTE',\n",
        "              'TensorFlow_SMOTE', 'Pytorch_SMOTE', 'RF_BLS', 'XGB_BLS', 'LGBM_BLS', 'CB_BLS', 'TensorFlow_BLS',\n",
        "              'Pytorch_BLS', 'RF_ADASYN', 'XGB_ADASYN', 'LGBM_ADASYN', 'CB_ADASYN', 'TensorFlow_ADASYN', 'Pytorch_ADASYN'],\n",
        "\n",
        "    'Accuracy_Score': [accuracy_score(y_test, rf_grid_pred), accuracy_score(y_test, rf_random_pred), accuracy_score(y_test, xgb_pred_pca),\n",
        "              accuracy_score(y_test, lgb_pred_pca), accuracy_score(y_test, cb_pred_pca), accuracy_score(y_test, y_pred_tf_pca),\n",
        "              accuracy_score(y_test, pth_y_pred_pca), accuracy_score(y_test, xgb_pred_tsne), accuracy_score(y_test, lgb_pred_tsne),\n",
        "              accuracy_score(y_test, cb_pred_tsne), accuracy_score(y_test, y_pred_tf_tsne), accuracy_score(y_test, pth_y_pred_tsne),\n",
        "              accuracy_score(y_test, xgb_pred_umap), accuracy_score(y_test, lgb_pred_umap), accuracy_score(y_test, cb_pred_umap),\n",
        "              accuracy_score(y_test, y_pred_tf_umap), accuracy_score(y_test, pth_y_pred_umap), accuracy_score(y_test, y_pred_rf_st),\n",
        "              accuracy_score(y_test, y_pred_xgb_st), accuracy_score(y_test, y_pred_lgbm_st), accuracy_score(y_test, y_pred_cb_st),\n",
        "              accuracy_score(y_test, y_pred_tf_st), accuracy_score(y_test, pth_y_pred_st), accuracy_score(y_test, y_pred_rf_bl),\n",
        "              accuracy_score(y_test, y_pred_xgb_bl), accuracy_score(y_test, y_pred_lgbm_bl), accuracy_score(y_test, y_pred_cb_bl),\n",
        "              accuracy_score(y_test, y_pred_tf_bls), accuracy_score(y_test, pth_y_pred_bls), accuracy_score(y_test, y_pred_rf_ads),\n",
        "              accuracy_score(y_test, y_pred_xgb_ads), accuracy_score(y_test, y_pred_lgbm_ads), accuracy_score(y_test, y_pred_cb_ads),\n",
        "              accuracy_score(y_test, y_pred_tf_ads), accuracy_score(y_test, pth_y_pred_ads)],\n",
        "\n",
        "    'ROC_AUC_Score': [roc_auc_score(y_test, rf_grid_pred_pb), roc_auc_score(y_test, rf_random_pred_pb), roc_auc_score(y_test, xgb_pred_pca_pb),\n",
        "              roc_auc_score(y_test, lgb_pred_pca_pb), roc_auc_score(y_test, cb_pred_pca_pb), roc_auc_score(y_test, y_pred_proba_tf_pca),\n",
        "              roc_auc_score(y_true_pca, y_pred_proba_pca), roc_auc_score(y_test, xgb_pred_tsne_pb), roc_auc_score(y_test, lgb_pred_tsne_pb),\n",
        "              roc_auc_score(y_test, cb_pred_tsne_pb), roc_auc_score(y_test, y_pred_proba_tf_tsne), roc_auc_score(y_true_tsne, y_pred_proba_tsne),\n",
        "              roc_auc_score(y_test, xgb_pred_umap_pb), roc_auc_score(y_test, lgb_pred_umap_pb), roc_auc_score(y_test, cb_pred_umap_pb),\n",
        "              roc_auc_score(y_test, y_pred_proba_tf_umap), roc_auc_score(y_true_umap, y_pred_proba_umap), roc_auc_score(y_test, y_pred_rf_pb_st),\n",
        "              roc_auc_score(y_test, y_pred_xgb_pb_st), roc_auc_score(y_test, y_pred_lgbm_pb_st), roc_auc_score(y_test, y_pred_cb_pb_st),\n",
        "              roc_auc_score(y_test, y_pred_tf_pb_st), roc_auc_score(y_true_st, y_pred_proba_st), roc_auc_score(y_test, y_pred_rf_bl),\n",
        "              roc_auc_score(y_test, y_pred_xgb_bl), roc_auc_score(y_test, y_pred_lgbm_bl), roc_auc_score(y_test, y_pred_cb_bl),\n",
        "              roc_auc_score(y_test, y_pred_tf_pb_bls), roc_auc_score(y_true_bls, y_pred_proba_bls), roc_auc_score(y_test, y_pred_rf_ads),\n",
        "              roc_auc_score(y_test, y_pred_xgb_ads), roc_auc_score(y_test, y_pred_lgbm_ads), roc_auc_score(y_test, y_pred_cb_ads),\n",
        "              roc_auc_score(y_test, y_pred_tf_pb_ads), roc_auc_score(y_true_ads, y_pred_proba_ads)]\n",
        "})\n",
        "\n",
        "sorted_df = df.sort_values(by='ROC_AUC_Score', ascending=False)\n",
        "sorted_df"
      ],
      "metadata": {
        "colab": {
          "base_uri": "https://localhost:8080/",
          "height": 1000
        },
        "id": "6AuzMzqM6fdc",
        "outputId": "b972bb7b-0a01-4ea6-ef22-75b76cbc7765"
      },
      "execution_count": null,
      "outputs": [
        {
          "output_type": "execute_result",
          "data": {
            "text/plain": [
              "                Model  Accuracy_Score  ROC_AUC_Score\n",
              "19         LGBM_SMOTE        0.999192       0.975056\n",
              "20           CB_SMOTE        0.999345       0.974302\n",
              "18          XGB_SMOTE        0.999497       0.973664\n",
              "34     Pytorch_ADASYN        0.999111       0.972163\n",
              "17           RF_SMOTE        0.999520       0.972040\n",
              "28        Pytorch_BLS        0.999274       0.964879\n",
              "33  TensorFlow_ADASYN        0.998256       0.964579\n",
              "21   TensorFlow_SMOTE        0.999064       0.963720\n",
              "22      Pytorch_SMOTE        0.999263       0.959802\n",
              "27     TensorFlow_BLS        0.999122       0.951411\n",
              "31        LGBM_ADASYN        0.998642       0.918380\n",
              "30         XGB_ADASYN        0.999427       0.908655\n",
              "32          CB_ADASYN        0.999204       0.908543\n",
              "26             CB_BLS        0.999298       0.905218\n",
              "24            XGB_BLS        0.999427       0.891792\n",
              "6         Pytorch_PCA        0.998268       0.888498\n",
              "29          RF_ADASYN        0.999485       0.888449\n",
              "25           LGBM_BLS        0.999345       0.888379\n",
              "0           RF_GS_PCA        0.998268       0.883233\n",
              "10    Tensorflow_tSNE        0.998268       0.875330\n",
              "23             RF_BLS        0.999497       0.874965\n",
              "9             CB_tSNE        0.998268       0.873849\n",
              "7            XGB_tSNE        0.998268       0.872255\n",
              "5      Tensorflow_PCA        0.998268       0.860985\n",
              "12           XGB_UMAP        0.998268       0.853545\n",
              "4              CB_PCA        0.998198       0.852258\n",
              "14            CB_UMAP        0.998268       0.852185\n",
              "3            LGBM_PCA        0.997835       0.846498\n",
              "11       Pytorch_tSNE        0.998268       0.846371\n",
              "2             XGB_PCA        0.998163       0.834420\n",
              "13          LGBM_UMAP        0.997343       0.822245\n",
              "8           LGBM_tSNE        0.997191       0.813176\n",
              "15    Tensorflow_UMAP        0.998268       0.810492\n",
              "1           RF_RS_PCA        0.998268       0.779064\n",
              "16       Pytorch_UMAP        0.998268       0.760430"
            ],
            "text/html": [
              "\n",
              "  <div id=\"df-3ecaf909-1e69-4945-b815-76802c68051c\" class=\"colab-df-container\">\n",
              "    <div>\n",
              "<style scoped>\n",
              "    .dataframe tbody tr th:only-of-type {\n",
              "        vertical-align: middle;\n",
              "    }\n",
              "\n",
              "    .dataframe tbody tr th {\n",
              "        vertical-align: top;\n",
              "    }\n",
              "\n",
              "    .dataframe thead th {\n",
              "        text-align: right;\n",
              "    }\n",
              "</style>\n",
              "<table border=\"1\" class=\"dataframe\">\n",
              "  <thead>\n",
              "    <tr style=\"text-align: right;\">\n",
              "      <th></th>\n",
              "      <th>Model</th>\n",
              "      <th>Accuracy_Score</th>\n",
              "      <th>ROC_AUC_Score</th>\n",
              "    </tr>\n",
              "  </thead>\n",
              "  <tbody>\n",
              "    <tr>\n",
              "      <th>19</th>\n",
              "      <td>LGBM_SMOTE</td>\n",
              "      <td>0.999192</td>\n",
              "      <td>0.975056</td>\n",
              "    </tr>\n",
              "    <tr>\n",
              "      <th>20</th>\n",
              "      <td>CB_SMOTE</td>\n",
              "      <td>0.999345</td>\n",
              "      <td>0.974302</td>\n",
              "    </tr>\n",
              "    <tr>\n",
              "      <th>18</th>\n",
              "      <td>XGB_SMOTE</td>\n",
              "      <td>0.999497</td>\n",
              "      <td>0.973664</td>\n",
              "    </tr>\n",
              "    <tr>\n",
              "      <th>34</th>\n",
              "      <td>Pytorch_ADASYN</td>\n",
              "      <td>0.999111</td>\n",
              "      <td>0.972163</td>\n",
              "    </tr>\n",
              "    <tr>\n",
              "      <th>17</th>\n",
              "      <td>RF_SMOTE</td>\n",
              "      <td>0.999520</td>\n",
              "      <td>0.972040</td>\n",
              "    </tr>\n",
              "    <tr>\n",
              "      <th>28</th>\n",
              "      <td>Pytorch_BLS</td>\n",
              "      <td>0.999274</td>\n",
              "      <td>0.964879</td>\n",
              "    </tr>\n",
              "    <tr>\n",
              "      <th>33</th>\n",
              "      <td>TensorFlow_ADASYN</td>\n",
              "      <td>0.998256</td>\n",
              "      <td>0.964579</td>\n",
              "    </tr>\n",
              "    <tr>\n",
              "      <th>21</th>\n",
              "      <td>TensorFlow_SMOTE</td>\n",
              "      <td>0.999064</td>\n",
              "      <td>0.963720</td>\n",
              "    </tr>\n",
              "    <tr>\n",
              "      <th>22</th>\n",
              "      <td>Pytorch_SMOTE</td>\n",
              "      <td>0.999263</td>\n",
              "      <td>0.959802</td>\n",
              "    </tr>\n",
              "    <tr>\n",
              "      <th>27</th>\n",
              "      <td>TensorFlow_BLS</td>\n",
              "      <td>0.999122</td>\n",
              "      <td>0.951411</td>\n",
              "    </tr>\n",
              "    <tr>\n",
              "      <th>31</th>\n",
              "      <td>LGBM_ADASYN</td>\n",
              "      <td>0.998642</td>\n",
              "      <td>0.918380</td>\n",
              "    </tr>\n",
              "    <tr>\n",
              "      <th>30</th>\n",
              "      <td>XGB_ADASYN</td>\n",
              "      <td>0.999427</td>\n",
              "      <td>0.908655</td>\n",
              "    </tr>\n",
              "    <tr>\n",
              "      <th>32</th>\n",
              "      <td>CB_ADASYN</td>\n",
              "      <td>0.999204</td>\n",
              "      <td>0.908543</td>\n",
              "    </tr>\n",
              "    <tr>\n",
              "      <th>26</th>\n",
              "      <td>CB_BLS</td>\n",
              "      <td>0.999298</td>\n",
              "      <td>0.905218</td>\n",
              "    </tr>\n",
              "    <tr>\n",
              "      <th>24</th>\n",
              "      <td>XGB_BLS</td>\n",
              "      <td>0.999427</td>\n",
              "      <td>0.891792</td>\n",
              "    </tr>\n",
              "    <tr>\n",
              "      <th>6</th>\n",
              "      <td>Pytorch_PCA</td>\n",
              "      <td>0.998268</td>\n",
              "      <td>0.888498</td>\n",
              "    </tr>\n",
              "    <tr>\n",
              "      <th>29</th>\n",
              "      <td>RF_ADASYN</td>\n",
              "      <td>0.999485</td>\n",
              "      <td>0.888449</td>\n",
              "    </tr>\n",
              "    <tr>\n",
              "      <th>25</th>\n",
              "      <td>LGBM_BLS</td>\n",
              "      <td>0.999345</td>\n",
              "      <td>0.888379</td>\n",
              "    </tr>\n",
              "    <tr>\n",
              "      <th>0</th>\n",
              "      <td>RF_GS_PCA</td>\n",
              "      <td>0.998268</td>\n",
              "      <td>0.883233</td>\n",
              "    </tr>\n",
              "    <tr>\n",
              "      <th>10</th>\n",
              "      <td>Tensorflow_tSNE</td>\n",
              "      <td>0.998268</td>\n",
              "      <td>0.875330</td>\n",
              "    </tr>\n",
              "    <tr>\n",
              "      <th>23</th>\n",
              "      <td>RF_BLS</td>\n",
              "      <td>0.999497</td>\n",
              "      <td>0.874965</td>\n",
              "    </tr>\n",
              "    <tr>\n",
              "      <th>9</th>\n",
              "      <td>CB_tSNE</td>\n",
              "      <td>0.998268</td>\n",
              "      <td>0.873849</td>\n",
              "    </tr>\n",
              "    <tr>\n",
              "      <th>7</th>\n",
              "      <td>XGB_tSNE</td>\n",
              "      <td>0.998268</td>\n",
              "      <td>0.872255</td>\n",
              "    </tr>\n",
              "    <tr>\n",
              "      <th>5</th>\n",
              "      <td>Tensorflow_PCA</td>\n",
              "      <td>0.998268</td>\n",
              "      <td>0.860985</td>\n",
              "    </tr>\n",
              "    <tr>\n",
              "      <th>12</th>\n",
              "      <td>XGB_UMAP</td>\n",
              "      <td>0.998268</td>\n",
              "      <td>0.853545</td>\n",
              "    </tr>\n",
              "    <tr>\n",
              "      <th>4</th>\n",
              "      <td>CB_PCA</td>\n",
              "      <td>0.998198</td>\n",
              "      <td>0.852258</td>\n",
              "    </tr>\n",
              "    <tr>\n",
              "      <th>14</th>\n",
              "      <td>CB_UMAP</td>\n",
              "      <td>0.998268</td>\n",
              "      <td>0.852185</td>\n",
              "    </tr>\n",
              "    <tr>\n",
              "      <th>3</th>\n",
              "      <td>LGBM_PCA</td>\n",
              "      <td>0.997835</td>\n",
              "      <td>0.846498</td>\n",
              "    </tr>\n",
              "    <tr>\n",
              "      <th>11</th>\n",
              "      <td>Pytorch_tSNE</td>\n",
              "      <td>0.998268</td>\n",
              "      <td>0.846371</td>\n",
              "    </tr>\n",
              "    <tr>\n",
              "      <th>2</th>\n",
              "      <td>XGB_PCA</td>\n",
              "      <td>0.998163</td>\n",
              "      <td>0.834420</td>\n",
              "    </tr>\n",
              "    <tr>\n",
              "      <th>13</th>\n",
              "      <td>LGBM_UMAP</td>\n",
              "      <td>0.997343</td>\n",
              "      <td>0.822245</td>\n",
              "    </tr>\n",
              "    <tr>\n",
              "      <th>8</th>\n",
              "      <td>LGBM_tSNE</td>\n",
              "      <td>0.997191</td>\n",
              "      <td>0.813176</td>\n",
              "    </tr>\n",
              "    <tr>\n",
              "      <th>15</th>\n",
              "      <td>Tensorflow_UMAP</td>\n",
              "      <td>0.998268</td>\n",
              "      <td>0.810492</td>\n",
              "    </tr>\n",
              "    <tr>\n",
              "      <th>1</th>\n",
              "      <td>RF_RS_PCA</td>\n",
              "      <td>0.998268</td>\n",
              "      <td>0.779064</td>\n",
              "    </tr>\n",
              "    <tr>\n",
              "      <th>16</th>\n",
              "      <td>Pytorch_UMAP</td>\n",
              "      <td>0.998268</td>\n",
              "      <td>0.760430</td>\n",
              "    </tr>\n",
              "  </tbody>\n",
              "</table>\n",
              "</div>\n",
              "    <div class=\"colab-df-buttons\">\n",
              "\n",
              "  <div class=\"colab-df-container\">\n",
              "    <button class=\"colab-df-convert\" onclick=\"convertToInteractive('df-3ecaf909-1e69-4945-b815-76802c68051c')\"\n",
              "            title=\"Convert this dataframe to an interactive table.\"\n",
              "            style=\"display:none;\">\n",
              "\n",
              "  <svg xmlns=\"http://www.w3.org/2000/svg\" height=\"24px\" viewBox=\"0 -960 960 960\">\n",
              "    <path d=\"M120-120v-720h720v720H120Zm60-500h600v-160H180v160Zm220 220h160v-160H400v160Zm0 220h160v-160H400v160ZM180-400h160v-160H180v160Zm440 0h160v-160H620v160ZM180-180h160v-160H180v160Zm440 0h160v-160H620v160Z\"/>\n",
              "  </svg>\n",
              "    </button>\n",
              "\n",
              "  <style>\n",
              "    .colab-df-container {\n",
              "      display:flex;\n",
              "      gap: 12px;\n",
              "    }\n",
              "\n",
              "    .colab-df-convert {\n",
              "      background-color: #E8F0FE;\n",
              "      border: none;\n",
              "      border-radius: 50%;\n",
              "      cursor: pointer;\n",
              "      display: none;\n",
              "      fill: #1967D2;\n",
              "      height: 32px;\n",
              "      padding: 0 0 0 0;\n",
              "      width: 32px;\n",
              "    }\n",
              "\n",
              "    .colab-df-convert:hover {\n",
              "      background-color: #E2EBFA;\n",
              "      box-shadow: 0px 1px 2px rgba(60, 64, 67, 0.3), 0px 1px 3px 1px rgba(60, 64, 67, 0.15);\n",
              "      fill: #174EA6;\n",
              "    }\n",
              "\n",
              "    .colab-df-buttons div {\n",
              "      margin-bottom: 4px;\n",
              "    }\n",
              "\n",
              "    [theme=dark] .colab-df-convert {\n",
              "      background-color: #3B4455;\n",
              "      fill: #D2E3FC;\n",
              "    }\n",
              "\n",
              "    [theme=dark] .colab-df-convert:hover {\n",
              "      background-color: #434B5C;\n",
              "      box-shadow: 0px 1px 3px 1px rgba(0, 0, 0, 0.15);\n",
              "      filter: drop-shadow(0px 1px 2px rgba(0, 0, 0, 0.3));\n",
              "      fill: #FFFFFF;\n",
              "    }\n",
              "  </style>\n",
              "\n",
              "    <script>\n",
              "      const buttonEl =\n",
              "        document.querySelector('#df-3ecaf909-1e69-4945-b815-76802c68051c button.colab-df-convert');\n",
              "      buttonEl.style.display =\n",
              "        google.colab.kernel.accessAllowed ? 'block' : 'none';\n",
              "\n",
              "      async function convertToInteractive(key) {\n",
              "        const element = document.querySelector('#df-3ecaf909-1e69-4945-b815-76802c68051c');\n",
              "        const dataTable =\n",
              "          await google.colab.kernel.invokeFunction('convertToInteractive',\n",
              "                                                    [key], {});\n",
              "        if (!dataTable) return;\n",
              "\n",
              "        const docLinkHtml = 'Like what you see? Visit the ' +\n",
              "          '<a target=\"_blank\" href=https://colab.research.google.com/notebooks/data_table.ipynb>data table notebook</a>'\n",
              "          + ' to learn more about interactive tables.';\n",
              "        element.innerHTML = '';\n",
              "        dataTable['output_type'] = 'display_data';\n",
              "        await google.colab.output.renderOutput(dataTable, element);\n",
              "        const docLink = document.createElement('div');\n",
              "        docLink.innerHTML = docLinkHtml;\n",
              "        element.appendChild(docLink);\n",
              "      }\n",
              "    </script>\n",
              "  </div>\n",
              "\n",
              "\n",
              "<div id=\"df-7432b1f4-5d05-4475-9c9a-8c1cf5b986ae\">\n",
              "  <button class=\"colab-df-quickchart\" onclick=\"quickchart('df-7432b1f4-5d05-4475-9c9a-8c1cf5b986ae')\"\n",
              "            title=\"Suggest charts\"\n",
              "            style=\"display:none;\">\n",
              "\n",
              "<svg xmlns=\"http://www.w3.org/2000/svg\" height=\"24px\"viewBox=\"0 0 24 24\"\n",
              "     width=\"24px\">\n",
              "    <g>\n",
              "        <path d=\"M19 3H5c-1.1 0-2 .9-2 2v14c0 1.1.9 2 2 2h14c1.1 0 2-.9 2-2V5c0-1.1-.9-2-2-2zM9 17H7v-7h2v7zm4 0h-2V7h2v10zm4 0h-2v-4h2v4z\"/>\n",
              "    </g>\n",
              "</svg>\n",
              "  </button>\n",
              "\n",
              "<style>\n",
              "  .colab-df-quickchart {\n",
              "      --bg-color: #E8F0FE;\n",
              "      --fill-color: #1967D2;\n",
              "      --hover-bg-color: #E2EBFA;\n",
              "      --hover-fill-color: #174EA6;\n",
              "      --disabled-fill-color: #AAA;\n",
              "      --disabled-bg-color: #DDD;\n",
              "  }\n",
              "\n",
              "  [theme=dark] .colab-df-quickchart {\n",
              "      --bg-color: #3B4455;\n",
              "      --fill-color: #D2E3FC;\n",
              "      --hover-bg-color: #434B5C;\n",
              "      --hover-fill-color: #FFFFFF;\n",
              "      --disabled-bg-color: #3B4455;\n",
              "      --disabled-fill-color: #666;\n",
              "  }\n",
              "\n",
              "  .colab-df-quickchart {\n",
              "    background-color: var(--bg-color);\n",
              "    border: none;\n",
              "    border-radius: 50%;\n",
              "    cursor: pointer;\n",
              "    display: none;\n",
              "    fill: var(--fill-color);\n",
              "    height: 32px;\n",
              "    padding: 0;\n",
              "    width: 32px;\n",
              "  }\n",
              "\n",
              "  .colab-df-quickchart:hover {\n",
              "    background-color: var(--hover-bg-color);\n",
              "    box-shadow: 0 1px 2px rgba(60, 64, 67, 0.3), 0 1px 3px 1px rgba(60, 64, 67, 0.15);\n",
              "    fill: var(--button-hover-fill-color);\n",
              "  }\n",
              "\n",
              "  .colab-df-quickchart-complete:disabled,\n",
              "  .colab-df-quickchart-complete:disabled:hover {\n",
              "    background-color: var(--disabled-bg-color);\n",
              "    fill: var(--disabled-fill-color);\n",
              "    box-shadow: none;\n",
              "  }\n",
              "\n",
              "  .colab-df-spinner {\n",
              "    border: 2px solid var(--fill-color);\n",
              "    border-color: transparent;\n",
              "    border-bottom-color: var(--fill-color);\n",
              "    animation:\n",
              "      spin 1s steps(1) infinite;\n",
              "  }\n",
              "\n",
              "  @keyframes spin {\n",
              "    0% {\n",
              "      border-color: transparent;\n",
              "      border-bottom-color: var(--fill-color);\n",
              "      border-left-color: var(--fill-color);\n",
              "    }\n",
              "    20% {\n",
              "      border-color: transparent;\n",
              "      border-left-color: var(--fill-color);\n",
              "      border-top-color: var(--fill-color);\n",
              "    }\n",
              "    30% {\n",
              "      border-color: transparent;\n",
              "      border-left-color: var(--fill-color);\n",
              "      border-top-color: var(--fill-color);\n",
              "      border-right-color: var(--fill-color);\n",
              "    }\n",
              "    40% {\n",
              "      border-color: transparent;\n",
              "      border-right-color: var(--fill-color);\n",
              "      border-top-color: var(--fill-color);\n",
              "    }\n",
              "    60% {\n",
              "      border-color: transparent;\n",
              "      border-right-color: var(--fill-color);\n",
              "    }\n",
              "    80% {\n",
              "      border-color: transparent;\n",
              "      border-right-color: var(--fill-color);\n",
              "      border-bottom-color: var(--fill-color);\n",
              "    }\n",
              "    90% {\n",
              "      border-color: transparent;\n",
              "      border-bottom-color: var(--fill-color);\n",
              "    }\n",
              "  }\n",
              "</style>\n",
              "\n",
              "  <script>\n",
              "    async function quickchart(key) {\n",
              "      const quickchartButtonEl =\n",
              "        document.querySelector('#' + key + ' button');\n",
              "      quickchartButtonEl.disabled = true;  // To prevent multiple clicks.\n",
              "      quickchartButtonEl.classList.add('colab-df-spinner');\n",
              "      try {\n",
              "        const charts = await google.colab.kernel.invokeFunction(\n",
              "            'suggestCharts', [key], {});\n",
              "      } catch (error) {\n",
              "        console.error('Error during call to suggestCharts:', error);\n",
              "      }\n",
              "      quickchartButtonEl.classList.remove('colab-df-spinner');\n",
              "      quickchartButtonEl.classList.add('colab-df-quickchart-complete');\n",
              "    }\n",
              "    (() => {\n",
              "      let quickchartButtonEl =\n",
              "        document.querySelector('#df-7432b1f4-5d05-4475-9c9a-8c1cf5b986ae button');\n",
              "      quickchartButtonEl.style.display =\n",
              "        google.colab.kernel.accessAllowed ? 'block' : 'none';\n",
              "    })();\n",
              "  </script>\n",
              "</div>\n",
              "\n",
              "  <div id=\"id_f6557a07-fb12-4baf-bfc7-c1d724bbc694\">\n",
              "    <style>\n",
              "      .colab-df-generate {\n",
              "        background-color: #E8F0FE;\n",
              "        border: none;\n",
              "        border-radius: 50%;\n",
              "        cursor: pointer;\n",
              "        display: none;\n",
              "        fill: #1967D2;\n",
              "        height: 32px;\n",
              "        padding: 0 0 0 0;\n",
              "        width: 32px;\n",
              "      }\n",
              "\n",
              "      .colab-df-generate:hover {\n",
              "        background-color: #E2EBFA;\n",
              "        box-shadow: 0px 1px 2px rgba(60, 64, 67, 0.3), 0px 1px 3px 1px rgba(60, 64, 67, 0.15);\n",
              "        fill: #174EA6;\n",
              "      }\n",
              "\n",
              "      [theme=dark] .colab-df-generate {\n",
              "        background-color: #3B4455;\n",
              "        fill: #D2E3FC;\n",
              "      }\n",
              "\n",
              "      [theme=dark] .colab-df-generate:hover {\n",
              "        background-color: #434B5C;\n",
              "        box-shadow: 0px 1px 3px 1px rgba(0, 0, 0, 0.15);\n",
              "        filter: drop-shadow(0px 1px 2px rgba(0, 0, 0, 0.3));\n",
              "        fill: #FFFFFF;\n",
              "      }\n",
              "    </style>\n",
              "    <button class=\"colab-df-generate\" onclick=\"generateWithVariable('sorted_df')\"\n",
              "            title=\"Generate code using this dataframe.\"\n",
              "            style=\"display:none;\">\n",
              "\n",
              "  <svg xmlns=\"http://www.w3.org/2000/svg\" height=\"24px\"viewBox=\"0 0 24 24\"\n",
              "       width=\"24px\">\n",
              "    <path d=\"M7,19H8.4L18.45,9,17,7.55,7,17.6ZM5,21V16.75L18.45,3.32a2,2,0,0,1,2.83,0l1.4,1.43a1.91,1.91,0,0,1,.58,1.4,1.91,1.91,0,0,1-.58,1.4L9.25,21ZM18.45,9,17,7.55Zm-12,3A5.31,5.31,0,0,0,4.9,8.1,5.31,5.31,0,0,0,1,6.5,5.31,5.31,0,0,0,4.9,4.9,5.31,5.31,0,0,0,6.5,1,5.31,5.31,0,0,0,8.1,4.9,5.31,5.31,0,0,0,12,6.5,5.46,5.46,0,0,0,6.5,12Z\"/>\n",
              "  </svg>\n",
              "    </button>\n",
              "    <script>\n",
              "      (() => {\n",
              "      const buttonEl =\n",
              "        document.querySelector('#id_f6557a07-fb12-4baf-bfc7-c1d724bbc694 button.colab-df-generate');\n",
              "      buttonEl.style.display =\n",
              "        google.colab.kernel.accessAllowed ? 'block' : 'none';\n",
              "\n",
              "      buttonEl.onclick = () => {\n",
              "        google.colab.notebook.generateWithVariable('sorted_df');\n",
              "      }\n",
              "      })();\n",
              "    </script>\n",
              "  </div>\n",
              "\n",
              "    </div>\n",
              "  </div>\n"
            ],
            "application/vnd.google.colaboratory.intrinsic+json": {
              "type": "dataframe",
              "variable_name": "sorted_df",
              "summary": "{\n  \"name\": \"sorted_df\",\n  \"rows\": 35,\n  \"fields\": [\n    {\n      \"column\": \"Model\",\n      \"properties\": {\n        \"dtype\": \"string\",\n        \"num_unique_values\": 35,\n        \"samples\": [\n          \"CB_UMAP\",\n          \"CB_BLS\",\n          \"XGB_UMAP\"\n        ],\n        \"semantic_type\": \"\",\n        \"description\": \"\"\n      }\n    },\n    {\n      \"column\": \"Accuracy_Score\",\n      \"properties\": {\n        \"dtype\": \"number\",\n        \"std\": 0.0006476994619229667,\n        \"min\": 0.9971911098627155,\n        \"max\": 0.9995201479348805,\n        \"num_unique_values\": 21,\n        \"samples\": [\n          0.9991924440855307,\n          0.9978348138525098,\n          0.9994850368081645\n        ],\n        \"semantic_type\": \"\",\n        \"description\": \"\"\n      }\n    },\n    {\n      \"column\": \"ROC_AUC_Score\",\n      \"properties\": {\n        \"dtype\": \"number\",\n        \"std\": 0.05957312409516991,\n        \"min\": 0.7604296614452544,\n        \"max\": 0.9750558475117358,\n        \"num_unique_values\": 35,\n        \"samples\": [\n          0.8521845090884894,\n          0.9052178211390358,\n          0.8535454060074494\n        ],\n        \"semantic_type\": \"\",\n        \"description\": \"\"\n      }\n    }\n  ]\n}"
            }
          },
          "metadata": {},
          "execution_count": 74
        }
      ]
    },
    {
      "cell_type": "markdown",
      "source": [
        "---"
      ],
      "metadata": {
        "id": "FoyO9LC9TUgC"
      }
    }
  ]
}